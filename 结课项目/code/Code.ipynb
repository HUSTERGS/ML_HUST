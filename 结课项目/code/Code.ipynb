{
  "nbformat": 4,
  "nbformat_minor": 0,
  "metadata": {
    "kernelspec": {
      "name": "python3",
      "display_name": "Python 3"
    },
    "colab": {
      "name": "Code.ipynb",
      "provenance": [],
      "collapsed_sections": []
    },
    "accelerator": "TPU"
  },
  "cells": [
    {
      "cell_type": "markdown",
      "metadata": {
        "id": "irFJzwnKXVLT",
        "colab_type": "text"
      },
      "source": [
        "## 分词"
      ]
    },
    {
      "cell_type": "code",
      "metadata": {
        "id": "Y-mDvN_yn-by",
        "colab_type": "code",
        "colab": {}
      },
      "source": [
        ""
      ],
      "execution_count": null,
      "outputs": []
    },
    {
      "cell_type": "code",
      "metadata": {
        "id": "arzmf-dyX3ws",
        "colab_type": "code",
        "colab": {
          "base_uri": "https://localhost:8080/",
          "height": 35
        },
        "outputId": "b1bec5bd-e9bc-4e20-eba5-98676f696de9"
      },
      "source": [
        "%cd drive/My\\ Drive/疫情期间网民情绪识别"
      ],
      "execution_count": 2,
      "outputs": [
        {
          "output_type": "stream",
          "text": [
            "/content/drive/My Drive/疫情期间网民情绪识别\n"
          ],
          "name": "stdout"
        }
      ]
    },
    {
      "cell_type": "code",
      "metadata": {
        "id": "f2FAiXPclm3M",
        "colab_type": "code",
        "colab": {
          "base_uri": "https://localhost:8080/",
          "height": 35
        },
        "outputId": "f48584a5-dc40-4c01-e16e-98b3c37a7f50"
      },
      "source": [
        "!pwd"
      ],
      "execution_count": null,
      "outputs": [
        {
          "output_type": "stream",
          "text": [
            "/content\n"
          ],
          "name": "stdout"
        }
      ]
    },
    {
      "cell_type": "markdown",
      "metadata": {
        "id": "xuYh92pkXVLV",
        "colab_type": "text"
      },
      "source": [
        "### 尝试使用多种分词工具\n",
        "1. `jieba`\n",
        "2. `snownlp`\n",
        "\n",
        "### 尝试使用多种计算词向量的方法\n",
        "1. `GloVe`\n",
        "2. `CNN`\n",
        "3. 直接使用词频，`sklearn`中的`CountVectorizer`,也即词袋模型(bag of word)\n",
        "4. `tf-idf`"
      ]
    },
    {
      "cell_type": "code",
      "metadata": {
        "id": "6miRolJHXVLW",
        "colab_type": "code",
        "colab": {}
      },
      "source": [
        "import jieba\n",
        "import pandas as pd\n",
        "import numpy as np\n",
        "from gensim.models import Word2Vec\n",
        "from gensim.models.word2vec import LineSentence\n",
        "import gensim"
      ],
      "execution_count": 3,
      "outputs": []
    },
    {
      "cell_type": "markdown",
      "metadata": {
        "id": "Farsl8MxXVLe",
        "colab_type": "text"
      },
      "source": [
        "#### 通过`jieba.add_word('台中')`来强制加入词语"
      ]
    },
    {
      "cell_type": "code",
      "metadata": {
        "id": "bNcSsm0yXVLf",
        "colab_type": "code",
        "colab": {
          "base_uri": "https://localhost:8080/",
          "height": 85
        },
        "outputId": "0bc02121-8f4c-43c7-d686-735fa8583a05"
      },
      "source": [
        "# 手动加入一些词语\n",
        "jieba.add_word('共抗')"
      ],
      "execution_count": null,
      "outputs": [
        {
          "output_type": "stream",
          "text": [
            "Building prefix dict from the default dictionary ...\n",
            "Loading model from cache /tmp/jieba.cache\n",
            "Loading model cost 0.745 seconds.\n",
            "Prefix dict has been built successfully.\n"
          ],
          "name": "stderr"
        }
      ]
    },
    {
      "cell_type": "code",
      "metadata": {
        "id": "fWJWlnVzXVLn",
        "colab_type": "code",
        "colab": {}
      },
      "source": [
        "## 用于生成停用词的set\n",
        "\n",
        "def makeStopWord():\n",
        "    from os import listdir\n",
        "    stopword = set()\n",
        "    for file in listdir('stopwords'):\n",
        "        if file.endswith(\"txt\"):\n",
        "            with open(f'stopwords/{file}') as f:\n",
        "                lines = f.readlines()\n",
        "                for line in lines:\n",
        "                    words = jieba.lcut(line, cut_all=False)\n",
        "                    for word in words:\n",
        "                        stopword.add(word.strip())\n",
        "    return stopword"
      ],
      "execution_count": null,
      "outputs": []
    },
    {
      "cell_type": "code",
      "metadata": {
        "id": "yDvEicLkXVLv",
        "colab_type": "code",
        "colab": {
          "base_uri": "https://localhost:8080/",
          "height": 89
        },
        "outputId": "ede2c96a-f4a8-431a-8821-bbea460b592e"
      },
      "source": [
        "stopwords = makeStopWord()\n",
        "def split_with_jieba(sentence):\n",
        "    from re import match\n",
        "    words = jieba.lcut(sentence, HMM=False)\n",
        "    words = [x.strip() for x in words]\n",
        "    # 不能在停用词中，并且去除纯数字\n",
        "    return list(filter(lambda x: x not in stopwords and match(\"\\d+$\", x) == None, words))"
      ],
      "execution_count": null,
      "outputs": [
        {
          "output_type": "stream",
          "text": [
            "Building prefix dict from the default dictionary ...\n",
            "Dumping model to file cache /tmp/jieba.cache\n",
            "Loading model cost 0.949 seconds.\n",
            "Prefix dict has been built successfully.\n"
          ],
          "name": "stderr"
        }
      ]
    },
    {
      "cell_type": "code",
      "metadata": {
        "id": "-cJ5k8xsdaXk",
        "colab_type": "code",
        "colab": {}
      },
      "source": [
        ""
      ],
      "execution_count": null,
      "outputs": []
    },
    {
      "cell_type": "code",
      "metadata": {
        "id": "_YlYyiOVXXGq",
        "colab_type": "code",
        "colab": {}
      },
      "source": [
        ""
      ],
      "execution_count": null,
      "outputs": []
    },
    {
      "cell_type": "code",
      "metadata": {
        "id": "0XRYbEyrYrmN",
        "colab_type": "code",
        "colab": {}
      },
      "source": [
        ""
      ],
      "execution_count": null,
      "outputs": []
    },
    {
      "cell_type": "code",
      "metadata": {
        "id": "dDB-SkjmXIWM",
        "colab_type": "code",
        "colab": {}
      },
      "source": [
        "def cleanComment(comment):\n",
        "    import re\n",
        "    comment = re.sub('#.*?#', '', comment)\n",
        "    comment = re.sub('//@.*?:', '', comment)\n",
        "    comment = re.sub('//@.*?：', '', comment)\n",
        "    comment = re.sub('//.*?:', '', comment)\n",
        "    comment = re.sub('//.*?：', '', comment)\n",
        "    comment = re.sub('【.*?】', '', comment)\n",
        "    comment = re.sub('《.*?》', '', comment)\n",
        "    comment = re.sub('//.*?//', '', comment)\n",
        "    comment = re.sub('@.*?：', '', comment)\n",
        "    comment = re.sub('@.*?:', '', comment)\n",
        "    comment = re.sub('『.*?』', '', comment)\n",
        "    comment = re.sub(r'\\d', '', comment)\n",
        "    return comment"
      ],
      "execution_count": null,
      "outputs": []
    },
    {
      "cell_type": "code",
      "metadata": {
        "id": "vi_tnKyfpD8v",
        "colab_type": "code",
        "colab": {}
      },
      "source": [
        "df = pd.concat([train_df, test_df])"
      ],
      "execution_count": null,
      "outputs": []
    },
    {
      "cell_type": "code",
      "metadata": {
        "id": "olTPAM6BXVL0",
        "colab_type": "code",
        "colab": {}
      },
      "source": [
        "## 载入分词好的csv文件\n",
        "train_df = pd.read_csv(\"./train_jieba.csv\")\n",
        "test_df = pd.read_csv(\"./test_labled_jieba.csv\")\n",
        "train_df['jieba_cut'] = train_df[\"jieba_cut\"].apply(eval)\n",
        "test_df['jieba_cut'] = test_df[\"jieba_cut\"].apply(eval)\n",
        "df = pd.concat([train_df, test_df])\n",
        "# X_train, X_validation, Y_train, Y_validation = train_test_split(df[\"jieba_cut\"], df[\"情感倾向\"],test_size = 0.2,stratify=df[\"情感倾向\"], random_state=1)"
      ],
      "execution_count": 74,
      "outputs": []
    },
    {
      "cell_type": "code",
      "metadata": {
        "id": "MIP9BBvQXArA",
        "colab_type": "code",
        "colab": {
          "base_uri": "https://localhost:8080/",
          "height": 419
        },
        "outputId": "5cfb9d66-40d9-4c0c-e4b8-403be47fc758"
      },
      "source": [
        "train_df"
      ],
      "execution_count": null,
      "outputs": [
        {
          "output_type": "execute_result",
          "data": {
            "text/html": [
              "<div>\n",
              "<style scoped>\n",
              "    .dataframe tbody tr th:only-of-type {\n",
              "        vertical-align: middle;\n",
              "    }\n",
              "\n",
              "    .dataframe tbody tr th {\n",
              "        vertical-align: top;\n",
              "    }\n",
              "\n",
              "    .dataframe thead th {\n",
              "        text-align: right;\n",
              "    }\n",
              "</style>\n",
              "<table border=\"1\" class=\"dataframe\">\n",
              "  <thead>\n",
              "    <tr style=\"text-align: right;\">\n",
              "      <th></th>\n",
              "      <th>微博中文内容</th>\n",
              "      <th>情感倾向</th>\n",
              "      <th>jieba_cut</th>\n",
              "    </tr>\n",
              "  </thead>\n",
              "  <tbody>\n",
              "    <tr>\n",
              "      <th>0</th>\n",
              "      <td>中国加油一起加油//@企鹅倩儿:#医护后盾#致敬所有前线医护工作者和志愿者们辛苦，因为你们我...</td>\n",
              "      <td>1</td>\n",
              "      <td>[中国, 加油, 加油, 致敬, 前线, 医护, 工作者, 志愿者, 辛苦, 平安, 加油,...</td>\n",
              "    </tr>\n",
              "    <tr>\n",
              "      <th>1</th>\n",
              "      <td>决定一个人最终高度的，往往并非起点，而是拐点，机遇都在拐点！2020年是鼠年，鼠在12生肖里...</td>\n",
              "      <td>1</td>\n",
              "      <td>[最终, 高度, 起点, 拐点, 机遇, 拐点, 年, 鼠年, 鼠, 生肖, 里, 排, 第...</td>\n",
              "    </tr>\n",
              "    <tr>\n",
              "      <th>2</th>\n",
              "      <td>我们都会尊重“遍体鳞伤但仍心无恨意，笑对人生的人”。陶勇医生，加油！</td>\n",
              "      <td>1</td>\n",
              "      <td>[尊重, 遍体鳞伤, 心, 恨意, 笑对人生, 陶, 勇, 医生, 加油]</td>\n",
              "    </tr>\n",
              "    <tr>\n",
              "      <th>3</th>\n",
              "      <td>【#关注新型冠状病毒疫情#7大热点，钟南山李兰娟院士答疑】现在疫情处于什么阶段？“方舱医院”...</td>\n",
              "      <td>1</td>\n",
              "      <td>[疫情, 处于, 阶段, 方舱, 医院, 收治, 一类, 患者, 双黄连, 热门, 药品, ...</td>\n",
              "    </tr>\n",
              "    <tr>\n",
              "      <th>4</th>\n",
              "      <td>解释:病毒变成结晶在空气里，然后人or别的呼吸进去了，它就寄存在别的生物体里复制它的RNA（...</td>\n",
              "      <td>0</td>\n",
              "      <td>[解释, 病毒, 结晶, 空气, 里, 呼吸, 寄存, 生物体, 里, 复制, RNA, 高...</td>\n",
              "    </tr>\n",
              "    <tr>\n",
              "      <th>...</th>\n",
              "      <td>...</td>\n",
              "      <td>...</td>\n",
              "      <td>...</td>\n",
              "    </tr>\n",
              "    <tr>\n",
              "      <th>44596</th>\n",
              "      <td>#你平安回来我承包一年家务#【疫情期间如何解决焦虑情绪？】人类的悲喜不相通，焦虑却出奇一致....</td>\n",
              "      <td>-1</td>\n",
              "      <td>[人类, 悲喜, 相通, 焦虑, 出奇, 害怕, 安静, 逃避, 独处, 陷入, 恶性循环,...</td>\n",
              "    </tr>\n",
              "    <tr>\n",
              "      <th>44597</th>\n",
              "      <td>#seu通知#日前，#新型冠状病毒#感染的肺炎疫情持续蔓延，江苏省教育系统已启动突发公共卫生...</td>\n",
              "      <td>0</td>\n",
              "      <td>[日前, 感染, 肺炎, 疫情, 持续, 蔓延, 江苏省, 教育, 系统, 启动, 突发, ...</td>\n",
              "    </tr>\n",
              "    <tr>\n",
              "      <th>44598</th>\n",
              "      <td>//@新疆发布:#众志成城打赢疫情防控阻击战#众志成城防疫情，我在新疆，我承诺！#疫情防控动态#</td>\n",
              "      <td>1</td>\n",
              "      <td>[众志成城, 防疫, 情, 新疆, 承诺]</td>\n",
              "    </tr>\n",
              "    <tr>\n",
              "      <th>44599</th>\n",
              "      <td>//@吾六一061://@暖白系野原小丸子:女将军//@沈泊舟123://@画长平://@楚...</td>\n",
              "      <td>0</td>\n",
              "      <td>[女将军, 女将军, 陈, 薇, 院士, 李, 兰, 娟, 专家, 国宝级, 人物, 配, ...</td>\n",
              "    </tr>\n",
              "    <tr>\n",
              "      <th>44600</th>\n",
              "      <td>由于临床需求量太大，口罩和防护服等都是一次性消耗物品，加上很多捐赠不一定符合医用O800套防...</td>\n",
              "      <td>-1</td>\n",
              "      <td>[临床, 需求量, 太, 口罩, 防护服, 一次性, 消耗, 物品, 捐赠, 符合, 医用,...</td>\n",
              "    </tr>\n",
              "  </tbody>\n",
              "</table>\n",
              "<p>44601 rows × 3 columns</p>\n",
              "</div>"
            ],
            "text/plain": [
              "                                                  微博中文内容  ...                                          jieba_cut\n",
              "0      中国加油一起加油//@企鹅倩儿:#医护后盾#致敬所有前线医护工作者和志愿者们辛苦，因为你们我...  ...  [中国, 加油, 加油, 致敬, 前线, 医护, 工作者, 志愿者, 辛苦, 平安, 加油,...\n",
              "1      决定一个人最终高度的，往往并非起点，而是拐点，机遇都在拐点！2020年是鼠年，鼠在12生肖里...  ...  [最终, 高度, 起点, 拐点, 机遇, 拐点, 年, 鼠年, 鼠, 生肖, 里, 排, 第...\n",
              "2                     我们都会尊重“遍体鳞伤但仍心无恨意，笑对人生的人”。陶勇医生，加油！  ...              [尊重, 遍体鳞伤, 心, 恨意, 笑对人生, 陶, 勇, 医生, 加油]\n",
              "3      【#关注新型冠状病毒疫情#7大热点，钟南山李兰娟院士答疑】现在疫情处于什么阶段？“方舱医院”...  ...  [疫情, 处于, 阶段, 方舱, 医院, 收治, 一类, 患者, 双黄连, 热门, 药品, ...\n",
              "4      解释:病毒变成结晶在空气里，然后人or别的呼吸进去了，它就寄存在别的生物体里复制它的RNA（...  ...  [解释, 病毒, 结晶, 空气, 里, 呼吸, 寄存, 生物体, 里, 复制, RNA, 高...\n",
              "...                                                  ...  ...                                                ...\n",
              "44596  #你平安回来我承包一年家务#【疫情期间如何解决焦虑情绪？】人类的悲喜不相通，焦虑却出奇一致....  ...  [人类, 悲喜, 相通, 焦虑, 出奇, 害怕, 安静, 逃避, 独处, 陷入, 恶性循环,...\n",
              "44597  #seu通知#日前，#新型冠状病毒#感染的肺炎疫情持续蔓延，江苏省教育系统已启动突发公共卫生...  ...  [日前, 感染, 肺炎, 疫情, 持续, 蔓延, 江苏省, 教育, 系统, 启动, 突发, ...\n",
              "44598   //@新疆发布:#众志成城打赢疫情防控阻击战#众志成城防疫情，我在新疆，我承诺！#疫情防控动态#  ...                              [众志成城, 防疫, 情, 新疆, 承诺]\n",
              "44599  //@吾六一061://@暖白系野原小丸子:女将军//@沈泊舟123://@画长平://@楚...  ...  [女将军, 女将军, 陈, 薇, 院士, 李, 兰, 娟, 专家, 国宝级, 人物, 配, ...\n",
              "44600  由于临床需求量太大，口罩和防护服等都是一次性消耗物品，加上很多捐赠不一定符合医用O800套防...  ...  [临床, 需求量, 太, 口罩, 防护服, 一次性, 消耗, 物品, 捐赠, 符合, 医用,...\n",
              "\n",
              "[44601 rows x 3 columns]"
            ]
          },
          "metadata": {
            "tags": []
          },
          "execution_count": 20
        }
      ]
    },
    {
      "cell_type": "code",
      "metadata": {
        "id": "CrlKlZPoXmOR",
        "colab_type": "code",
        "colab": {
          "base_uri": "https://localhost:8080/",
          "height": 127
        },
        "outputId": "e6a7a657-f777-4ede-d44d-9fd12dd54a29"
      },
      "source": [
        "from google.colab import drive\n",
        "drive.mount('/content/drive')"
      ],
      "execution_count": 1,
      "outputs": [
        {
          "output_type": "stream",
          "text": [
            "Go to this URL in a browser: https://accounts.google.com/o/oauth2/auth?client_id=947318989803-6bn6qk8qdgf4n4g3pfee6491hc0brc4i.apps.googleusercontent.com&redirect_uri=urn%3aietf%3awg%3aoauth%3a2.0%3aoob&response_type=code&scope=email%20https%3a%2f%2fwww.googleapis.com%2fauth%2fdocs.test%20https%3a%2f%2fwww.googleapis.com%2fauth%2fdrive%20https%3a%2f%2fwww.googleapis.com%2fauth%2fdrive.photos.readonly%20https%3a%2f%2fwww.googleapis.com%2fauth%2fpeopleapi.readonly\n",
            "\n",
            "Enter your authorization code:\n",
            "··········\n",
            "Mounted at /content/drive\n"
          ],
          "name": "stdout"
        }
      ]
    },
    {
      "cell_type": "code",
      "metadata": {
        "id": "9rB0q3bVX42w",
        "colab_type": "code",
        "colab": {}
      },
      "source": [
        "!rm ./test_labled_jieba.csv"
      ],
      "execution_count": null,
      "outputs": []
    },
    {
      "cell_type": "code",
      "metadata": {
        "id": "MzRvKBd5XVMI",
        "colab_type": "code",
        "colab": {
          "base_uri": "https://localhost:8080/",
          "height": 53
        },
        "outputId": "39ddc28a-8729-4ae7-eed2-e01620ebdfc8"
      },
      "source": [
        "# 为测试集和训练集添加一列为jieba分词的结果\n",
        "train_df = pd.read_csv(\"./train.csv\")\n",
        "test_df = pd.read_csv(\"./test_labled.csv\")\n",
        "train_df['jieba_cut'] = train_df[\"微博中文内容\"].apply(cleanComment)\n",
        "test_df['jieba_cut'] = test_df[\"微博中文内容\"].apply(cleanComment)\n",
        "train_df['jieba_cut'] = train_df[\"jieba_cut\"].apply(split_with_jieba)\n",
        "test_df['jieba_cut'] = test_df[\"jieba_cut\"].apply(split_with_jieba)\n",
        "train_df[train_df['jieba_cut'].apply(lambda x: len(x) != 0)].to_csv('./train_jieba.csv', index=False)\n",
        "test_df[train_df['jieba_cut'].apply(lambda x: len(x) != 0)].to_csv('./test_labled_jieba.csv', index=False)"
      ],
      "execution_count": null,
      "outputs": [
        {
          "output_type": "stream",
          "text": [
            "/usr/local/lib/python3.6/dist-packages/ipykernel_launcher.py:9: UserWarning: Boolean Series key will be reindexed to match DataFrame index.\n",
            "  if __name__ == '__main__':\n"
          ],
          "name": "stderr"
        }
      ]
    },
    {
      "cell_type": "markdown",
      "metadata": {
        "id": "Tx1PvVb-XVMP",
        "colab_type": "text"
      },
      "source": [
        "## 以下是计算词向量的过程"
      ]
    },
    {
      "cell_type": "markdown",
      "metadata": {
        "id": "9msz5HS_XVMQ",
        "colab_type": "text"
      },
      "source": [
        "### 1. 使用`CountVectorizer`,即bag of word"
      ]
    },
    {
      "cell_type": "code",
      "metadata": {
        "id": "Egw-Uq6iXVMR",
        "colab_type": "code",
        "colab": {}
      },
      "source": [
        "from sklearn.feature_extraction.text import CountVectorizer\n",
        "vect = CountVectorizer(max_df = 0.8, \n",
        "                       min_df = 3, \n",
        "                       token_pattern=u'(?u)\\\\b[^\\\\d\\\\W]\\\\w+\\\\b', \n",
        "                       stop_words=makeStopWord())"
      ],
      "execution_count": null,
      "outputs": []
    },
    {
      "cell_type": "markdown",
      "metadata": {
        "id": "bkULkDHxUCCk",
        "colab_type": "text"
      },
      "source": [
        "### 2. 使用`tf-idf`"
      ]
    },
    {
      "cell_type": "code",
      "metadata": {
        "id": "RcFbidGZUc3B",
        "colab_type": "code",
        "colab": {}
      },
      "source": [
        "from sklearn.feature_extraction.text import TfidfVectorizer\n",
        "vectorizer = TfidfVectorizer(stop_words=makeStopWord(),max_df=0.8,min_df = 5, use_idf=True, sublinear_tf=True, smooth_idf=True, token_pattern=u'(?u)\\\\b[^\\\\d\\\\W]\\\\w+\\\\b')"
      ],
      "execution_count": null,
      "outputs": []
    },
    {
      "cell_type": "code",
      "metadata": {
        "id": "zbZMiTSYqa4J",
        "colab_type": "code",
        "colab": {}
      },
      "source": [
        "train_vect = vectorizer.fit_transform((\" \".join(x) for x in train_df.jieba_cut.values))\n",
        "test_vect = vectorizer.transform((\" \".join(x) for x in test_df.jieba_cut.values))"
      ],
      "execution_count": null,
      "outputs": []
    },
    {
      "cell_type": "code",
      "metadata": {
        "id": "L_hugWb7Uo27",
        "colab_type": "code",
        "colab": {}
      },
      "source": [
        "# corpus = train_df.jieba_cut.values\n",
        "from itertools import chain\n",
        "corpus = [\" \".join(x) for x in chain(train_df.jieba_cut, test_df.jieba_cut)]"
      ],
      "execution_count": null,
      "outputs": []
    },
    {
      "cell_type": "code",
      "metadata": {
        "id": "1d6v3trhVhTg",
        "colab_type": "code",
        "colab": {
          "base_uri": "https://localhost:8080/",
          "height": 35
        },
        "outputId": "729bbbb9-5ac0-442d-f132-11ff34378523"
      },
      "source": [
        "corpus[0]"
      ],
      "execution_count": null,
      "outputs": [
        {
          "output_type": "execute_result",
          "data": {
            "application/vnd.google.colaboratory.intrinsic": {
              "type": "string"
            },
            "text/plain": [
              "'中国 加油 加油 企鹅 倩 医护 后盾 致敬 前线 医护 工作者 志愿者 辛苦 平安 加油 平安 归来 秦 俊杰 工作室 致敬 奋斗 一线 医护 工作者 抗 疫情 始终'"
            ]
          },
          "metadata": {
            "tags": []
          },
          "execution_count": 17
        }
      ]
    },
    {
      "cell_type": "code",
      "metadata": {
        "id": "R5tyHiT2V613",
        "colab_type": "code",
        "colab": {
          "base_uri": "https://localhost:8080/",
          "height": 34
        },
        "outputId": "80d59248-36f9-44f7-aac3-7d79b799e0c7"
      },
      "source": [
        "vectorizer.get_feature_names()"
      ],
      "execution_count": null,
      "outputs": [
        {
          "output_type": "execute_result",
          "data": {
            "text/plain": [
              "['龙镇', '龙门', '龙陵县', '龙飞', '龙首', '龙马精神', '龙骨', '龙齿', '龟壳', '龟背竹']"
            ]
          },
          "metadata": {
            "tags": []
          },
          "execution_count": 31
        }
      ]
    },
    {
      "cell_type": "markdown",
      "metadata": {
        "id": "fUuuO7f-alWi",
        "colab_type": "text"
      },
      "source": [
        "### 使用GloVe来训练词向量"
      ]
    },
    {
      "cell_type": "code",
      "metadata": {
        "id": "krxDAeKFPCfo",
        "colab_type": "code",
        "colab": {
          "base_uri": "https://localhost:8080/",
          "height": 35
        },
        "outputId": "6b851ead-f17e-4ce6-8077-78adca1b961c"
      },
      "source": [
        "%cd glove"
      ],
      "execution_count": 21,
      "outputs": [
        {
          "output_type": "stream",
          "text": [
            "/content/drive/My Drive/疫情期间网民情绪识别/glove\n"
          ],
          "name": "stdout"
        }
      ]
    },
    {
      "cell_type": "code",
      "metadata": {
        "id": "asTpICs6arTp",
        "colab_type": "code",
        "colab": {}
      },
      "source": [
        "!rm build -rf"
      ],
      "execution_count": 23,
      "outputs": []
    },
    {
      "cell_type": "code",
      "metadata": {
        "id": "JwgBj2mEaoyU",
        "colab_type": "code",
        "colab": {
          "base_uri": "https://localhost:8080/",
          "height": 1000
        },
        "outputId": "0e4a9c48-2dd1-4d46-f8be-2945f5ad4da1"
      },
      "source": [
        "!sh demo.sh"
      ],
      "execution_count": 24,
      "outputs": [
        {
          "output_type": "stream",
          "text": [
            "mkdir -p build\n",
            "gcc -c src/vocab_count.c -o build/vocab_count.o -lm -pthread -O3 -march=native -funroll-loops -Wall -Wextra -Wpedantic\n",
            "gcc -c src/cooccur.c -o build/cooccur.o -lm -pthread -O3 -march=native -funroll-loops -Wall -Wextra -Wpedantic\n",
            "\u001b[01m\u001b[Ksrc/cooccur.c:\u001b[m\u001b[K In function ‘\u001b[01m\u001b[Kmerge_files\u001b[m\u001b[K’:\n",
            "\u001b[01m\u001b[Ksrc/cooccur.c:180:9:\u001b[m\u001b[K \u001b[01;35m\u001b[Kwarning: \u001b[m\u001b[Kignoring return value of ‘\u001b[01m\u001b[Kfread\u001b[m\u001b[K’, declared with attribute warn_unused_result [\u001b[01;35m\u001b[K-Wunused-result\u001b[m\u001b[K]\n",
            "         \u001b[01;35m\u001b[Kfread(&new, sizeof(CREC), 1, fid[i])\u001b[m\u001b[K;\n",
            "         \u001b[01;35m\u001b[K^~~~~~~~~~~~~~~~~~~~~~~~~~~~~~~~~~~~\u001b[m\u001b[K\n",
            "\u001b[01m\u001b[Ksrc/cooccur.c:190:5:\u001b[m\u001b[K \u001b[01;35m\u001b[Kwarning: \u001b[m\u001b[Kignoring return value of ‘\u001b[01m\u001b[Kfread\u001b[m\u001b[K’, declared with attribute warn_unused_result [\u001b[01;35m\u001b[K-Wunused-result\u001b[m\u001b[K]\n",
            "     \u001b[01;35m\u001b[Kfread(&new, sizeof(CREC), 1, fid[i])\u001b[m\u001b[K;\n",
            "     \u001b[01;35m\u001b[K^~~~~~~~~~~~~~~~~~~~~~~~~~~~~~~~~~~~\u001b[m\u001b[K\n",
            "\u001b[01m\u001b[Ksrc/cooccur.c:203:9:\u001b[m\u001b[K \u001b[01;35m\u001b[Kwarning: \u001b[m\u001b[Kignoring return value of ‘\u001b[01m\u001b[Kfread\u001b[m\u001b[K’, declared with attribute warn_unused_result [\u001b[01;35m\u001b[K-Wunused-result\u001b[m\u001b[K]\n",
            "         \u001b[01;35m\u001b[Kfread(&new, sizeof(CREC), 1, fid[i])\u001b[m\u001b[K;\n",
            "         \u001b[01;35m\u001b[K^~~~~~~~~~~~~~~~~~~~~~~~~~~~~~~~~~~~\u001b[m\u001b[K\n",
            "gcc -c src/shuffle.c -o build/shuffle.o -lm -pthread -O3 -march=native -funroll-loops -Wall -Wextra -Wpedantic\n",
            "\u001b[01m\u001b[Ksrc/shuffle.c:\u001b[m\u001b[K In function ‘\u001b[01m\u001b[Kshuffle_merge\u001b[m\u001b[K’:\n",
            "\u001b[01m\u001b[Ksrc/shuffle.c:96:17:\u001b[m\u001b[K \u001b[01;35m\u001b[Kwarning: \u001b[m\u001b[Kignoring return value of ‘\u001b[01m\u001b[Kfread\u001b[m\u001b[K’, declared with attribute warn_unused_result [\u001b[01;35m\u001b[K-Wunused-result\u001b[m\u001b[K]\n",
            "                 \u001b[01;35m\u001b[Kfread(&array[i], sizeof(CREC), 1, fid[j])\u001b[m\u001b[K;\n",
            "                 \u001b[01;35m\u001b[K^~~~~~~~~~~~~~~~~~~~~~~~~~~~~~~~~~~~~~~~~\u001b[m\u001b[K\n",
            "\u001b[01m\u001b[Ksrc/shuffle.c:\u001b[m\u001b[K In function ‘\u001b[01m\u001b[Kshuffle_by_chunks\u001b[m\u001b[K’:\n",
            "\u001b[01m\u001b[Ksrc/shuffle.c:161:9:\u001b[m\u001b[K \u001b[01;35m\u001b[Kwarning: \u001b[m\u001b[Kignoring return value of ‘\u001b[01m\u001b[Kfread\u001b[m\u001b[K’, declared with attribute warn_unused_result [\u001b[01;35m\u001b[K-Wunused-result\u001b[m\u001b[K]\n",
            "         \u001b[01;35m\u001b[Kfread(&array[i], sizeof(CREC), 1, fin)\u001b[m\u001b[K;\n",
            "         \u001b[01;35m\u001b[K^~~~~~~~~~~~~~~~~~~~~~~~~~~~~~~~~~~~~~\u001b[m\u001b[K\n",
            "gcc -c src/glove.c -o build/glove.o -lm -pthread -O3 -march=native -funroll-loops -Wall -Wextra -Wpedantic\n",
            "\u001b[01m\u001b[Ksrc/glove.c:\u001b[m\u001b[K In function ‘\u001b[01m\u001b[Kload_init_file\u001b[m\u001b[K’:\n",
            "\u001b[01m\u001b[Ksrc/glove.c:86:9:\u001b[m\u001b[K \u001b[01;35m\u001b[Kwarning: \u001b[m\u001b[Kignoring return value of ‘\u001b[01m\u001b[Kfread\u001b[m\u001b[K’, declared with attribute warn_unused_result [\u001b[01;35m\u001b[K-Wunused-result\u001b[m\u001b[K]\n",
            "         \u001b[01;35m\u001b[Kfread(&array[a], sizeof(real), 1, fin)\u001b[m\u001b[K;\n",
            "         \u001b[01;35m\u001b[K^~~~~~~~~~~~~~~~~~~~~~~~~~~~~~~~~~~~~~\u001b[m\u001b[K\n",
            "\u001b[01m\u001b[Ksrc/glove.c:\u001b[m\u001b[K In function ‘\u001b[01m\u001b[Kglove_thread\u001b[m\u001b[K’:\n",
            "\u001b[01m\u001b[Ksrc/glove.c:182:9:\u001b[m\u001b[K \u001b[01;35m\u001b[Kwarning: \u001b[m\u001b[Kignoring return value of ‘\u001b[01m\u001b[Kfread\u001b[m\u001b[K’, declared with attribute warn_unused_result [\u001b[01;35m\u001b[K-Wunused-result\u001b[m\u001b[K]\n",
            "         \u001b[01;35m\u001b[Kfread(&cr, sizeof(CREC), 1, fin)\u001b[m\u001b[K;\n",
            "         \u001b[01;35m\u001b[K^~~~~~~~~~~~~~~~~~~~~~~~~~~~~~~~\u001b[m\u001b[K\n",
            "gcc -c src/common.c -o build/common.o -lm -pthread -O3 -march=native -funroll-loops -Wall -Wextra -Wpedantic\n",
            "gcc build/vocab_count.o build/common.o -o build/vocab_count -lm -pthread -O3 -march=native -funroll-loops -Wall -Wextra -Wpedantic\n",
            "gcc build/cooccur.o build/common.o -o build/cooccur -lm -pthread -O3 -march=native -funroll-loops -Wall -Wextra -Wpedantic\n",
            "gcc build/shuffle.o build/common.o -o build/shuffle -lm -pthread -O3 -march=native -funroll-loops -Wall -Wextra -Wpedantic\n",
            "gcc build/glove.o build/common.o -o build/glove -lm -pthread -O3 -march=native -funroll-loops -Wall -Wextra -Wpedantic\n",
            "\n",
            "$ build/vocab_count -min-count 5 -verbose 2 < ../corpus.txt > vocab.txt\n",
            "BUILDING VOCABULARY\n",
            "Processed 0 tokens.\u001b[11G100000 tokens.\u001b[11G200000 tokens.\u001b[11G300000 tokens.\u001b[11G400000 tokens.\u001b[11G500000 tokens.\u001b[11G600000 tokens.\u001b[11G700000 tokens.\u001b[11G800000 tokens.\u001b[11G900000 tokens.\u001b[11G1000000 tokens.\u001b[0GProcessed 1060334 tokens.\n",
            "Counted 56880 unique words.\n",
            "Truncating vocabulary at min count 5.\n",
            "Using vocabulary of size 18751.\n",
            "\n",
            "$ build/cooccur -memory 8.0 -vocab-file vocab.txt -verbose 2 -window-size 5 < ../corpus.txt > cooccurrence.bin\n",
            "tcmalloc: large alloc 1216913408 bytes == 0x564e84e40000 @  0x7f69beb8f1e7 0x564e826d1462 0x564e826d012c 0x7f69be1cfb97 0x564e826d034a\n",
            "COUNTING COOCCURRENCES\n",
            "window size: 5\n",
            "context: symmetric\n",
            "max product: 26461224\n",
            "overflow length: 76056712\n",
            "Reading vocab from file \"vocab.txt\"...loaded 18751 words.\n",
            "Building lookup table...table contains 94894155 elements.\n",
            "Processing token: 0\u001b[19G100000\u001b[19G200000\u001b[19G300000\u001b[19G400000\u001b[19G500000\u001b[19G600000\u001b[19G700000\u001b[19G800000\u001b[19G900000\u001b[19G1000000\u001b[0GProcessed 1060334 tokens.\n",
            "Writing cooccurrences to disk........2 files in total.\n",
            "Merging cooccurrence files: processed 0 lines.\u001b[39G100000 lines.\u001b[39G200000 lines.\u001b[39G300000 lines.\u001b[39G400000 lines.\u001b[39G500000 lines.\u001b[39G600000 lines.\u001b[39G700000 lines.\u001b[39G800000 lines.\u001b[39G900000 lines.\u001b[39G1000000 lines.\u001b[39G1100000 lines.\u001b[39G1200000 lines.\u001b[39G1300000 lines.\u001b[39G1400000 lines.\u001b[39G1500000 lines.\u001b[39G1600000 lines.\u001b[39G1700000 lines.\u001b[39G1800000 lines.\u001b[39G1900000 lines.\u001b[39G2000000 lines.\u001b[39G2100000 lines.\u001b[39G2200000 lines.\u001b[39G2300000 lines.\u001b[39G2400000 lines.\u001b[39G2500000 lines.\u001b[39G2600000 lines.\u001b[39G2700000 lines.\u001b[39G2800000 lines.\u001b[39G2900000 lines.\u001b[39G3000000 lines.\u001b[39G3100000 lines.\u001b[39G3200000 lines.\u001b[39G3300000 lines.\u001b[39G3400000 lines.\u001b[39G3500000 lines.\u001b[39G3600000 lines.\u001b[0GMerging cooccurrence files: processed 3633137 lines.\n",
            "\n",
            "$ build/shuffle -memory 8.0 -verbose 2 < cooccurrence.bin > cooccurrence.shuf.bin\n",
            "Using random seed 1595643532\n",
            "tcmalloc: large alloc 8160444416 bytes == 0x559e9e07a000 @  0x7f2cf49a31e7 0x559e9ca0ed26 0x559e9ca0dec5 0x7f2cf4381b97 0x559e9ca0e01a\n",
            "SHUFFLING COOCCURRENCES\n",
            "array size: 510027366\n",
            "Shuffling by chunks: processed 0 lines.\u001b[22Gprocessed 3633137 lines.\n",
            "Wrote 1 temporary file(s).\n",
            "tcmalloc: large alloc 8160444416 bytes == 0x559e9e07a000 @  0x7f2cf49a31e7 0x559e9ca0e3fb 0x559e9ca0f3be 0x559e9ca0dec5 0x7f2cf4381b97 0x559e9ca0e01a\n",
            "Merging temp files: processed 0 lines.\u001b[31G3633137 lines.\u001b[0GMerging temp files: processed 3633137 lines.\n",
            "\n",
            "$ build/glove -save-file vectors -threads 8 -input-file cooccurrence.shuf.bin -x-max 10 -iter 30 -vector-size 800 -binary 2 -vocab-file vocab.txt -verbose 2\n",
            "TRAINING MODEL\n",
            "Read 3633137 lines.\n",
            "Initializing parameters...Using random seed 1595643535\n",
            "done.\n",
            "vector size: 800\n",
            "vocab size: 18751\n",
            "x_max: 10.000000\n",
            "alpha: 0.750000\n",
            "07/25/20 - 02:19.37AM, iter: 001, cost: 0.098448\n",
            "07/25/20 - 02:20.18AM, iter: 002, cost: 0.083574\n",
            "07/25/20 - 02:20.59AM, iter: 003, cost: 0.076353\n",
            "07/25/20 - 02:21.40AM, iter: 004, cost: 0.070437\n",
            "07/25/20 - 02:22.21AM, iter: 005, cost: 0.064206\n",
            "07/25/20 - 02:23.02AM, iter: 006, cost: 0.058071\n",
            "07/25/20 - 02:23.43AM, iter: 007, cost: 0.052211\n",
            "07/25/20 - 02:24.28AM, iter: 008, cost: 0.046702\n",
            "07/25/20 - 02:25.09AM, iter: 009, cost: 0.041589\n",
            "07/25/20 - 02:25.51AM, iter: 010, cost: 0.037019\n",
            "07/25/20 - 02:26.32AM, iter: 011, cost: 0.032954\n",
            "07/25/20 - 02:27.13AM, iter: 012, cost: 0.029357\n",
            "07/25/20 - 02:27.54AM, iter: 013, cost: 0.026186\n",
            "07/25/20 - 02:28.35AM, iter: 014, cost: 0.023405\n",
            "07/25/20 - 02:29.16AM, iter: 015, cost: 0.020965\n",
            "07/25/20 - 02:29.58AM, iter: 016, cost: 0.018823\n",
            "07/25/20 - 02:30.39AM, iter: 017, cost: 0.016939\n",
            "07/25/20 - 02:31.20AM, iter: 018, cost: 0.015278\n",
            "07/25/20 - 02:32.01AM, iter: 019, cost: 0.013810\n",
            "07/25/20 - 02:32.42AM, iter: 020, cost: 0.012509\n",
            "07/25/20 - 02:33.23AM, iter: 021, cost: 0.011351\n",
            "07/25/20 - 02:34.04AM, iter: 022, cost: 0.010317\n",
            "07/25/20 - 02:34.47AM, iter: 023, cost: 0.009392\n",
            "07/25/20 - 02:35.28AM, iter: 024, cost: 0.008563\n",
            "07/25/20 - 02:36.09AM, iter: 025, cost: 0.007818\n",
            "07/25/20 - 02:36.50AM, iter: 026, cost: 0.007147\n",
            "07/25/20 - 02:37.31AM, iter: 027, cost: 0.006542\n",
            "07/25/20 - 02:38.12AM, iter: 028, cost: 0.005996\n",
            "07/25/20 - 02:38.53AM, iter: 029, cost: 0.005502\n",
            "07/25/20 - 02:39.34AM, iter: 030, cost: 0.005054\n"
          ],
          "name": "stdout"
        }
      ]
    },
    {
      "cell_type": "markdown",
      "metadata": {
        "id": "5MvkrWdFmSNs",
        "colab_type": "text"
      },
      "source": [
        "## 训练完成后在文件开头加上 单词数量 向量维度，即可使用word2vec"
      ]
    },
    {
      "cell_type": "code",
      "metadata": {
        "id": "SPq5A-gMmZaf",
        "colab_type": "code",
        "colab": {}
      },
      "source": [
        "!echo '18752 800' | cat - vectors.txt > temp && mv temp vector.txt\n",
        "# !head -n 5 \"vector.txt\"\n",
        "# !ls\n",
        "# %cd .."
      ],
      "execution_count": 25,
      "outputs": []
    },
    {
      "cell_type": "code",
      "metadata": {
        "id": "MWHqEc_9oFKT",
        "colab_type": "code",
        "colab": {
          "base_uri": "https://localhost:8080/",
          "height": 73
        },
        "outputId": "ead01deb-bee9-4b62-bc03-6bf055db4eac"
      },
      "source": [
        "model = gensim.models.KeyedVectors.load_word2vec_format('glove/vector.txt', binary=False)"
      ],
      "execution_count": 53,
      "outputs": [
        {
          "output_type": "stream",
          "text": [
            "/usr/local/lib/python3.6/dist-packages/smart_open/smart_open_lib.py:254: UserWarning: This function is deprecated, use smart_open.open instead. See the migration notes for details: https://github.com/RaRe-Technologies/smart_open/blob/master/README.rst#migrating-to-the-new-open-function\n",
            "  'See the migration notes for details: %s' % _MIGRATION_NOTES_URL\n"
          ],
          "name": "stderr"
        }
      ]
    },
    {
      "cell_type": "markdown",
      "metadata": {
        "id": "8WssEYdU8PVm",
        "colab_type": "text"
      },
      "source": [
        "## 使用GloVe_python训练词向量"
      ]
    },
    {
      "cell_type": "code",
      "metadata": {
        "id": "XYZ1ByAG8WPp",
        "colab_type": "code",
        "colab": {
          "base_uri": "https://localhost:8080/",
          "height": 253
        },
        "outputId": "7371ea71-7c9e-49bc-ee52-d1717459670a"
      },
      "source": [
        "!pip install glove_python"
      ],
      "execution_count": null,
      "outputs": [
        {
          "output_type": "stream",
          "text": [
            "Collecting glove_python\n",
            "\u001b[?25l  Downloading https://files.pythonhosted.org/packages/3e/79/7e7e548dd9dcb741935d031117f4bed133276c2a047aadad42f1552d1771/glove_python-0.1.0.tar.gz (263kB)\n",
            "\u001b[K     |████████████████████████████████| 266kB 2.8MB/s \n",
            "\u001b[?25hRequirement already satisfied: numpy in /usr/local/lib/python3.6/dist-packages (from glove_python) (1.18.5)\n",
            "Requirement already satisfied: scipy in /usr/local/lib/python3.6/dist-packages (from glove_python) (1.4.1)\n",
            "Building wheels for collected packages: glove-python\n",
            "  Building wheel for glove-python (setup.py) ... \u001b[?25l\u001b[?25hdone\n",
            "  Created wheel for glove-python: filename=glove_python-0.1.0-cp36-cp36m-linux_x86_64.whl size=700232 sha256=7281254b1bd54f3b2f315468c2e72a7839ae047de15ef8af4134634ca48e58d5\n",
            "  Stored in directory: /root/.cache/pip/wheels/88/4b/6d/10c0d2ad32c9d9d68beec9694a6f0b6e83ab1662a90a089a4b\n",
            "Successfully built glove-python\n",
            "Installing collected packages: glove-python\n",
            "Successfully installed glove-python-0.1.0\n"
          ],
          "name": "stdout"
        }
      ]
    },
    {
      "cell_type": "code",
      "metadata": {
        "id": "X38BB6yFZp7Q",
        "colab_type": "code",
        "colab": {}
      },
      "source": [
        "from glove import Corpus\n",
        "from glove import Glove"
      ],
      "execution_count": null,
      "outputs": []
    },
    {
      "cell_type": "code",
      "metadata": {
        "id": "NWrNc90a-dyu",
        "colab_type": "code",
        "colab": {}
      },
      "source": [
        "corpus_model = Corpus()\n",
        "corpus_model.fit(list(train_df['jieba_cut']), window=10)\n",
        "\n",
        "glove = Glove(no_components=400, learning_rate=0.05)\n",
        "glove.fit(corpus_model.matrix, epochs=100,\n",
        "          no_threads=4, verbose=True)\n",
        "glove.add_dictionary(corpus_model.dictionary)"
      ],
      "execution_count": null,
      "outputs": []
    },
    {
      "cell_type": "code",
      "metadata": {
        "id": "Bh2fNkXu_lc1",
        "colab_type": "code",
        "colab": {}
      },
      "source": [
        "glove.save('glove.model')"
      ],
      "execution_count": null,
      "outputs": []
    },
    {
      "cell_type": "code",
      "metadata": {
        "id": "cO3DG8-i_mUy",
        "colab_type": "code",
        "colab": {}
      },
      "source": [
        "corpus_model.save('corpus.model')"
      ],
      "execution_count": null,
      "outputs": []
    },
    {
      "cell_type": "markdown",
      "metadata": {
        "id": "IJ-jXum9c6tR",
        "colab_type": "text"
      },
      "source": [
        ""
      ]
    },
    {
      "cell_type": "code",
      "metadata": {
        "id": "fEcvdWT4_m_v",
        "colab_type": "code",
        "colab": {}
      },
      "source": [
        "from glove import Corpus\n",
        "from glove import Glove"
      ],
      "execution_count": null,
      "outputs": []
    },
    {
      "cell_type": "code",
      "metadata": {
        "id": "GNRLzF7h_acF",
        "colab_type": "code",
        "colab": {}
      },
      "source": [
        "glove.most_similar(\"关爱\", number=10)"
      ],
      "execution_count": null,
      "outputs": []
    },
    {
      "cell_type": "code",
      "metadata": {
        "id": "NHwJ4mj7PLuS",
        "colab_type": "code",
        "colab": {
          "base_uri": "https://localhost:8080/",
          "height": 172
        },
        "outputId": "fec65c3e-3472-4a38-d330-1afbb467eedf"
      },
      "source": [
        "glove.model"
      ],
      "execution_count": null,
      "outputs": [
        {
          "output_type": "error",
          "ename": "NameError",
          "evalue": "ignored",
          "traceback": [
            "\u001b[0;31m---------------------------------------------------------------------------\u001b[0m",
            "\u001b[0;31mNameError\u001b[0m                                 Traceback (most recent call last)",
            "\u001b[0;32m<ipython-input-89-34e17ca287be>\u001b[0m in \u001b[0;36m<module>\u001b[0;34m()\u001b[0m\n\u001b[0;32m----> 1\u001b[0;31m \u001b[0mglove\u001b[0m\u001b[0;34m.\u001b[0m\u001b[0mmodel\u001b[0m\u001b[0;34m\u001b[0m\u001b[0;34m\u001b[0m\u001b[0m\n\u001b[0m",
            "\u001b[0;31mNameError\u001b[0m: name 'glove' is not defined"
          ]
        }
      ]
    },
    {
      "cell_type": "markdown",
      "metadata": {
        "id": "-eNfhRCdZicT",
        "colab_type": "text"
      },
      "source": [
        "### 使用`word2vec`计算词向量"
      ]
    },
    {
      "cell_type": "code",
      "metadata": {
        "id": "5w6Dakr5DvQk",
        "colab_type": "code",
        "colab": {}
      },
      "source": [
        ""
      ],
      "execution_count": null,
      "outputs": []
    },
    {
      "cell_type": "code",
      "metadata": {
        "id": "ABKBSHfMZhYC",
        "colab_type": "code",
        "colab": {}
      },
      "source": [
        "from gensim.models import Word2Vec\n",
        "from gensim.models.word2vec import LineSentence\n",
        "import gensim"
      ],
      "execution_count": null,
      "outputs": []
    },
    {
      "cell_type": "code",
      "metadata": {
        "id": "qLrMNLAmZ2yS",
        "colab_type": "code",
        "colab": {}
      },
      "source": [
        "!rm ./corpus.txt"
      ],
      "execution_count": null,
      "outputs": []
    },
    {
      "cell_type": "code",
      "metadata": {
        "id": "wpUUgt90aSPj",
        "colab_type": "code",
        "colab": {}
      },
      "source": [
        "## 将语料库写入文件\n",
        "with open('corpus.txt' , 'w') as f:\n",
        "  for i in corpus:\n",
        "    f.write(i + \"\\n\")"
      ],
      "execution_count": null,
      "outputs": []
    },
    {
      "cell_type": "code",
      "metadata": {
        "id": "5316Bafoav7x",
        "colab_type": "code",
        "colab": {
          "base_uri": "https://localhost:8080/",
          "height": 73
        },
        "outputId": "0ee9d835-4574-4d28-9452-c5ed075f266c"
      },
      "source": [
        "model = Word2Vec(LineSentence('./corpus.txt'), size=800, window=5, min_count=5, workers=8)"
      ],
      "execution_count": 33,
      "outputs": [
        {
          "output_type": "stream",
          "text": [
            "/usr/local/lib/python3.6/dist-packages/smart_open/smart_open_lib.py:254: UserWarning: This function is deprecated, use smart_open.open instead. See the migration notes for details: https://github.com/RaRe-Technologies/smart_open/blob/master/README.rst#migrating-to-the-new-open-function\n",
            "  'See the migration notes for details: %s' % _MIGRATION_NOTES_URL\n"
          ],
          "name": "stderr"
        }
      ]
    },
    {
      "cell_type": "code",
      "metadata": {
        "id": "jr2E0CGYc0E1",
        "colab_type": "code",
        "colab": {
          "base_uri": "https://localhost:8080/",
          "height": 73
        },
        "outputId": "6dbb17dd-a65d-4264-d6d8-6de929e009e3"
      },
      "source": [
        "model.save('word2vec_model')"
      ],
      "execution_count": null,
      "outputs": [
        {
          "output_type": "stream",
          "text": [
            "/usr/local/lib/python3.6/dist-packages/smart_open/smart_open_lib.py:254: UserWarning: This function is deprecated, use smart_open.open instead. See the migration notes for details: https://github.com/RaRe-Technologies/smart_open/blob/master/README.rst#migrating-to-the-new-open-function\n",
            "  'See the migration notes for details: %s' % _MIGRATION_NOTES_URL\n"
          ],
          "name": "stderr"
        }
      ]
    },
    {
      "cell_type": "code",
      "metadata": {
        "id": "jrIDOjA0c6wD",
        "colab_type": "code",
        "colab": {
          "base_uri": "https://localhost:8080/",
          "height": 73
        },
        "outputId": "f1487f3d-c561-4aea-ba84-a1cd34957622"
      },
      "source": [
        "model.wv.save_word2vec_format('word2vec_vector', binary=False)"
      ],
      "execution_count": null,
      "outputs": [
        {
          "output_type": "stream",
          "text": [
            "/usr/local/lib/python3.6/dist-packages/smart_open/smart_open_lib.py:254: UserWarning: This function is deprecated, use smart_open.open instead. See the migration notes for details: https://github.com/RaRe-Technologies/smart_open/blob/master/README.rst#migrating-to-the-new-open-function\n",
            "  'See the migration notes for details: %s' % _MIGRATION_NOTES_URL\n"
          ],
          "name": "stderr"
        }
      ]
    },
    {
      "cell_type": "code",
      "metadata": {
        "id": "HDwrigACdKDi",
        "colab_type": "code",
        "colab": {
          "base_uri": "https://localhost:8080/",
          "height": 73
        },
        "outputId": "9e7312ca-b456-4722-e959-b2fe6131a22b"
      },
      "source": [
        "model = Word2Vec.load(\"word2vec_model\")"
      ],
      "execution_count": null,
      "outputs": [
        {
          "output_type": "stream",
          "text": [
            "/usr/local/lib/python3.6/dist-packages/smart_open/smart_open_lib.py:254: UserWarning: This function is deprecated, use smart_open.open instead. See the migration notes for details: https://github.com/RaRe-Technologies/smart_open/blob/master/README.rst#migrating-to-the-new-open-function\n",
            "  'See the migration notes for details: %s' % _MIGRATION_NOTES_URL\n"
          ],
          "name": "stderr"
        }
      ]
    },
    {
      "cell_type": "code",
      "metadata": {
        "id": "ieNPSpFxdfS3",
        "colab_type": "code",
        "colab": {
          "base_uri": "https://localhost:8080/",
          "height": 253
        },
        "outputId": "20ba5a27-5687-4151-eb3c-a7a20b7f6992"
      },
      "source": [
        "model.most_similar('关心', topn=10)"
      ],
      "execution_count": 54,
      "outputs": [
        {
          "output_type": "stream",
          "text": [
            "/usr/local/lib/python3.6/dist-packages/gensim/matutils.py:737: FutureWarning: Conversion of the second argument of issubdtype from `int` to `np.signedinteger` is deprecated. In future, it will be treated as `np.int64 == np.dtype(int).type`.\n",
            "  if np.issubdtype(vec.dtype, np.int):\n"
          ],
          "name": "stderr"
        },
        {
          "output_type": "execute_result",
          "data": {
            "text/plain": [
              "[('作假', 0.6822944283485413),\n",
              " ('无微不至', 0.5609314441680908),\n",
              " ('同情', 0.4643115997314453),\n",
              " ('提问', 0.45355653762817383),\n",
              " ('公众', 0.43980318307876587),\n",
              " ('回答', 0.41460320353507996),\n",
              " ('爱护', 0.3883034586906433),\n",
              " ('关爱', 0.3425981402397156),\n",
              " ('新闻自由', 0.32545173168182373),\n",
              " ('帮凶', 0.3153856098651886)]"
            ]
          },
          "metadata": {
            "tags": []
          },
          "execution_count": 54
        }
      ]
    },
    {
      "cell_type": "code",
      "metadata": {
        "id": "OvU1vKSFe036",
        "colab_type": "code",
        "colab": {}
      },
      "source": [
        "def getWordVecs(wordList,model):\n",
        "    vecs = []\n",
        "    for word in wordList:\n",
        "        word = word.replace('\\n','')\n",
        "        #print word\n",
        "        try:\n",
        "            vecs.append(model[word])\n",
        "        except KeyError:\n",
        "            continue\n",
        "    return np.array(vecs, dtype='float')\n",
        "    \n",
        "\n",
        "# 构建文档词向量 \n",
        "def buildVecs(filename,model):\n",
        "    fileVecs = []\n",
        "    with open(filename, encoding='utf-8') as contents:\n",
        "        for line in contents:\n",
        "            # logger.info(\"Start line: \" + line)\n",
        "            wordList = line.split(' ')\n",
        "            vecs = getWordVecs(wordList,model)\n",
        "            #print vecs\n",
        "            #sys.exit()\n",
        "            # for each sentence, the mean vector of all its vectors is used to represent this sentence\n",
        "            if len(vecs) >0:\n",
        "                vecsArray = sum(np.array(vecs))/len(vecs) # mean\n",
        "                #print vecsArray\n",
        "                #sys.exit()\n",
        "                fileVecs.append(vecsArray)\n",
        "            else:\n",
        "              fileVecs.append(np.zeros(800))\n",
        "    return fileVecs  "
      ],
      "execution_count": 35,
      "outputs": []
    },
    {
      "cell_type": "code",
      "metadata": {
        "id": "usLNn2fVfAEc",
        "colab_type": "code",
        "colab": {}
      },
      "source": [
        "import gensim"
      ],
      "execution_count": null,
      "outputs": []
    },
    {
      "cell_type": "code",
      "metadata": {
        "id": "qkXj-xomlNCa",
        "colab_type": "code",
        "colab": {
          "base_uri": "https://localhost:8080/",
          "height": 33
        },
        "outputId": "c55cdfec-2270-4869-c8ef-cd8fd8e6cb31"
      },
      "source": [
        "count = 0\n",
        "with open('corpus.txt', encoding='utf-8') as contents:\n",
        "  for line in contents:\n",
        "    count += 1\n",
        "\n",
        "print(count)"
      ],
      "execution_count": null,
      "outputs": [
        {
          "output_type": "stream",
          "text": [
            "49500\n"
          ],
          "name": "stdout"
        }
      ]
    },
    {
      "cell_type": "code",
      "metadata": {
        "id": "IhTGO6YUn1md",
        "colab_type": "code",
        "colab": {
          "base_uri": "https://localhost:8080/",
          "height": 35
        },
        "outputId": "c7a24415-4525-4a78-9eda-06ec256cc6e0"
      },
      "source": [
        "%cd .."
      ],
      "execution_count": null,
      "outputs": [
        {
          "output_type": "stream",
          "text": [
            "/content/drive/My Drive/疫情期间网民情绪识别\n"
          ],
          "name": "stdout"
        }
      ]
    },
    {
      "cell_type": "code",
      "metadata": {
        "id": "NKIJUkWHfLCs",
        "colab_type": "code",
        "colab": {
          "base_uri": "https://localhost:8080/",
          "height": 73
        },
        "outputId": "8bb9a22b-3235-49f2-b424-145b9f2d5258"
      },
      "source": [
        "# model = gensim.models.KeyedVectors.load_word2vec_format('./word2vec_vector', binary=False)\n",
        "word2vec_vector_X = buildVecs('corpus.txt', model)"
      ],
      "execution_count": 36,
      "outputs": [
        {
          "output_type": "stream",
          "text": [
            "/usr/local/lib/python3.6/dist-packages/ipykernel_launcher.py:7: DeprecationWarning: Call to deprecated `__getitem__` (Method will be removed in 4.0.0, use self.wv.__getitem__() instead).\n",
            "  import sys\n"
          ],
          "name": "stderr"
        }
      ]
    },
    {
      "cell_type": "code",
      "metadata": {
        "id": "MMZDbXhOfiib",
        "colab_type": "code",
        "colab": {}
      },
      "source": [
        "Y = np.concatenate([train_df[\"情感倾向\"].values, test_df[\"情感倾向\"].values])\n",
        "# Y = test_df[\"情感倾向\"].values\n",
        "X = np.array(word2vec_vector_X)"
      ],
      "execution_count": 37,
      "outputs": []
    },
    {
      "cell_type": "code",
      "metadata": {
        "id": "NCMSRy0wibxM",
        "colab_type": "code",
        "colab": {
          "base_uri": "https://localhost:8080/",
          "height": 35
        },
        "outputId": "2f16134e-b06a-44e8-f3d9-7d1879a7edfe"
      },
      "source": [
        "X.shape"
      ],
      "execution_count": null,
      "outputs": [
        {
          "output_type": "execute_result",
          "data": {
            "text/plain": [
              "(49063, 800)"
            ]
          },
          "metadata": {
            "tags": []
          },
          "execution_count": 43
        }
      ]
    },
    {
      "cell_type": "code",
      "metadata": {
        "id": "zb_Rs3pbibaw",
        "colab_type": "code",
        "colab": {
          "base_uri": "https://localhost:8080/",
          "height": 35
        },
        "outputId": "8e18f5c8-85f1-40b6-9ed7-f881fb3f6e5b"
      },
      "source": [
        "len(train_df)"
      ],
      "execution_count": null,
      "outputs": [
        {
          "output_type": "execute_result",
          "data": {
            "text/plain": [
              "44919"
            ]
          },
          "metadata": {
            "tags": []
          },
          "execution_count": 15
        }
      ]
    },
    {
      "cell_type": "code",
      "metadata": {
        "id": "iTOyLVXMgz-e",
        "colab_type": "code",
        "colab": {}
      },
      "source": [
        "df_x = pd.DataFrame(X)\n",
        "df_y = pd.DataFrame(Y)\n",
        "data = pd.concat([df_y,df_x],axis = 1)\n",
        "data.to_csv('800_data_word2vec_cleaned.csv', index=False)"
      ],
      "execution_count": 38,
      "outputs": []
    },
    {
      "cell_type": "code",
      "metadata": {
        "id": "7kw8jyc_hTFW",
        "colab_type": "code",
        "colab": {}
      },
      "source": [
        "data = pd.read_csv('800_data_word2vec_cleaned.csv')"
      ],
      "execution_count": 65,
      "outputs": []
    },
    {
      "cell_type": "code",
      "metadata": {
        "id": "EYz70lJEoFv7",
        "colab_type": "code",
        "colab": {
          "base_uri": "https://localhost:8080/",
          "height": 35
        },
        "outputId": "c91853e1-da9b-4a54-b961-9ef9ea1b7e57"
      },
      "source": [
        ""
      ],
      "execution_count": null,
      "outputs": [
        {
          "output_type": "execute_result",
          "data": {
            "text/plain": [
              "(1000,)"
            ]
          },
          "metadata": {
            "tags": []
          },
          "execution_count": 75
        }
      ]
    },
    {
      "cell_type": "code",
      "metadata": {
        "id": "8awlsUnZm3M_",
        "colab_type": "code",
        "colab": {
          "base_uri": "https://localhost:8080/",
          "height": 466
        },
        "outputId": "c5638b49-9df1-4951-a944-92d31516414c"
      },
      "source": [
        "import matplotlib.pyplot as plt\n",
        "from sklearn.decomposition import PCA\n",
        "from sklearn import svm\n",
        "from sklearn import metrics\n",
        "\n",
        "\n",
        "# 获取数据 [49500 rows x 400 columns]\n",
        "# df = pd.read_csv('1000_data.csv')\n",
        "# df['x'] = df['x'].apply(eval).apply(np.array)\n",
        "# df['y'] = df['y'].apply(eval)\n",
        "\n",
        "df = data\n",
        "y = df.iloc[:,0]\n",
        "x = df.iloc[:,1:]\n",
        "# df = data\n",
        "# y = df['y']\n",
        "# x = df['x']\n",
        "# PCA降维\n",
        "##计算全部贡献率\n",
        "n_components = 800\n",
        "pca = PCA(n_components=n_components)\n",
        "pca.fit(x)\n",
        "#print pca.explained_variance_ratio_\n",
        "\n",
        "##PCA作图\n",
        "plt.figure(1, figsize=(12, 8))\n",
        "plt.clf()\n",
        "plt.axes([.2, .2, .7, .7])\n",
        "plt.plot(pca.explained_variance_, linewidth=2)\n",
        "plt.axis('tight')\n",
        "plt.xlabel('n_components')\n",
        "plt.ylabel('explained_variance_')\n",
        "plt.show()"
      ],
      "execution_count": 66,
      "outputs": [
        {
          "output_type": "display_data",
          "data": {
            "image/png": "[encoded data removed]",
            "text/plain": [
              "<Figure size 864x576 with 1 Axes>"
            ]
          },
          "metadata": {
            "tags": [],
            "needs_background": "light"
          }
        }
      ]
    },
    {
      "cell_type": "markdown",
      "metadata": {
        "id": "K8YR2LhtXVMf",
        "colab_type": "text"
      },
      "source": [
        "## 以下是训练过程"
      ]
    },
    {
      "cell_type": "code",
      "metadata": {
        "id": "dFnqhBf-b2qG",
        "colab_type": "code",
        "colab": {}
      },
      "source": [
        "##根据图形取100维\n",
        "x_pca = PCA(n_components = 50).fit_transform(x)\n",
        "X_train, X_test = x_pca[:len(train_df)], x_pca[len(train_df):]\n",
        "y_train, y_test = y[:len(train_df)], y[len(train_df):]\n",
        "\n",
        "# # SVM (RBF)\n",
        "# # using training data with 100 dimensions\n",
        "\n",
        "# clf = svm.SVC(C = 2, probability = True)\n",
        "# clf.fit(x_pca,y)\n",
        "\n",
        "# print( 'Test Accuracy: %.2f'% clf.score(x_pca,y))\n",
        "\n",
        "# #Create ROC curve\n",
        "# pred_probas = clf.predict_proba(x_pca)[:,1] #score\n",
        "\n",
        "# fpr,tpr,_ = metrics.roc_curve(y, pred_probas)\n",
        "# roc_auc = metrics.auc(fpr,tpr)\n",
        "# plt.plot(fpr, tpr, label = 'area = %.2f' % roc_auc)\n",
        "# plt.plot([0, 1], [0, 1], 'k--')\n",
        "# plt.xlim([0.0, 1.0])\n",
        "# plt.ylim([0.0, 1.05])\n",
        "# plt.legend(loc = 'lower right')\n",
        "# plt.show()"
      ],
      "execution_count": 67,
      "outputs": []
    },
    {
      "cell_type": "code",
      "metadata": {
        "id": "mor9C-3Csl_R",
        "colab_type": "code",
        "colab": {}
      },
      "source": [
        "from sklearn.model_selection import train_test_split"
      ],
      "execution_count": null,
      "outputs": []
    },
    {
      "cell_type": "code",
      "metadata": {
        "id": "pwNlB4rq3v7e",
        "colab_type": "code",
        "colab": {}
      },
      "source": [
        "X_train, X_test, y_train, y_test = train_test_split(x_pca, y, test_size=0.2, random_state=0)"
      ],
      "execution_count": null,
      "outputs": []
    },
    {
      "cell_type": "markdown",
      "metadata": {
        "id": "DNjQaC9KXVMg",
        "colab_type": "text"
      },
      "source": [
        "### 使用朴素贝叶斯"
      ]
    },
    {
      "cell_type": "code",
      "metadata": {
        "id": "jZuelUYVq_Ju",
        "colab_type": "code",
        "colab": {}
      },
      "source": [
        "from sklearn.naive_bayes import GaussianNB"
      ],
      "execution_count": null,
      "outputs": []
    },
    {
      "cell_type": "code",
      "metadata": {
        "id": "ITrA_AhFrHI2",
        "colab_type": "code",
        "colab": {
          "base_uri": "https://localhost:8080/",
          "height": 33
        },
        "outputId": "75a65b0c-2e2f-40c8-9192-0be0f99cad38"
      },
      "source": [
        "nb = GaussianNB()\n",
        "nb.fit(X_train, y_train)\n",
        "nb.score(X_test, y_test)"
      ],
      "execution_count": null,
      "outputs": [
        {
          "output_type": "execute_result",
          "data": {
            "text/plain": [
              "0.4533333333333333"
            ]
          },
          "metadata": {
            "tags": []
          },
          "execution_count": 38
        }
      ]
    },
    {
      "cell_type": "code",
      "metadata": {
        "id": "6jHjlS2cXVMi",
        "colab_type": "code",
        "colab": {}
      },
      "source": [
        "from sklearn.naive_bayes import MultinomialNB"
      ],
      "execution_count": null,
      "outputs": []
    },
    {
      "cell_type": "code",
      "metadata": {
        "id": "gfWmkFEGXVMp",
        "colab_type": "code",
        "colab": {}
      },
      "source": [
        "nb = MultinomialNB()\n",
        "nb.fit(X_train, y_train)\n",
        "nb.score(X_train, y_train)"
      ],
      "execution_count": null,
      "outputs": []
    },
    {
      "cell_type": "code",
      "metadata": {
        "id": "b7mhqVrNtg26",
        "colab_type": "code",
        "colab": {
          "base_uri": "https://localhost:8080/",
          "height": 172
        },
        "outputId": "034e22b3-4367-48bd-baee-7e1e866fb79f"
      },
      "source": [
        "nb.score(X_train, y_train)"
      ],
      "execution_count": null,
      "outputs": [
        {
          "output_type": "error",
          "ename": "NameError",
          "evalue": "ignored",
          "traceback": [
            "\u001b[0;31m---------------------------------------------------------------------------\u001b[0m",
            "\u001b[0;31mNameError\u001b[0m                                 Traceback (most recent call last)",
            "\u001b[0;32m<ipython-input-137-49939802d42b>\u001b[0m in \u001b[0;36m<module>\u001b[0;34m()\u001b[0m\n\u001b[0;32m----> 1\u001b[0;31m \u001b[0mnb\u001b[0m\u001b[0;34m.\u001b[0m\u001b[0mscore\u001b[0m\u001b[0;34m(\u001b[0m\u001b[0mX_train\u001b[0m\u001b[0;34m,\u001b[0m \u001b[0my_train\u001b[0m\u001b[0;34m)\u001b[0m\u001b[0;34m\u001b[0m\u001b[0;34m\u001b[0m\u001b[0m\n\u001b[0m",
            "\u001b[0;31mNameError\u001b[0m: name 'nb' is not defined"
          ]
        }
      ]
    },
    {
      "cell_type": "code",
      "metadata": {
        "id": "qqDC7lqWf9m_",
        "colab_type": "code",
        "colab": {
          "base_uri": "https://localhost:8080/",
          "height": 34
        },
        "outputId": "1bd377ba-dced-4d05-c8f1-82f59ebffb64"
      },
      "source": [
        "nb.score(test_vect, test_lable_df[\"情感倾向\"])"
      ],
      "execution_count": null,
      "outputs": [
        {
          "output_type": "execute_result",
          "data": {
            "text/plain": [
              "0.5568888888888889"
            ]
          },
          "metadata": {
            "tags": []
          },
          "execution_count": 42
        }
      ]
    },
    {
      "cell_type": "markdown",
      "metadata": {
        "id": "6ryiny_OXVNB",
        "colab_type": "text"
      },
      "source": [
        "### 使用KNN"
      ]
    },
    {
      "cell_type": "code",
      "metadata": {
        "id": "v_r5qFTqXVNC",
        "colab_type": "code",
        "colab": {}
      },
      "source": [
        "from sklearn.neighbors import KNeighborsClassifier"
      ],
      "execution_count": null,
      "outputs": []
    },
    {
      "cell_type": "code",
      "metadata": {
        "id": "MatVXN5_XVNG",
        "colab_type": "code",
        "colab": {
          "base_uri": "https://localhost:8080/",
          "height": 66
        },
        "outputId": "99c7ac09-fac4-4ca5-9691-45f007ce2cbb"
      },
      "source": [
        "knn = KNeighborsClassifier()\n",
        "knn.fit(X_train, y_train)"
      ],
      "execution_count": null,
      "outputs": [
        {
          "output_type": "execute_result",
          "data": {
            "text/plain": [
              "KNeighborsClassifier(algorithm='auto', leaf_size=30, metric='minkowski',\n",
              "                     metric_params=None, n_jobs=None, n_neighbors=5, p=2,\n",
              "                     weights='uniform')"
            ]
          },
          "metadata": {
            "tags": []
          },
          "execution_count": 23
        }
      ]
    },
    {
      "cell_type": "code",
      "metadata": {
        "id": "EzPZynbNXVNL",
        "colab_type": "code",
        "colab": {}
      },
      "source": [
        "knn.score(X_train, y_train)"
      ],
      "execution_count": null,
      "outputs": []
    },
    {
      "cell_type": "code",
      "metadata": {
        "id": "YmKO5Q77rhqe",
        "colab_type": "code",
        "colab": {}
      },
      "source": [
        "X_train.shape"
      ],
      "execution_count": null,
      "outputs": []
    },
    {
      "cell_type": "code",
      "metadata": {
        "id": "JulwWXWFrkav",
        "colab_type": "code",
        "colab": {}
      },
      "source": [
        "X_test.shape"
      ],
      "execution_count": null,
      "outputs": []
    },
    {
      "cell_type": "code",
      "metadata": {
        "id": "HjSVgHitf2WX",
        "colab_type": "code",
        "colab": {
          "base_uri": "https://localhost:8080/",
          "height": 34
        },
        "outputId": "4e5d9022-dcc5-4d91-fef6-691fa5296502"
      },
      "source": [
        "knn.score(test_vect, test_lable_df[\"情感倾向\"])"
      ],
      "execution_count": null,
      "outputs": [
        {
          "output_type": "execute_result",
          "data": {
            "text/plain": [
              "0.48288888888888887"
            ]
          },
          "metadata": {
            "tags": []
          },
          "execution_count": 38
        }
      ]
    },
    {
      "cell_type": "markdown",
      "metadata": {
        "id": "1VABPwQHXVNR",
        "colab_type": "text"
      },
      "source": [
        "### 使用SVM"
      ]
    },
    {
      "cell_type": "code",
      "metadata": {
        "id": "v9MdbzNqXVNS",
        "colab_type": "code",
        "colab": {}
      },
      "source": [
        "from sklearn import svm"
      ],
      "execution_count": 61,
      "outputs": []
    },
    {
      "cell_type": "code",
      "metadata": {
        "id": "teRmJ2eUXVNi",
        "colab_type": "code",
        "colab": {
          "base_uri": "https://localhost:8080/",
          "height": 35
        },
        "outputId": "ba560c3c-b6e7-4cd8-efa4-9dd73d2272ec"
      },
      "source": [
        "clf = svm.SVC(C=0.1, probability=True, cache_size=8192)\n",
        "clf.fit(X_train, y_train)\n",
        "clf.score(X_train, y_train)"
      ],
      "execution_count": 68,
      "outputs": [
        {
          "output_type": "execute_result",
          "data": {
            "text/plain": [
              "0.6780341247954081"
            ]
          },
          "metadata": {
            "tags": []
          },
          "execution_count": 68
        }
      ]
    },
    {
      "cell_type": "code",
      "metadata": {
        "id": "-nJdQFIWfs1i",
        "colab_type": "code",
        "colab": {
          "base_uri": "https://localhost:8080/",
          "height": 35
        },
        "outputId": "d79b4e99-8174-400c-a9fb-06ce80fdd4ae"
      },
      "source": [
        "clf.score(X_test, y_test)"
      ],
      "execution_count": 69,
      "outputs": [
        {
          "output_type": "execute_result",
          "data": {
            "text/plain": [
              "0.557373375168086"
            ]
          },
          "metadata": {
            "tags": []
          },
          "execution_count": 69
        }
      ]
    },
    {
      "cell_type": "code",
      "metadata": {
        "id": "ac6ys_3U6QQp",
        "colab_type": "code",
        "colab": {
          "base_uri": "https://localhost:8080/",
          "height": 197
        },
        "outputId": "f1a57b79-007b-47d6-d941-b3aa1b78acae"
      },
      "source": [
        "print(classification_report(y_test, clf.predict(X_test)))"
      ],
      "execution_count": 70,
      "outputs": [
        {
          "output_type": "stream",
          "text": [
            "              precision    recall  f1-score   support\n",
            "\n",
            "          -1       0.66      0.73      0.69      1489\n",
            "           0       0.49      0.40      0.44      1488\n",
            "           1       0.50      0.55      0.53      1485\n",
            "\n",
            "    accuracy                           0.56      4462\n",
            "   macro avg       0.55      0.56      0.55      4462\n",
            "weighted avg       0.55      0.56      0.55      4462\n",
            "\n"
          ],
          "name": "stdout"
        }
      ]
    },
    {
      "cell_type": "markdown",
      "metadata": {
        "id": "UPfsMONkqpgO",
        "colab_type": "text"
      },
      "source": [
        "### 针对tf-idf"
      ]
    },
    {
      "cell_type": "code",
      "metadata": {
        "id": "0cYoTICbqr2V",
        "colab_type": "code",
        "colab": {
          "base_uri": "https://localhost:8080/",
          "height": 70
        },
        "outputId": "ed5ac29b-5c66-49c3-8fe5-66c05a86ad06"
      },
      "source": [
        "import time\n",
        "from sklearn import svm\n",
        "from sklearn.metrics import classification_report\n",
        "# Perform classification with SVM, kernel=linear\n",
        "classifier_linear = svm.SVC(kernel='linear')\n",
        "t0 = time.time()\n",
        "classifier_linear.fit(train_vect, train_df['情感倾向'])\n",
        "t1 = time.time()\n",
        "prediction_linear = classifier_linear.predict(test_vect)\n",
        "t2 = time.time()\n",
        "time_linear_train = t1-t0\n",
        "time_linear_predict = t2-t1\n",
        "# results\n",
        "print(\"Training time: %fs; Prediction time: %fs\" % (time_linear_train, time_linear_predict))\n",
        "report = classification_report(test_df[\"情感倾向\"], prediction_linear, output_dict=True)\n",
        "# print('positive: ', report['pos'])\n",
        "# print('negative: ', report['neg'])\n",
        "print(report)"
      ],
      "execution_count": null,
      "outputs": [
        {
          "output_type": "stream",
          "text": [
            "Training time: 686.561199s; Prediction time: 24.878952s\n",
            "{'-1': {'precision': 0.6208035222894882, 'recall': 0.752, 'f1-score': 0.6801326499849261, 'support': 1500}, '0': {'precision': 0.4148380355276907, 'recall': 0.26466666666666666, 'f1-score': 0.32315832315832316, 'support': 1500}, '1': {'precision': 0.48261877172653533, 'recall': 0.5553333333333333, 'f1-score': 0.5164290142591444, 'support': 1500}, 'accuracy': 0.524, 'macro avg': {'precision': 0.5060867765145715, 'recall': 0.524, 'f1-score': 0.5065733291341313, 'support': 4500}, 'weighted avg': {'precision': 0.5060867765145713, 'recall': 0.524, 'f1-score': 0.5065733291341312, 'support': 4500}}\n"
          ],
          "name": "stdout"
        }
      ]
    },
    {
      "cell_type": "markdown",
      "metadata": {
        "id": "2gWUmmxIapcJ",
        "colab_type": "text"
      },
      "source": [
        "## 使用LogisticRegression\n"
      ]
    },
    {
      "cell_type": "code",
      "metadata": {
        "id": "tQfLGrcKatpq",
        "colab_type": "code",
        "colab": {
          "base_uri": "https://localhost:8080/",
          "height": 35
        },
        "outputId": "6ce33850-c8a6-410e-d787-6beace7a4b0d"
      },
      "source": [
        "from sklearn.linear_model import LogisticRegression\n",
        "lr = LogisticRegression(C=0.001, random_state=1, max_iter=10000)\n",
        "lr.fit(X_train, y_train)\n",
        "lr.score(X_train, y_train)"
      ],
      "execution_count": 58,
      "outputs": [
        {
          "output_type": "execute_result",
          "data": {
            "text/plain": [
              "0.6485953229748211"
            ]
          },
          "metadata": {
            "tags": []
          },
          "execution_count": 58
        }
      ]
    },
    {
      "cell_type": "code",
      "metadata": {
        "id": "-2VaRU5qcvRx",
        "colab_type": "code",
        "colab": {
          "base_uri": "https://localhost:8080/",
          "height": 35
        },
        "outputId": "56903c98-9820-4e7a-9b70-d8683fabe147"
      },
      "source": [
        "lr.score(X_test, y_test)"
      ],
      "execution_count": 59,
      "outputs": [
        {
          "output_type": "execute_result",
          "data": {
            "text/plain": [
              "0.5755266696548633"
            ]
          },
          "metadata": {
            "tags": []
          },
          "execution_count": 59
        }
      ]
    },
    {
      "cell_type": "code",
      "metadata": {
        "id": "J98bhcCtI2KG",
        "colab_type": "code",
        "colab": {}
      },
      "source": [
        ""
      ],
      "execution_count": null,
      "outputs": []
    },
    {
      "cell_type": "code",
      "metadata": {
        "id": "8tMzkA9U9W-X",
        "colab_type": "code",
        "colab": {
          "base_uri": "https://localhost:8080/",
          "height": 197
        },
        "outputId": "a39bdb53-5911-4516-bfb0-4a0b2462d6e0"
      },
      "source": [
        "print(classification_report(y_test, lr.predict(X_test)))"
      ],
      "execution_count": 60,
      "outputs": [
        {
          "output_type": "stream",
          "text": [
            "              precision    recall  f1-score   support\n",
            "\n",
            "          -1       0.65      0.74      0.69      1489\n",
            "           0       0.54      0.46      0.49      1488\n",
            "           1       0.53      0.53      0.53      1485\n",
            "\n",
            "    accuracy                           0.58      4462\n",
            "   macro avg       0.57      0.58      0.57      4462\n",
            "weighted avg       0.57      0.58      0.57      4462\n",
            "\n"
          ],
          "name": "stdout"
        }
      ]
    },
    {
      "cell_type": "code",
      "metadata": {
        "id": "_n4f3pJh9VFC",
        "colab_type": "code",
        "colab": {}
      },
      "source": [
        "from sklearn.metrics import classification_report"
      ],
      "execution_count": 49,
      "outputs": []
    },
    {
      "cell_type": "markdown",
      "metadata": {
        "id": "6R1QTHeYXVNn",
        "colab_type": "text"
      },
      "source": [
        "## 直接使用snownlp"
      ]
    },
    {
      "cell_type": "code",
      "metadata": {
        "id": "FsBBdO63XVNo",
        "colab_type": "code",
        "colab": {}
      },
      "source": [
        "from snownlp import SnowNLP"
      ],
      "execution_count": null,
      "outputs": []
    },
    {
      "cell_type": "code",
      "metadata": {
        "id": "Ig9o0znGXVNt",
        "colab_type": "code",
        "colab": {}
      },
      "source": [
        "def snownlp_sentiment(sentence):\n",
        "    s = SnowNLP(sentence).sentiments\n",
        "    if s < 1/3:\n",
        "        return -1\n",
        "    elif 1/3 < s < 2/3:\n",
        "        return 0\n",
        "    else:\n",
        "        return 1"
      ],
      "execution_count": null,
      "outputs": []
    },
    {
      "cell_type": "code",
      "metadata": {
        "id": "L4X72gs8XVNz",
        "colab_type": "code",
        "colab": {}
      },
      "source": [
        "snownlp_sentiment_result = train_df[\"微博中文内容\"].apply(lambda x: SnowNLP(x).sentiments)"
      ],
      "execution_count": null,
      "outputs": []
    },
    {
      "cell_type": "code",
      "metadata": {
        "id": "HFixQjI-7EoL",
        "colab_type": "code",
        "colab": {}
      },
      "source": [
        "SnowNLP?"
      ],
      "execution_count": null,
      "outputs": []
    },
    {
      "cell_type": "code",
      "metadata": {
        "id": "wn8gWTW35mHI",
        "colab_type": "code",
        "colab": {
          "base_uri": "https://localhost:8080/",
          "height": 73
        },
        "outputId": "ad0418a7-2a53-4efa-a32f-c4c1def4753a"
      },
      "source": [
        "import seaborn as sns"
      ],
      "execution_count": null,
      "outputs": [
        {
          "output_type": "stream",
          "text": [
            "/usr/local/lib/python3.6/dist-packages/statsmodels/tools/_testing.py:19: FutureWarning: pandas.util.testing is deprecated. Use the functions in the public API at pandas.testing instead.\n",
            "  import pandas.util.testing as tm\n"
          ],
          "name": "stderr"
        }
      ]
    },
    {
      "cell_type": "code",
      "metadata": {
        "id": "RCdtcrX35200",
        "colab_type": "code",
        "colab": {}
      },
      "source": [
        "def lulala(x):\n",
        "  if (x <= 0.1):\n",
        "      return -1\n",
        "  elif (x >= 0.9):\n",
        "      return 1\n",
        "  return 0"
      ],
      "execution_count": null,
      "outputs": []
    },
    {
      "cell_type": "code",
      "metadata": {
        "id": "aJ-dzPEr6DDu",
        "colab_type": "code",
        "colab": {}
      },
      "source": [
        ""
      ],
      "execution_count": null,
      "outputs": []
    },
    {
      "cell_type": "code",
      "metadata": {
        "id": "YHu7JdeY66OX",
        "colab_type": "code",
        "colab": {
          "base_uri": "https://localhost:8080/",
          "height": 233
        },
        "outputId": "b4da63d8-beeb-4124-9950-fe91ac92c908"
      },
      "source": [
        "snownlp_sentiment_result"
      ],
      "execution_count": null,
      "outputs": [
        {
          "output_type": "execute_result",
          "data": {
            "text/plain": [
              "0        1.000000\n",
              "1        0.994194\n",
              "2        0.999832\n",
              "3        0.999999\n",
              "4        0.996862\n",
              "           ...   \n",
              "44914    0.999990\n",
              "44915    0.019482\n",
              "44916    0.407133\n",
              "44917    0.999784\n",
              "44918    0.074791\n",
              "Name: 微博中文内容, Length: 44919, dtype: float64"
            ]
          },
          "metadata": {
            "tags": []
          },
          "execution_count": 72
        }
      ]
    },
    {
      "cell_type": "code",
      "metadata": {
        "id": "4dVlyi4c5o9c",
        "colab_type": "code",
        "colab": {
          "base_uri": "https://localhost:8080/",
          "height": 731
        },
        "outputId": "8ac92ce1-06c1-477b-a786-94eaa407c049"
      },
      "source": [
        "sns.distplot(snownlp_sentiment_result)"
      ],
      "execution_count": null,
      "outputs": [
        {
          "output_type": "execute_result",
          "data": {
            "text/plain": [
              "<matplotlib.axes._subplots.AxesSubplot at 0x7f6254055080>"
            ]
          },
          "metadata": {
            "tags": []
          },
          "execution_count": 66
        },
        {
          "output_type": "stream",
          "text": [
            "/usr/local/lib/python3.6/dist-packages/matplotlib/backends/backend_agg.py:214: RuntimeWarning: Glyph 24494 missing from current font.\n",
            "  font.set_text(s, 0.0, flags=flags)\n",
            "/usr/local/lib/python3.6/dist-packages/matplotlib/backends/backend_agg.py:214: RuntimeWarning: Glyph 21338 missing from current font.\n",
            "  font.set_text(s, 0.0, flags=flags)\n",
            "/usr/local/lib/python3.6/dist-packages/matplotlib/backends/backend_agg.py:214: RuntimeWarning: Glyph 20013 missing from current font.\n",
            "  font.set_text(s, 0.0, flags=flags)\n",
            "/usr/local/lib/python3.6/dist-packages/matplotlib/backends/backend_agg.py:214: RuntimeWarning: Glyph 25991 missing from current font.\n",
            "  font.set_text(s, 0.0, flags=flags)\n",
            "/usr/local/lib/python3.6/dist-packages/matplotlib/backends/backend_agg.py:214: RuntimeWarning: Glyph 20869 missing from current font.\n",
            "  font.set_text(s, 0.0, flags=flags)\n",
            "/usr/local/lib/python3.6/dist-packages/matplotlib/backends/backend_agg.py:214: RuntimeWarning: Glyph 23481 missing from current font.\n",
            "  font.set_text(s, 0.0, flags=flags)\n",
            "/usr/local/lib/python3.6/dist-packages/matplotlib/backends/backend_agg.py:183: RuntimeWarning: Glyph 24494 missing from current font.\n",
            "  font.set_text(s, 0, flags=flags)\n",
            "/usr/local/lib/python3.6/dist-packages/matplotlib/backends/backend_agg.py:183: RuntimeWarning: Glyph 21338 missing from current font.\n",
            "  font.set_text(s, 0, flags=flags)\n",
            "/usr/local/lib/python3.6/dist-packages/matplotlib/backends/backend_agg.py:183: RuntimeWarning: Glyph 20013 missing from current font.\n",
            "  font.set_text(s, 0, flags=flags)\n",
            "/usr/local/lib/python3.6/dist-packages/matplotlib/backends/backend_agg.py:183: RuntimeWarning: Glyph 25991 missing from current font.\n",
            "  font.set_text(s, 0, flags=flags)\n",
            "/usr/local/lib/python3.6/dist-packages/matplotlib/backends/backend_agg.py:183: RuntimeWarning: Glyph 20869 missing from current font.\n",
            "  font.set_text(s, 0, flags=flags)\n",
            "/usr/local/lib/python3.6/dist-packages/matplotlib/backends/backend_agg.py:183: RuntimeWarning: Glyph 23481 missing from current font.\n",
            "  font.set_text(s, 0, flags=flags)\n"
          ],
          "name": "stderr"
        },
        {
          "output_type": "display_data",
          "data": {
            "image/png": "[encoded data removed]",
            "text/plain": [
              "<Figure size 432x288 with 1 Axes>"
            ]
          },
          "metadata": {
            "tags": [],
            "needs_background": "light"
          }
        }
      ]
    },
    {
      "cell_type": "markdown",
      "metadata": {
        "id": "Q6scgfXmXVN5",
        "colab_type": "text"
      },
      "source": [
        "## 使用snownlp训练,再进行判断"
      ]
    },
    {
      "cell_type": "code",
      "metadata": {
        "id": "29v3Nytf6GIX",
        "colab_type": "code",
        "colab": {
          "base_uri": "https://localhost:8080/",
          "height": 35
        },
        "outputId": "44f36a13-7b91-42a6-9da1-6e41ca356216"
      },
      "source": [
        "sum(snownlp_sentiment_result.apply(lulala) == train_df[\"情感倾向\"].values) / len(snownlp_sentiment_result)"
      ],
      "execution_count": null,
      "outputs": [
        {
          "output_type": "execute_result",
          "data": {
            "text/plain": [
              "0.42783677285781074"
            ]
          },
          "metadata": {
            "tags": []
          },
          "execution_count": 71
        }
      ]
    },
    {
      "cell_type": "code",
      "metadata": {
        "id": "o5etcOo2XVN7",
        "colab_type": "code",
        "colab": {},
        "outputId": "ab649130-dafe-4623-b871-8583b502def5"
      },
      "source": [
        "sum((snownlp_sentiment_result == train_df[\"情感倾向\"]).values) / len(snownlp_sentiment_result)"
      ],
      "execution_count": null,
      "outputs": [
        {
          "output_type": "execute_result",
          "data": {
            "text/plain": [
              "0.43875555555555557"
            ]
          },
          "metadata": {
            "tags": []
          },
          "execution_count": 64
        }
      ]
    },
    {
      "cell_type": "markdown",
      "metadata": {
        "id": "L-Hq_6NGXVOC",
        "colab_type": "text"
      },
      "source": [
        "可见效果非常差,但是也有可能是因为分割界限的问题,对于中性的评价的范围分割有问题"
      ]
    },
    {
      "cell_type": "code",
      "metadata": {
        "id": "CDUkGXI-XVOD",
        "colab_type": "code",
        "colab": {}
      },
      "source": [
        "from snownlp import seg"
      ],
      "execution_count": null,
      "outputs": []
    },
    {
      "cell_type": "code",
      "metadata": {
        "id": "rWPfw7-NhTHv",
        "colab_type": "code",
        "colab": {}
      },
      "source": [
        "seg.train"
      ],
      "execution_count": null,
      "outputs": []
    },
    {
      "cell_type": "code",
      "metadata": {
        "id": "lGEJacEChtpg",
        "colab_type": "code",
        "colab": {}
      },
      "source": [
        "temp = np.concatenate([train_df.jieba_cut.values, test_df.jieba_cut.values])"
      ],
      "execution_count": null,
      "outputs": []
    },
    {
      "cell_type": "code",
      "metadata": {
        "id": "Tz5H1Zjjh3a-",
        "colab_type": "code",
        "colab": {}
      },
      "source": [
        "with open('data.txt', 'w+') as f:\n",
        "  for i in temp:\n",
        "    f.write(\" \".join(i) + \"\\n\")"
      ],
      "execution_count": null,
      "outputs": []
    },
    {
      "cell_type": "code",
      "metadata": {
        "id": "gpMqhufzh4Jl",
        "colab_type": "code",
        "colab": {
          "base_uri": "https://localhost:8080/",
          "height": 545
        },
        "outputId": "182e3f95-1fe8-4706-8c2c-a585f26a6982"
      },
      "source": [
        "seg.train('data.txt')"
      ],
      "execution_count": null,
      "outputs": [
        {
          "output_type": "error",
          "ename": "ValueError",
          "evalue": "ignored",
          "traceback": [
            "\u001b[0;31m---------------------------------------------------------------------------\u001b[0m",
            "\u001b[0;31mValueError\u001b[0m                                Traceback (most recent call last)",
            "\u001b[0;32m<ipython-input-65-8e31cadb89bb>\u001b[0m in \u001b[0;36m<module>\u001b[0;34m()\u001b[0m\n\u001b[0;32m----> 1\u001b[0;31m \u001b[0mseg\u001b[0m\u001b[0;34m.\u001b[0m\u001b[0mtrain\u001b[0m\u001b[0;34m(\u001b[0m\u001b[0;34m'data.txt'\u001b[0m\u001b[0;34m)\u001b[0m\u001b[0;34m\u001b[0m\u001b[0;34m\u001b[0m\u001b[0m\n\u001b[0m",
            "\u001b[0;32m/usr/local/lib/python3.6/dist-packages/snownlp/seg/__init__.py\u001b[0m in \u001b[0;36mtrain\u001b[0;34m(fname)\u001b[0m\n\u001b[1;32m     33\u001b[0m     \u001b[0;32mglobal\u001b[0m \u001b[0msegger\u001b[0m\u001b[0;34m\u001b[0m\u001b[0;34m\u001b[0m\u001b[0m\n\u001b[1;32m     34\u001b[0m     \u001b[0msegger\u001b[0m \u001b[0;34m=\u001b[0m \u001b[0mTnTseg\u001b[0m\u001b[0;34m.\u001b[0m\u001b[0mSeg\u001b[0m\u001b[0;34m(\u001b[0m\u001b[0;34m)\u001b[0m\u001b[0;34m\u001b[0m\u001b[0;34m\u001b[0m\u001b[0m\n\u001b[0;32m---> 35\u001b[0;31m     \u001b[0msegger\u001b[0m\u001b[0;34m.\u001b[0m\u001b[0mtrain\u001b[0m\u001b[0;34m(\u001b[0m\u001b[0mfname\u001b[0m\u001b[0;34m)\u001b[0m\u001b[0;34m\u001b[0m\u001b[0;34m\u001b[0m\u001b[0m\n\u001b[0m\u001b[1;32m     36\u001b[0m \u001b[0;34m\u001b[0m\u001b[0m\n\u001b[1;32m     37\u001b[0m \u001b[0;34m\u001b[0m\u001b[0m\n",
            "\u001b[0;32m/usr/local/lib/python3.6/dist-packages/snownlp/seg/seg.py\u001b[0m in \u001b[0;36mtrain\u001b[0;34m(self, fname)\u001b[0m\n\u001b[1;32m     33\u001b[0m             \u001b[0mdata\u001b[0m\u001b[0;34m.\u001b[0m\u001b[0mappend\u001b[0m\u001b[0;34m(\u001b[0m\u001b[0mtmp\u001b[0m\u001b[0;34m)\u001b[0m\u001b[0;34m\u001b[0m\u001b[0;34m\u001b[0m\u001b[0m\n\u001b[1;32m     34\u001b[0m         \u001b[0mfr\u001b[0m\u001b[0;34m.\u001b[0m\u001b[0mclose\u001b[0m\u001b[0;34m(\u001b[0m\u001b[0;34m)\u001b[0m\u001b[0;34m\u001b[0m\u001b[0;34m\u001b[0m\u001b[0m\n\u001b[0;32m---> 35\u001b[0;31m         \u001b[0mself\u001b[0m\u001b[0;34m.\u001b[0m\u001b[0msegger\u001b[0m\u001b[0;34m.\u001b[0m\u001b[0mtrain\u001b[0m\u001b[0;34m(\u001b[0m\u001b[0mdata\u001b[0m\u001b[0;34m)\u001b[0m\u001b[0;34m\u001b[0m\u001b[0;34m\u001b[0m\u001b[0m\n\u001b[0m\u001b[1;32m     36\u001b[0m \u001b[0;34m\u001b[0m\u001b[0m\n\u001b[1;32m     37\u001b[0m     \u001b[0;32mdef\u001b[0m \u001b[0mseg\u001b[0m\u001b[0;34m(\u001b[0m\u001b[0mself\u001b[0m\u001b[0;34m,\u001b[0m \u001b[0msentence\u001b[0m\u001b[0;34m)\u001b[0m\u001b[0;34m:\u001b[0m\u001b[0;34m\u001b[0m\u001b[0;34m\u001b[0m\u001b[0m\n",
            "\u001b[0;32m/usr/local/lib/python3.6/dist-packages/snownlp/seg/y09_2047.py\u001b[0m in \u001b[0;36mtrain\u001b[0;34m(self, data)\u001b[0m\n\u001b[1;32m     66\u001b[0m             \u001b[0mself\u001b[0m\u001b[0;34m.\u001b[0m\u001b[0mbi\u001b[0m\u001b[0;34m.\u001b[0m\u001b[0madd\u001b[0m\u001b[0;34m(\u001b[0m\u001b[0;34m(\u001b[0m\u001b[0;34m(\u001b[0m\u001b[0;34m''\u001b[0m\u001b[0;34m,\u001b[0m \u001b[0;34m'BOS'\u001b[0m\u001b[0;34m)\u001b[0m\u001b[0;34m,\u001b[0m \u001b[0;34m(\u001b[0m\u001b[0;34m''\u001b[0m\u001b[0;34m,\u001b[0m \u001b[0;34m'BOS'\u001b[0m\u001b[0;34m)\u001b[0m\u001b[0;34m)\u001b[0m\u001b[0;34m,\u001b[0m \u001b[0;36m1\u001b[0m\u001b[0;34m)\u001b[0m\u001b[0;34m\u001b[0m\u001b[0;34m\u001b[0m\u001b[0m\n\u001b[1;32m     67\u001b[0m             \u001b[0mself\u001b[0m\u001b[0;34m.\u001b[0m\u001b[0muni\u001b[0m\u001b[0;34m.\u001b[0m\u001b[0madd\u001b[0m\u001b[0;34m(\u001b[0m\u001b[0;34m(\u001b[0m\u001b[0;34m''\u001b[0m\u001b[0;34m,\u001b[0m \u001b[0;34m'BOS'\u001b[0m\u001b[0;34m)\u001b[0m\u001b[0;34m,\u001b[0m \u001b[0;36m2\u001b[0m\u001b[0;34m)\u001b[0m\u001b[0;34m\u001b[0m\u001b[0;34m\u001b[0m\u001b[0m\n\u001b[0;32m---> 68\u001b[0;31m             \u001b[0;32mfor\u001b[0m \u001b[0mword\u001b[0m\u001b[0;34m,\u001b[0m \u001b[0mtag\u001b[0m \u001b[0;32min\u001b[0m \u001b[0msentence\u001b[0m\u001b[0;34m:\u001b[0m\u001b[0;34m\u001b[0m\u001b[0;34m\u001b[0m\u001b[0m\n\u001b[0m\u001b[1;32m     69\u001b[0m                 \u001b[0mnow\u001b[0m\u001b[0;34m.\u001b[0m\u001b[0mappend\u001b[0m\u001b[0;34m(\u001b[0m\u001b[0;34m(\u001b[0m\u001b[0mword\u001b[0m\u001b[0;34m,\u001b[0m \u001b[0mtag\u001b[0m\u001b[0;34m)\u001b[0m\u001b[0;34m)\u001b[0m\u001b[0;34m\u001b[0m\u001b[0;34m\u001b[0m\u001b[0m\n\u001b[1;32m     70\u001b[0m                 \u001b[0mself\u001b[0m\u001b[0;34m.\u001b[0m\u001b[0muni\u001b[0m\u001b[0;34m.\u001b[0m\u001b[0madd\u001b[0m\u001b[0;34m(\u001b[0m\u001b[0;34m(\u001b[0m\u001b[0mword\u001b[0m\u001b[0;34m,\u001b[0m \u001b[0mtag\u001b[0m\u001b[0;34m)\u001b[0m\u001b[0;34m,\u001b[0m \u001b[0;36m1\u001b[0m\u001b[0;34m)\u001b[0m\u001b[0;34m\u001b[0m\u001b[0;34m\u001b[0m\u001b[0m\n",
            "\u001b[0;31mValueError\u001b[0m: not enough values to unpack (expected 2, got 1)"
          ]
        }
      ]
    },
    {
      "cell_type": "code",
      "metadata": {
        "id": "tGuJhVSPiUnw",
        "colab_type": "code",
        "colab": {}
      },
      "source": [
        "seg.save('seg.marshal')"
      ],
      "execution_count": null,
      "outputs": []
    },
    {
      "cell_type": "markdown",
      "metadata": {
        "id": "6Ut7FEkGPmyr",
        "colab_type": "text"
      },
      "source": [
        "## 尝试使用深度学习算法\n",
        "1. `MLP`\n",
        "2. `BiRNN`(`LSTM`, `GRU`)\n",
        "3. `BiGRU` + `Attention`"
      ]
    },
    {
      "cell_type": "markdown",
      "metadata": {
        "id": "1BxxjWmfQFYi",
        "colab_type": "text"
      },
      "source": [
        "### `MLP` 多层感知机"
      ]
    },
    {
      "cell_type": "code",
      "metadata": {
        "id": "10OHAdNFPmd8",
        "colab_type": "code",
        "colab": {}
      },
      "source": [
        "from keras.layers import Masking\n",
        "from keras.layers import Dense, Input, Flatten\n",
        "from keras.layers import Conv1D, GlobalMaxPooling1D, Embedding, Dropout, LSTM, GRU, Bidirectional\n",
        "from keras.models import Sequential, Model\n",
        "from keras.utils.np_utils import to_categorical\n"
      ],
      "execution_count": null,
      "outputs": []
    },
    {
      "cell_type": "code",
      "metadata": {
        "id": "2YU4GHSYQXNX",
        "colab_type": "code",
        "colab": {}
      },
      "source": [
        "EMBEDDING_DIM = 100\n",
        "VALIDATION_SPLIT = 0.2\n",
        "labels = to_categorical(y)\n"
      ],
      "execution_count": null,
      "outputs": []
    },
    {
      "cell_type": "code",
      "metadata": {
        "id": "v0nUiNTdQ2HV",
        "colab_type": "code",
        "colab": {}
      },
      "source": [
        "from sklearn.model_selection import train_test_split"
      ],
      "execution_count": null,
      "outputs": []
    },
    {
      "cell_type": "code",
      "metadata": {
        "id": "72V2z4ObQ6rv",
        "colab_type": "code",
        "colab": {}
      },
      "source": [
        "X_train, X_test, y_train, y_test = train_test_split(x_pca, y, test_size=0.2, random_state=0)"
      ],
      "execution_count": null,
      "outputs": []
    },
    {
      "cell_type": "code",
      "metadata": {
        "id": "uEvTrQIhSYZB",
        "colab_type": "code",
        "colab": {}
      },
      "source": [
        "import torch"
      ],
      "execution_count": null,
      "outputs": []
    },
    {
      "cell_type": "code",
      "metadata": {
        "id": "K-cMrvdRRd48",
        "colab_type": "code",
        "colab": {}
      },
      "source": [
        "class MLP(torch.nn.Module):   # 继承 torch 的 Module\n",
        "    def __init__(self):\n",
        "        super(MLP,self).__init__()    # \n",
        "        # 初始化三层神经网络 两个全连接的隐藏层，一个输出层\n",
        "        self.fc1 = torch.nn.Linear(100,50)  # 第一个隐含层  \n",
        "        self.fc2 = torch.nn.Linear(50,10)  # 第二个隐含层\n",
        "        self.fc3 = torch.nn.Linear(10,3)   # 输出层\n",
        "        \n",
        "    def forward(self,din):\n",
        "        # 前向传播， 输入值：din, 返回值 dout\n",
        "        din = din.view(-1,28*28)       # 将一个多行的Tensor,拼接成一行\n",
        "        dout = F.relu(self.fc1(din))   # 使用 relu 激活函数\n",
        "        dout = F.relu(self.fc2(dout))\n",
        "        dout = F.softmax(self.fc3(dout), dim=1)  # 输出层使用 softmax 激活函数\n",
        "        # 10个数字实际上是10个类别，输出是概率分布，最后选取概率最大的作为预测值输出\n",
        "        return dout"
      ],
      "execution_count": null,
      "outputs": []
    },
    {
      "cell_type": "code",
      "metadata": {
        "id": "sZHoEf-URuta",
        "colab_type": "code",
        "colab": {}
      },
      "source": [
        ""
      ],
      "execution_count": null,
      "outputs": []
    },
    {
      "cell_type": "markdown",
      "metadata": {
        "id": "hhf0ivLNz5O5",
        "colab_type": "text"
      },
      "source": [
        "### 使用Keras CNN"
      ]
    },
    {
      "cell_type": "code",
      "metadata": {
        "id": "YSP5XhHMz8Yb",
        "colab_type": "code",
        "colab": {
          "base_uri": "https://localhost:8080/",
          "height": 181
        },
        "outputId": "811f7439-3806-4436-89f2-5bc1e1cabcbc"
      },
      "source": [
        "# 最长的句子长度是100\n",
        "from keras.models import Model\n",
        "from keras.preprocessing import sequence\n",
        "from keras.layers import Input\n",
        "from keras.layers import Dense, Activation\n",
        "from keras.layers import Embedding\n",
        "from keras.layers import Conv1D, GlobalMaxPooling1D\n",
        "from keras.datasets import imdb\n",
        "\n",
        "\n",
        "# set parameters:\n",
        "batch_size = 32\n",
        "embedding_dims = 200\n",
        "filters = 250\n",
        "kernel_size = 3\n",
        "epochs = 2\n",
        "\n",
        "# load the dataset but only keep the top n words, zero the rest\n",
        "top_words = len(vocab.keys())\n",
        "# (x_train, y_train), (x_test, y_test) = imdb.load_data(num_words=top_words)\n",
        "x_train, y_train, x_test, y_test = train_df[\"vocab_seq\"].values, train_df[\"情感倾向\"].values, test_df[\"vocab_seq\"].values, test_df[\"情感倾向\"].values\n",
        "# pad dataset to a maximum review length in words\n",
        "max_words = 100\n",
        "x_train = sequence.pad_sequences(x_train, maxlen=max_words)\n",
        "x_test = sequence.pad_sequences(x_test, maxlen=max_words)\n",
        "\n",
        "# Build model\n",
        "sentence = Input(batch_shape=(None, max_words), dtype='int32', name='sentence')\n",
        "embedding_layer = Embedding(top_words, embedding_dims, input_length=max_words)\n",
        "sent_embed = embedding_layer(sentence)\n",
        "conv_layer = Conv1D(filters, kernel_size, padding='valid', activation='relu')\n",
        "sent_conv = conv_layer(sent_embed)\n",
        "sent_pooling = GlobalMaxPooling1D()(sent_conv)\n",
        "sent_repre = Dense(250)(sent_pooling)\n",
        "sent_repre = Activation('relu')(sent_repre)\n",
        "sent_repre = Dense(1)(sent_repre)\n",
        "pred = Activation('sigmoid')(sent_repre)\n",
        "model = Model(inputs=sentence, outputs=pred)\n",
        "model.compile(loss='binary_crossentropy', optimizer='adam', metrics=['accuracy'])\n",
        "\n",
        "# fit the model\n",
        "model.fit(x_train, y_train, batch_size=batch_size,\n",
        "          epochs=epochs, verbose=1,validation_data=(x_test, y_test))\n",
        "scores = model.evaluate(x_test, y_test, verbose=0)\n",
        "print(\"Accuracy: %.2f%%\" % (scores[1]*100))"
      ],
      "execution_count": null,
      "outputs": [
        {
          "output_type": "stream",
          "text": [
            "/usr/local/lib/python3.6/dist-packages/tensorflow/python/framework/indexed_slices.py:434: UserWarning: Converting sparse IndexedSlices to a dense Tensor of unknown shape. This may consume a large amount of memory.\n",
            "  \"Converting sparse IndexedSlices to a dense Tensor of unknown shape. \"\n"
          ],
          "name": "stderr"
        },
        {
          "output_type": "stream",
          "text": [
            "Train on 44891 samples, validate on 4474 samples\n",
            "Epoch 1/2\n",
            "44891/44891 [==============================] - 175s 4ms/step - loss: -5104994.9870 - accuracy: 0.3938 - val_loss: -16256369.9151 - val_accuracy: 0.3684\n",
            "Epoch 2/2\n",
            "44891/44891 [==============================] - 174s 4ms/step - loss: -127134993.0662 - accuracy: 0.4003 - val_loss: -190182378.7430 - val_accuracy: 0.3650\n",
            "Accuracy: 36.50%\n"
          ],
          "name": "stdout"
        }
      ]
    },
    {
      "cell_type": "code",
      "metadata": {
        "id": "wtP2Y7yB0T-P",
        "colab_type": "code",
        "colab": {}
      },
      "source": [
        "(x_train, y_train), (x_test, y_test) = imdb.load_data(num_words=top_words)"
      ],
      "execution_count": null,
      "outputs": []
    },
    {
      "cell_type": "code",
      "metadata": {
        "id": "8mfZfWC2a3W3",
        "colab_type": "code",
        "colab": {}
      },
      "source": [
        "vocab = model.vocab.keys()"
      ],
      "execution_count": null,
      "outputs": []
    },
    {
      "cell_type": "code",
      "metadata": {
        "id": "Ej_0OaRGbplv",
        "colab_type": "code",
        "colab": {}
      },
      "source": [
        "vocab = {value: index for index, value in enumerate(vocab)}"
      ],
      "execution_count": null,
      "outputs": []
    },
    {
      "cell_type": "code",
      "metadata": {
        "id": "jbE4PVz9b_t1",
        "colab_type": "code",
        "colab": {}
      },
      "source": [
        "# 在train中新增一列为vocab序列\n",
        "train_df[\"vocab_seq\"] = train_df.jieba_cut.apply(lambda x: [vocab[word] for word in x if word in vocab])\n",
        "test_df[\"vocab_seq\"] = test_df.jieba_cut.apply(lambda x: [vocab[word] for word in x if word in vocab])"
      ],
      "execution_count": null,
      "outputs": []
    },
    {
      "cell_type": "code",
      "metadata": {
        "id": "NOYQ2XaLcBVK",
        "colab_type": "code",
        "colab": {}
      },
      "source": [
        "train_df = train_df[train_df[\"vocab_seq\"].apply(len) != 0]\n",
        "test_df = test_df[test_df[\"vocab_seq\"].apply(len) != 0]"
      ],
      "execution_count": null,
      "outputs": []
    },
    {
      "cell_type": "code",
      "metadata": {
        "id": "tTsRZOqDdINR",
        "colab_type": "code",
        "colab": {}
      },
      "source": [
        "## 载入数据\n",
        "## 载入分词好的csv文件\n",
        "train_df = pd.read_csv(\"./train.cnn.removed.csv\")\n",
        "test_df = pd.read_csv(\"./test.cnn.removed.csv\")\n",
        "train_df['vocab_seq'] = train_df[\"vocab_seq\"].apply(eval)\n",
        "test_df['vocab_seq'] = test_df[\"vocab_seq\"].apply(eval)"
      ],
      "execution_count": null,
      "outputs": []
    },
    {
      "cell_type": "code",
      "metadata": {
        "id": "QWnnKTJyd6dM",
        "colab_type": "code",
        "colab": {
          "base_uri": "https://localhost:8080/",
          "height": 35
        },
        "outputId": "40cd3e76-f817-4233-a3cc-7a0ff093f834"
      },
      "source": [
        "len(vocab.keys())"
      ],
      "execution_count": null,
      "outputs": [
        {
          "output_type": "execute_result",
          "data": {
            "text/plain": [
              "21391"
            ]
          },
          "metadata": {
            "tags": []
          },
          "execution_count": 165
        }
      ]
    },
    {
      "cell_type": "code",
      "metadata": {
        "id": "FV8TVi7leh8c",
        "colab_type": "code",
        "colab": {}
      },
      "source": [
        "x_train, y_train, x_test, y_test = train_df[\"vocab_seq\"].values, test_df[\"vocab_seq\"].values, train_df[\"情感倾向\"].values, test_df[\"情感倾向\"].values\n"
      ],
      "execution_count": null,
      "outputs": []
    },
    {
      "cell_type": "code",
      "metadata": {
        "id": "mhd2zl1GfAmh",
        "colab_type": "code",
        "colab": {}
      },
      "source": [
        "model['<unk>']"
      ],
      "execution_count": null,
      "outputs": []
    },
    {
      "cell_type": "code",
      "metadata": {
        "id": "adC28eWlfDiv",
        "colab_type": "code",
        "colab": {}
      },
      "source": [
        ""
      ],
      "execution_count": null,
      "outputs": []
    },
    {
      "cell_type": "markdown",
      "metadata": {
        "id": "dPUzgYcPibku",
        "colab_type": "text"
      },
      "source": [
        "### RNN LSTM"
      ]
    },
    {
      "cell_type": "code",
      "metadata": {
        "id": "dXkQSm2Ayllz",
        "colab_type": "code",
        "colab": {}
      },
      "source": [
        ""
      ],
      "execution_count": null,
      "outputs": []
    },
    {
      "cell_type": "code",
      "metadata": {
        "id": "309p7mg0id4p",
        "colab_type": "code",
        "colab": {}
      },
      "source": [
        "length = train_df[\"jieba_cut\"].apply(len)"
      ],
      "execution_count": null,
      "outputs": []
    },
    {
      "cell_type": "code",
      "metadata": {
        "id": "GMyhE3lo-xeN",
        "colab_type": "code",
        "colab": {
          "base_uri": "https://localhost:8080/",
          "height": 35
        },
        "outputId": "7a650b61-2509-47db-df7d-58cbd51f8157"
      },
      "source": [
        "np.min(length)"
      ],
      "execution_count": null,
      "outputs": [
        {
          "output_type": "execute_result",
          "data": {
            "text/plain": [
              "1"
            ]
          },
          "metadata": {
            "tags": []
          },
          "execution_count": 32
        }
      ]
    },
    {
      "cell_type": "code",
      "metadata": {
        "id": "11U5L_5p-0PD",
        "colab_type": "code",
        "colab": {
          "base_uri": "https://localhost:8080/",
          "height": 73
        },
        "outputId": "e36ec357-efd6-4172-92b7-14ffb3b50d13"
      },
      "source": [
        "import seaborn as sns\n"
      ],
      "execution_count": null,
      "outputs": [
        {
          "output_type": "stream",
          "text": [
            "/usr/local/lib/python3.6/dist-packages/statsmodels/tools/_testing.py:19: FutureWarning: pandas.util.testing is deprecated. Use the functions in the public API at pandas.testing instead.\n",
            "  import pandas.util.testing as tm\n"
          ],
          "name": "stderr"
        }
      ]
    },
    {
      "cell_type": "code",
      "metadata": {
        "id": "Xxw4WG9d_Fi5",
        "colab_type": "code",
        "colab": {
          "base_uri": "https://localhost:8080/",
          "height": 298
        },
        "outputId": "c4fb0b3b-70e1-4433-e004-a4516fa94bc6"
      },
      "source": [
        "sns.distplot(length, color=\"b\")"
      ],
      "execution_count": null,
      "outputs": [
        {
          "output_type": "execute_result",
          "data": {
            "text/plain": [
              "<matplotlib.axes._subplots.AxesSubplot at 0x7fd36375ac88>"
            ]
          },
          "metadata": {
            "tags": []
          },
          "execution_count": 54
        },
        {
          "output_type": "display_data",
          "data": {
            "image/png": "[encoded data removed]",
            "text/plain": [
              "<Figure size 432x288 with 1 Axes>"
            ]
          },
          "metadata": {
            "tags": [],
            "needs_background": "light"
          }
        }
      ]
    },
    {
      "cell_type": "code",
      "metadata": {
        "id": "PtVj2VI5_jx7",
        "colab_type": "code",
        "colab": {}
      },
      "source": [
        "import tensorflow as tf\n",
        "from tensorflow.keras.preprocessing.text import Tokenizer\n",
        "from tensorflow.keras.preprocessing.sequence import pad_sequences"
      ],
      "execution_count": 71,
      "outputs": []
    },
    {
      "cell_type": "code",
      "metadata": {
        "id": "lG1oSLuH_-x0",
        "colab_type": "code",
        "colab": {}
      },
      "source": [
        "vocab_size = 10000\n",
        "embedding_dim = 64\n",
        "max_length = 60\n",
        "trunc_type = 'post'\n",
        "padding_type = 'post'\n",
        "oov_tok = '<OOV>'"
      ],
      "execution_count": 98,
      "outputs": []
    },
    {
      "cell_type": "code",
      "metadata": {
        "id": "GUObn6BI_Me2",
        "colab_type": "code",
        "colab": {}
      },
      "source": [
        "tokenizer = Tokenizer(num_words = vocab_size, oov_token=oov_tok)\n",
        "tokenizer.fit_on_texts(df.jieba_cut.values)\n",
        "word_index = tokenizer.word_index\n",
        "reverse_word_index = dict([(value, key) for (key, value) in word_index.items()])"
      ],
      "execution_count": 99,
      "outputs": []
    },
    {
      "cell_type": "code",
      "metadata": {
        "id": "DaTgxTblQhGQ",
        "colab_type": "code",
        "colab": {
          "base_uri": "https://localhost:8080/",
          "height": 233
        },
        "outputId": "326ff9da-15c2-45d3-94af-9e2e37b1930f"
      },
      "source": [
        ""
      ],
      "execution_count": null,
      "outputs": [
        {
          "output_type": "execute_result",
          "data": {
            "text/plain": [
              "6222     [广西, 确诊, 例, 新型, 肺炎, 病例, 爸, 银行, 激活, 社保卡, 过段时间, ...\n",
              "23121    [尼日利亚, 爆发, 不明, 疾病, 名, 患者, 两日, 死亡, 月, 尼日利亚政府, 警...\n",
              "13705    [胖大海, 橘红, 栀子, 茶, 罗汉果, 茶, 罗汉, 黄, 栀, 茶, 金银花, 青果,...\n",
              "19852    [周一, 月, 开播, 款, 修正, 消毒液, 本次, 活动, 本场, 主推, 修正, 抑菌...\n",
              "1518     [预调, 震, 时, 股指, 挺, 点, 时间, 创, 指, 走势, 似, 去年, 月, 个...\n",
              "                               ...                        \n",
              "2533                   [黄景, 瑜, 工作室, 逆, 行者, 致敬, 英雄, 平安, 归来]\n",
              "17652    [发表, 一篇, 转载, 博文, 转载, 年, 冬天, 咳嗽, O, 转载, 年, 冬天, 咳嗽]\n",
              "3278     [女孩, 退票, 留, 武汉, 过年, 告诉, 家人, 战役, 全国, 面对, 新型, 肺炎...\n",
              "31634    [推荐, 热点, 提出, 全国, 疫情, 总体, 呈, 下降, 趋势, 城市, 疫情, 状况...\n",
              "5969     [在家, 办公, 事情, 员工工资, 计算, 复合, 发放, 安排, 网上, 教育, 培训,...\n",
              "Name: jieba_cut, Length: 39528, dtype: object"
            ]
          },
          "metadata": {
            "tags": []
          },
          "execution_count": 74
        }
      ]
    },
    {
      "cell_type": "code",
      "metadata": {
        "id": "6u2l3odPtrzj",
        "colab_type": "code",
        "colab": {}
      },
      "source": [
        ""
      ],
      "execution_count": null,
      "outputs": []
    },
    {
      "cell_type": "code",
      "metadata": {
        "id": "xXu_ann8AJ3a",
        "colab_type": "code",
        "colab": {}
      },
      "source": [
        "X_train_sequences = tokenizer.texts_to_sequences(train_df.jieba_cut)\n",
        "X_train_padded = pad_sequences(X_train_sequences, maxlen=max_length, padding=padding_type, truncating=trunc_type)\n",
        "X_validation_sequences = tokenizer.texts_to_sequences(test_df.jieba_cut)\n",
        "X_validation_padded = pad_sequences(X_validation_sequences, maxlen=max_length, padding=padding_type, truncating=trunc_type)"
      ],
      "execution_count": 100,
      "outputs": []
    },
    {
      "cell_type": "code",
      "metadata": {
        "id": "t3AI9toCAKzA",
        "colab_type": "code",
        "colab": {
          "base_uri": "https://localhost:8080/",
          "height": 217
        },
        "outputId": "130d4bde-bac4-4d24-fc24-9214002de70c"
      },
      "source": [
        "index = 10 \n",
        "print(train_df.jieba_cut.values[index])\n",
        "print()\n",
        "print(X_train_sequences[index])\n",
        "print()\n",
        "X_train_padded[index]"
      ],
      "execution_count": null,
      "outputs": [
        {
          "output_type": "stream",
          "text": [
            "['本书', '真的', '好玩', '荒诞', '医学史', '挺好玩', '冷', '知识', '科普', '刚', '世纪', '西班牙', '医生', '烟草', '治', '癌症', '在内', '疾病', '医生', '烟草', '消毒']\n",
            "\n",
            "[6872, 25, 5268, 1, 1, 1, 784, 1220, 996, 308, 5154, 1, 31, 7703, 482, 2872, 4603, 174, 31, 7703, 247]\n",
            "\n"
          ],
          "name": "stdout"
        },
        {
          "output_type": "execute_result",
          "data": {
            "text/plain": [
              "array([6872,   25, 5268,    1,    1,    1,  784, 1220,  996,  308, 5154,\n",
              "          1,   31, 7703,  482, 2872, 4603,  174,   31, 7703,  247,    0,\n",
              "          0,    0,    0,    0,    0,    0,    0,    0,    0,    0,    0,\n",
              "          0,    0,    0,    0,    0,    0,    0,    0,    0,    0,    0,\n",
              "          0,    0,    0,    0,    0,    0,    0,    0,    0,    0,    0,\n",
              "          0,    0,    0,    0,    0], dtype=int32)"
            ]
          },
          "metadata": {
            "tags": []
          },
          "execution_count": 27
        }
      ]
    },
    {
      "cell_type": "code",
      "metadata": {
        "id": "MW7hmHzXAocc",
        "colab_type": "code",
        "colab": {
          "base_uri": "https://localhost:8080/",
          "height": 35
        },
        "outputId": "09c3d9d4-15a5-4b2e-c339-9a67eb9e6f62"
      },
      "source": [
        "word_index[\"本书\"]"
      ],
      "execution_count": null,
      "outputs": [
        {
          "output_type": "execute_result",
          "data": {
            "text/plain": [
              "6872"
            ]
          },
          "metadata": {
            "tags": []
          },
          "execution_count": 47
        }
      ]
    },
    {
      "cell_type": "code",
      "metadata": {
        "id": "_hTQnf6mBD6h",
        "colab_type": "code",
        "colab": {
          "base_uri": "https://localhost:8080/",
          "height": 35
        },
        "outputId": "d2d89883-43e9-4780-912a-b3fdba7b1a2f"
      },
      "source": [
        "np.unique(test_df[\"情感倾向\"].apply(str).values)"
      ],
      "execution_count": null,
      "outputs": [
        {
          "output_type": "execute_result",
          "data": {
            "text/plain": [
              "array(['-1', '0', '1'], dtype=object)"
            ]
          },
          "metadata": {
            "tags": []
          },
          "execution_count": 60
        }
      ]
    },
    {
      "cell_type": "code",
      "metadata": {
        "id": "-AuIch0ABZ9Q",
        "colab_type": "code",
        "colab": {
          "base_uri": "https://localhost:8080/",
          "height": 35
        },
        "outputId": "99681f6c-796f-4669-91f8-73dbf5e93d9b"
      },
      "source": [
        "min(Y_training_cat_seq.reshape(-1))"
      ],
      "execution_count": null,
      "outputs": [
        {
          "output_type": "execute_result",
          "data": {
            "text/plain": [
              "1"
            ]
          },
          "metadata": {
            "tags": []
          },
          "execution_count": 57
        }
      ]
    },
    {
      "cell_type": "code",
      "metadata": {
        "id": "lRuCFsN-CDvO",
        "colab_type": "code",
        "colab": {
          "base_uri": "https://localhost:8080/",
          "height": 377
        },
        "outputId": "86d1f2a0-2625-4fdb-86cc-0c02ac21158d"
      },
      "source": [
        "model = tf.keras.Sequential([\n",
        "    tf.keras.layers.Embedding(vocab_size, embedding_dim),\n",
        "    tf.keras.layers.LSTM(embedding_dim),\n",
        "    tf.keras.layers.Dropout(0.5),\n",
        "    tf.keras.layers.Dense(embedding_dim, activation='relu'),\n",
        "    tf.keras.layers.Dropout(0.5),\n",
        "    tf.keras.layers.Dense(3, activation='softmax')\n",
        "])\n",
        "model.summary()"
      ],
      "execution_count": 119,
      "outputs": [
        {
          "output_type": "stream",
          "text": [
            "Model: \"sequential_3\"\n",
            "_________________________________________________________________\n",
            "Layer (type)                 Output Shape              Param #   \n",
            "=================================================================\n",
            "embedding_3 (Embedding)      (None, None, 64)          640000    \n",
            "_________________________________________________________________\n",
            "lstm_3 (LSTM)                (None, 64)                33024     \n",
            "_________________________________________________________________\n",
            "dropout_6 (Dropout)          (None, 64)                0         \n",
            "_________________________________________________________________\n",
            "dense_6 (Dense)              (None, 64)                4160      \n",
            "_________________________________________________________________\n",
            "dropout_7 (Dropout)          (None, 64)                0         \n",
            "_________________________________________________________________\n",
            "dense_7 (Dense)              (None, 3)                 195       \n",
            "=================================================================\n",
            "Total params: 677,379\n",
            "Trainable params: 677,379\n",
            "Non-trainable params: 0\n",
            "_________________________________________________________________\n"
          ],
          "name": "stdout"
        }
      ]
    },
    {
      "cell_type": "code",
      "metadata": {
        "id": "IHNndww2v0HY",
        "colab_type": "code",
        "colab": {}
      },
      "source": [
        "model.compile?"
      ],
      "execution_count": 81,
      "outputs": []
    },
    {
      "cell_type": "code",
      "metadata": {
        "id": "Qb_bFKF6CsRt",
        "colab_type": "code",
        "colab": {}
      },
      "source": [
        "model.compile(loss='sparse_categorical_crossentropy', optimizer='adam', metrics=['accuracy'])"
      ],
      "execution_count": 120,
      "outputs": []
    },
    {
      "cell_type": "code",
      "metadata": {
        "id": "XGHCaoVMB1Hh",
        "colab_type": "code",
        "colab": {
          "base_uri": "https://localhost:8080/",
          "height": 208
        },
        "outputId": "03fbcaca-cdc4-4da0-adbb-41d20b3e5dce"
      },
      "source": [
        "temp1 = np.concatenate([X_train_padded, X_validation_padded])\n",
        "temp2 = np.concatenate([train_df[\"情感倾向\"], test_df[\"情感倾向\"]]) + 1\n",
        "X_train_padded, X_validation_padded, y_train, y_test = train_test_split(temp1, temp2, test_size=0.2, random_state=0)"
      ],
      "execution_count": 103,
      "outputs": [
        {
          "output_type": "error",
          "ename": "NameError",
          "evalue": "ignored",
          "traceback": [
            "\u001b[0;31m---------------------------------------------------------------------------\u001b[0m",
            "\u001b[0;31mNameError\u001b[0m                                 Traceback (most recent call last)",
            "\u001b[0;32m<ipython-input-103-a8f11e017cc7>\u001b[0m in \u001b[0;36m<module>\u001b[0;34m()\u001b[0m\n\u001b[1;32m      1\u001b[0m \u001b[0mtemp1\u001b[0m \u001b[0;34m=\u001b[0m \u001b[0mnp\u001b[0m\u001b[0;34m.\u001b[0m\u001b[0mconcatenate\u001b[0m\u001b[0;34m(\u001b[0m\u001b[0;34m[\u001b[0m\u001b[0mX_train_padded\u001b[0m\u001b[0;34m,\u001b[0m \u001b[0mX_validation_padded\u001b[0m\u001b[0;34m]\u001b[0m\u001b[0;34m)\u001b[0m\u001b[0;34m\u001b[0m\u001b[0;34m\u001b[0m\u001b[0m\n\u001b[1;32m      2\u001b[0m \u001b[0mtemp2\u001b[0m \u001b[0;34m=\u001b[0m \u001b[0mnp\u001b[0m\u001b[0;34m.\u001b[0m\u001b[0mconcatenate\u001b[0m\u001b[0;34m(\u001b[0m\u001b[0;34m[\u001b[0m\u001b[0mtrain_df\u001b[0m\u001b[0;34m[\u001b[0m\u001b[0;34m\"情感倾向\"\u001b[0m\u001b[0;34m]\u001b[0m\u001b[0;34m,\u001b[0m \u001b[0mtest_df\u001b[0m\u001b[0;34m[\u001b[0m\u001b[0;34m\"情感倾向\"\u001b[0m\u001b[0;34m]\u001b[0m\u001b[0;34m]\u001b[0m\u001b[0;34m)\u001b[0m \u001b[0;34m+\u001b[0m \u001b[0;36m1\u001b[0m\u001b[0;34m\u001b[0m\u001b[0;34m\u001b[0m\u001b[0m\n\u001b[0;32m----> 3\u001b[0;31m \u001b[0mX_train_padded\u001b[0m\u001b[0;34m,\u001b[0m \u001b[0mX_validation_padded\u001b[0m\u001b[0;34m,\u001b[0m \u001b[0my_train\u001b[0m\u001b[0;34m,\u001b[0m \u001b[0my_test\u001b[0m \u001b[0;34m=\u001b[0m \u001b[0mtrain_test_split\u001b[0m\u001b[0;34m(\u001b[0m\u001b[0mtemp1\u001b[0m\u001b[0;34m,\u001b[0m \u001b[0mtemp2\u001b[0m\u001b[0;34m,\u001b[0m \u001b[0mtest_size\u001b[0m\u001b[0;34m=\u001b[0m\u001b[0;36m0.2\u001b[0m\u001b[0;34m,\u001b[0m \u001b[0mrandom_state\u001b[0m\u001b[0;34m=\u001b[0m\u001b[0;36m0\u001b[0m\u001b[0;34m)\u001b[0m\u001b[0;34m\u001b[0m\u001b[0;34m\u001b[0m\u001b[0m\n\u001b[0m",
            "\u001b[0;31mNameError\u001b[0m: name 'train_test_split' is not defined"
          ]
        }
      ]
    },
    {
      "cell_type": "code",
      "metadata": {
        "id": "o6srWNZMvN5W",
        "colab_type": "code",
        "colab": {}
      },
      "source": [
        ""
      ],
      "execution_count": null,
      "outputs": []
    },
    {
      "cell_type": "code",
      "metadata": {
        "id": "vcHMFMmMEEFO",
        "colab_type": "code",
        "colab": {}
      },
      "source": [
        "import os\n",
        "checkpoint_path = \"training_1/cp-{epoch:04d}.ckpt\"\n",
        "checkpoint_dir = os.path.dirname(checkpoint_path)\n",
        "cp_callback = tf.keras.callbacks.ModelCheckpoint(filepath=checkpoint_path,\n",
        "                                                 save_weights_only=True,\n",
        "                                                 verbose=1)"
      ],
      "execution_count": 118,
      "outputs": []
    },
    {
      "cell_type": "code",
      "metadata": {
        "id": "sQrz3mJRCunV",
        "colab_type": "code",
        "colab": {}
      },
      "source": [
        "num_epochs = 20\n",
        "history = model.fit(X_train_padded,\n",
        "                    train_df[\"情感倾向\"]+1,\n",
        "                    epochs=num_epochs,\n",
        "                    batch_size=1024,\n",
        "                    validation_data=(X_validation_padded, test_df[\"情感倾向\"]+1), \n",
        "                    verbose=2,\n",
        "                    callbacks=[cp_callback])"
      ],
      "execution_count": null,
      "outputs": []
    },
    {
      "cell_type": "code",
      "metadata": {
        "id": "ddQGXWDHJe9E",
        "colab_type": "code",
        "colab": {}
      },
      "source": [
        "max_index_col = np.argmax(a, axis=1)\n"
      ],
      "execution_count": 137,
      "outputs": []
    },
    {
      "cell_type": "code",
      "metadata": {
        "id": "fvhCBWuEJ2Bn",
        "colab_type": "code",
        "colab": {
          "base_uri": "https://localhost:8080/",
          "height": 35
        },
        "outputId": "6ad8d8a3-f47e-4db3-d64f-48838531ae43"
      },
      "source": [
        "max_index_col"
      ],
      "execution_count": 138,
      "outputs": [
        {
          "output_type": "execute_result",
          "data": {
            "text/plain": [
              "array([0, 0, 0, ..., 0, 2, 2])"
            ]
          },
          "metadata": {
            "tags": []
          },
          "execution_count": 138
        }
      ]
    },
    {
      "cell_type": "code",
      "metadata": {
        "id": "C-IyZ3PaJY6b",
        "colab_type": "code",
        "colab": {}
      },
      "source": [
        "[max(x) for x in a]"
      ],
      "execution_count": null,
      "outputs": []
    },
    {
      "cell_type": "code",
      "metadata": {
        "id": "f7X3oKY6JIXk",
        "colab_type": "code",
        "colab": {}
      },
      "source": [
        "a = model.predict(X_validation_padded)"
      ],
      "execution_count": 131,
      "outputs": []
    },
    {
      "cell_type": "code",
      "metadata": {
        "id": "wWBN2UCkInol",
        "colab_type": "code",
        "colab": {
          "base_uri": "https://localhost:8080/",
          "height": 215
        },
        "outputId": "3041ac11-192a-4881-a4d9-b4be66cb0436"
      },
      "source": [
        "loss, acc = model.evaluate(X_validation_padded, test_df[\"情感倾向\"]+1, verbose=2)\n",
        "print(classification_report(test_df[\"情感倾向\"], max_index_col-1))"
      ],
      "execution_count": 140,
      "outputs": [
        {
          "output_type": "stream",
          "text": [
            "140/140 - 1s - loss: 1.4332 - accuracy: 0.5175\n",
            "              precision    recall  f1-score   support\n",
            "\n",
            "          -1       0.59      0.72      0.65      1489\n",
            "           0       0.41      0.27      0.33      1488\n",
            "           1       0.50      0.57      0.53      1485\n",
            "\n",
            "    accuracy                           0.52      4462\n",
            "   macro avg       0.50      0.52      0.50      4462\n",
            "weighted avg       0.50      0.52      0.50      4462\n",
            "\n"
          ],
          "name": "stdout"
        }
      ]
    },
    {
      "cell_type": "code",
      "metadata": {
        "id": "G5OGq5tgGytM",
        "colab_type": "code",
        "colab": {
          "base_uri": "https://localhost:8080/",
          "height": 197
        },
        "outputId": "f3f705eb-5a6d-4371-98f9-bda81a939234"
      },
      "source": [
        "!ls training_1"
      ],
      "execution_count": 122,
      "outputs": [
        {
          "output_type": "stream",
          "text": [
            "checkpoint\t\t\t  cp-0005.ckpt.index\n",
            "cp-0001.ckpt.data-00000-of-00001  cp-0006.ckpt.data-00000-of-00001\n",
            "cp-0001.ckpt.index\t\t  cp-0006.ckpt.index\n",
            "cp-0002.ckpt.data-00000-of-00001  cp-0007.ckpt.data-00000-of-00001\n",
            "cp-0002.ckpt.index\t\t  cp-0007.ckpt.index\n",
            "cp-0003.ckpt.data-00000-of-00001  cp-0008.ckpt.data-00000-of-00001\n",
            "cp-0003.ckpt.index\t\t  cp-0008.ckpt.index\n",
            "cp-0004.ckpt.data-00000-of-00001  cp.ckpt.data-00000-of-00001\n",
            "cp-0004.ckpt.index\t\t  cp.ckpt.index\n",
            "cp-0005.ckpt.data-00000-of-00001\n"
          ],
          "name": "stdout"
        }
      ]
    },
    {
      "cell_type": "code",
      "metadata": {
        "id": "PJ2tuxdnGs69",
        "colab_type": "code",
        "colab": {
          "base_uri": "https://localhost:8080/",
          "height": 1000
        },
        "outputId": "4354be29-3b37-4af6-e477-38d869538ca9"
      },
      "source": [
        "model.load_weights(\"./training_1/cp-0006.ckpt.index\")"
      ],
      "execution_count": 125,
      "outputs": [
        {
          "output_type": "stream",
          "text": [
            "WARNING:tensorflow:From /usr/local/lib/python3.6/dist-packages/tensorflow/python/training/tracking/util.py:1283: NameBasedSaverStatus.__init__ (from tensorflow.python.training.tracking.util) is deprecated and will be removed in a future version.\n",
            "Instructions for updating:\n",
            "Restoring a name-based tf.train.Saver checkpoint using the object-based restore API. This mode uses global names to match variables, and so is somewhat fragile. It also adds new restore ops to the graph each time it is called when graph building. Prefer re-encoding training checkpoints in the object-based format: run save() on the object-based saver (the same one this message is coming from) and use that checkpoint in the future.\n"
          ],
          "name": "stdout"
        },
        {
          "output_type": "error",
          "ename": "AssertionError",
          "evalue": "ignored",
          "traceback": [
            "\u001b[0;31m---------------------------------------------------------------------------\u001b[0m",
            "\u001b[0;31mAssertionError\u001b[0m                            Traceback (most recent call last)",
            "\u001b[0;32m<ipython-input-125-061b39bab3c6>\u001b[0m in \u001b[0;36m<module>\u001b[0;34m()\u001b[0m\n\u001b[0;32m----> 1\u001b[0;31m \u001b[0mmodel\u001b[0m\u001b[0;34m.\u001b[0m\u001b[0mload_weights\u001b[0m\u001b[0;34m(\u001b[0m\u001b[0;34m\"./training_1/cp-0006.ckpt.index\"\u001b[0m\u001b[0;34m)\u001b[0m\u001b[0;34m\u001b[0m\u001b[0;34m\u001b[0m\u001b[0m\n\u001b[0m",
            "\u001b[0;32m/usr/local/lib/python3.6/dist-packages/tensorflow/python/keras/engine/training.py\u001b[0m in \u001b[0;36mload_weights\u001b[0;34m(self, filepath, by_name, skip_mismatch)\u001b[0m\n\u001b[1;32m    248\u001b[0m         raise ValueError('Load weights is not yet supported with TPUStrategy '\n\u001b[1;32m    249\u001b[0m                          'with steps_per_run greater than 1.')\n\u001b[0;32m--> 250\u001b[0;31m     \u001b[0;32mreturn\u001b[0m \u001b[0msuper\u001b[0m\u001b[0;34m(\u001b[0m\u001b[0mModel\u001b[0m\u001b[0;34m,\u001b[0m \u001b[0mself\u001b[0m\u001b[0;34m)\u001b[0m\u001b[0;34m.\u001b[0m\u001b[0mload_weights\u001b[0m\u001b[0;34m(\u001b[0m\u001b[0mfilepath\u001b[0m\u001b[0;34m,\u001b[0m \u001b[0mby_name\u001b[0m\u001b[0;34m,\u001b[0m \u001b[0mskip_mismatch\u001b[0m\u001b[0;34m)\u001b[0m\u001b[0;34m\u001b[0m\u001b[0;34m\u001b[0m\u001b[0m\n\u001b[0m\u001b[1;32m    251\u001b[0m \u001b[0;34m\u001b[0m\u001b[0m\n\u001b[1;32m    252\u001b[0m   def compile(self,\n",
            "\u001b[0;32m/usr/local/lib/python3.6/dist-packages/tensorflow/python/keras/engine/network.py\u001b[0m in \u001b[0;36mload_weights\u001b[0;34m(self, filepath, by_name, skip_mismatch)\u001b[0m\n\u001b[1;32m   1246\u001b[0m         \u001b[0;31m# streaming restore for any variables created in the future.\u001b[0m\u001b[0;34m\u001b[0m\u001b[0;34m\u001b[0m\u001b[0;34m\u001b[0m\u001b[0m\n\u001b[1;32m   1247\u001b[0m         \u001b[0mtrackable_utils\u001b[0m\u001b[0;34m.\u001b[0m\u001b[0mstreaming_restore\u001b[0m\u001b[0;34m(\u001b[0m\u001b[0mstatus\u001b[0m\u001b[0;34m=\u001b[0m\u001b[0mstatus\u001b[0m\u001b[0;34m,\u001b[0m \u001b[0msession\u001b[0m\u001b[0;34m=\u001b[0m\u001b[0msession\u001b[0m\u001b[0;34m)\u001b[0m\u001b[0;34m\u001b[0m\u001b[0;34m\u001b[0m\u001b[0m\n\u001b[0;32m-> 1248\u001b[0;31m       \u001b[0mstatus\u001b[0m\u001b[0;34m.\u001b[0m\u001b[0massert_nontrivial_match\u001b[0m\u001b[0;34m(\u001b[0m\u001b[0;34m)\u001b[0m\u001b[0;34m\u001b[0m\u001b[0;34m\u001b[0m\u001b[0m\n\u001b[0m\u001b[1;32m   1249\u001b[0m       \u001b[0;32mreturn\u001b[0m \u001b[0mstatus\u001b[0m\u001b[0;34m\u001b[0m\u001b[0;34m\u001b[0m\u001b[0m\n\u001b[1;32m   1250\u001b[0m     \u001b[0;32mif\u001b[0m \u001b[0mh5py\u001b[0m \u001b[0;32mis\u001b[0m \u001b[0;32mNone\u001b[0m\u001b[0;34m:\u001b[0m\u001b[0;34m\u001b[0m\u001b[0;34m\u001b[0m\u001b[0m\n",
            "\u001b[0;32m/usr/local/lib/python3.6/dist-packages/tensorflow/python/training/tracking/util.py\u001b[0m in \u001b[0;36massert_nontrivial_match\u001b[0;34m(self)\u001b[0m\n\u001b[1;32m    996\u001b[0m     \u001b[0;31m# assert_nontrivial_match and assert_consumed (and both are less\u001b[0m\u001b[0;34m\u001b[0m\u001b[0;34m\u001b[0m\u001b[0;34m\u001b[0m\u001b[0m\n\u001b[1;32m    997\u001b[0m     \u001b[0;31m# useful since we don't touch Python objects or Python state).\u001b[0m\u001b[0;34m\u001b[0m\u001b[0;34m\u001b[0m\u001b[0;34m\u001b[0m\u001b[0m\n\u001b[0;32m--> 998\u001b[0;31m     \u001b[0;32mreturn\u001b[0m \u001b[0mself\u001b[0m\u001b[0;34m.\u001b[0m\u001b[0massert_consumed\u001b[0m\u001b[0;34m(\u001b[0m\u001b[0;34m)\u001b[0m\u001b[0;34m\u001b[0m\u001b[0;34m\u001b[0m\u001b[0m\n\u001b[0m\u001b[1;32m    999\u001b[0m \u001b[0;34m\u001b[0m\u001b[0m\n\u001b[1;32m   1000\u001b[0m   \u001b[0;32mdef\u001b[0m \u001b[0m_gather_saveable_objects\u001b[0m\u001b[0;34m(\u001b[0m\u001b[0mself\u001b[0m\u001b[0;34m)\u001b[0m\u001b[0;34m:\u001b[0m\u001b[0;34m\u001b[0m\u001b[0;34m\u001b[0m\u001b[0m\n",
            "\u001b[0;32m/usr/local/lib/python3.6/dist-packages/tensorflow/python/training/tracking/util.py\u001b[0m in \u001b[0;36massert_consumed\u001b[0;34m(self)\u001b[0m\n\u001b[1;32m    973\u001b[0m       raise AssertionError(\n\u001b[1;32m    974\u001b[0m           \"Some objects had attributes which were not restored:{}\".format(\n\u001b[0;32m--> 975\u001b[0;31m               \"\".join(unused_attribute_strings)))\n\u001b[0m\u001b[1;32m    976\u001b[0m     \u001b[0;32mfor\u001b[0m \u001b[0mtrackable\u001b[0m \u001b[0;32min\u001b[0m \u001b[0mself\u001b[0m\u001b[0;34m.\u001b[0m\u001b[0m_graph_view\u001b[0m\u001b[0;34m.\u001b[0m\u001b[0mlist_objects\u001b[0m\u001b[0;34m(\u001b[0m\u001b[0;34m)\u001b[0m\u001b[0;34m:\u001b[0m\u001b[0;34m\u001b[0m\u001b[0;34m\u001b[0m\u001b[0m\n\u001b[1;32m    977\u001b[0m       \u001b[0;31m# pylint: disable=protected-access\u001b[0m\u001b[0;34m\u001b[0m\u001b[0;34m\u001b[0m\u001b[0;34m\u001b[0m\u001b[0m\n",
            "\u001b[0;31mAssertionError\u001b[0m: Some objects had attributes which were not restored:\n    <tf.Variable 'embedding_3/embeddings:0' shape=(10000, 64) dtype=float32, numpy=\narray([[-0.00023918,  0.02040277, -0.0029597 , ...,  0.00380721,\n        -0.02172365, -0.01469531],\n       [-0.01683543, -0.00791812,  0.01083207, ..., -0.03672336,\n        -0.02076935, -0.00976332],\n       [ 0.08393088, -0.00201209, -0.05490136, ...,  0.01009517,\n        -0.04628732,  0.00739105],\n       ...,\n       [ 0.05780151, -0.05359998, -0.04592294, ..., -0.04742744,\n         0.07253376,  0.09178589],\n       [ 0.00511594, -0.03621908,  0.07893968, ...,  0.0096062 ,\n        -0.03554604, -0.05151323],\n       [-0.055065  ,  0.0151766 ,  0.07145917, ..., -0.00663378,\n        -0.02442407,  0.01353474]], dtype=float32)>: ['embedding_3/embeddings']\n    <tf.Variable 'dense_6/kernel:0' shape=(64, 64) dtype=float32, numpy=\narray([[-1.6380627e-02,  7.6751776e-02, -2.0266855e-03, ...,\n         1.6920570e-01, -2.4779870e-01,  2.8793192e-01],\n       [-8.8298619e-02,  2.1108088e-01,  2.8689032e-02, ...,\n         2.0438544e-01, -7.0406914e-02,  8.0681741e-02],\n       [ 5.5016499e-02,  7.3308393e-02, -5.9988730e-02, ...,\n        -3.1560183e-02,  2.2605669e-01, -2.7696544e-01],\n       ...,\n       [-1.7029789e-01, -2.3491524e-01, -6.7189723e-02, ...,\n        -3.2767692e-01,  1.4941387e-01, -1.0960386e-01],\n       [-1.3513365e-01,  2.6320754e-02, -2.0575152e-01, ...,\n        -1.6395169e-01, -1.3468719e-01,  2.5081351e-01],\n       [-1.5077357e-01,  4.0072937e-02, -3.0680301e-04, ...,\n        -1.4498618e-01, -2.8666998e-03,  2.0935823e-01]], dtype=float32)>: ['dense_6/kernel']\n    <tf.Variable 'dense_6/bias:0' shape=(64,) dtype=float32, numpy=\narray([-0.04869635,  0.01815085, -0.0463525 , -0.04106992,  0.00144179,\n        0.01614247,  0.08225233, -0.00514009,  0.04351899,  0.016053  ,\n       -0.00960916,  0.03368302, -0.03211048,  0.02604444,  0.01984144,\n       -0.06941298,  0.0277429 , -0.02645815, -0.02551932, -0.01984005,\n        0.07620088,  0.04164621, -0.01973965,  0.11471747,  0.08016381,\n        0.03112531,  0.02661204,  0.00774781,  0.05748288,  0.01478169,\n        0.04812952,  0.04851186,  0.00642331,  0.10180335,  0.07863817,\n        0.00783359,  0.01496686,  0.05906356,  0.05015659,  0.04491524,\n        0.06658357,  0.09632008,  0.05930075,  0.01386103, -0.01621818,\n        0.05098624,  0.00726745,  0.02177905,  0.04893035,  0.07518275,\n       -0.02239457,  0.05283421,  0.00323692,  0.08640049,  0.03888424,\n        0.07948286,  0.01186931,  0.03614604, -0.02526883, -0.03575649,\n       -0.01098435,  0.05059316, -0.05466975,  0.05971741], dtype=float32)>: ['dense_6/bias']\n    <tf.Variable 'dense_7/kernel:0' shape=(64, 3) dtype=float32, numpy=\narray([[-0.13843651,  0.21357475, -0.09257986],\n       [-0.33658394, -0.03731624,  0.06513848],\n       [-0.16058253,  0.07548554, -0.22944343],\n       [-0.09693534,  0.20008327, -0.13388786],\n       [-0.16591251, -0.08755943,  0.2419218 ],\n       [-0.28548384, -0.1325793 ,  0.07299426],\n       [ 0.17415728,  0.08899387, -0.26630685],\n       [-0.3010337 , -0.08740851,  0.06569895],\n       [ 0.17793387, -0.23378287,  0.06438407],\n       [-0.22574785, -0.25166252,  0.08486581],\n       [-0.05758758,  0.25455233,  0.1473332 ],\n       [ 0.03536382,  0.1170316 , -0.32490337],\n       [-0.06894667,  0.20155497, -0.16762349],\n       [ 0.00170886,  0.03374353,  0.2211724 ],\n       [-0.25288612, -0.21994278, -0.00658797],\n       [-0.1279018 ,  0.14414799, -0.07894535],\n       [-0.14198135,  0.27133384,  0.306555  ],\n       [ 0.00776285,  0.26552826,  0.16924614],\n       [-0.0134749 ,  0.22259323, -0.09810751],\n       [ 0.01052507,  0.20042697, -0.2527321 ],\n       [ 0.29022565,  0.05860902,  0.01449143],\n       [ 0.17314945, -0.03371771, -0.23296206],\n       [ 0.03859597,  0.18617012, -0.08414146],\n       [ 0.17891401,  0.1807928 , -0.01308285],\n       [ 0.10612589, -0.01587814, -0.26359087],\n       [-0.01626128, -0.19216347,  0.07810992],\n       [-0.3980657 , -0.11843906, -0.09581614],\n       [-0.3392589 , -0.00899839,  0.25220615],\n       [ 0.19743073, -0.20504524, -0.0163939 ],\n       [-0.11744399,  0.19467211,  0.27483287],\n       [ 0.17750023,  0.28867498, -0.06856908],\n       [ 0.06673401, -0.2288368 , -0.00580045],\n       [-0.16212612, -0.17466226,  0.08524481],\n       [ 0.18263316,  0.16686948, -0.15114756],\n       [ 0.17635846, -0.00478569, -0.2962127 ],\n       [-0.15577884, -0.07867888,  0.09980538],\n       [-0.11741717, -0.1794282 ,  0.06432154],\n       [ 0.19550548, -0.12032439, -0.2962185 ],\n       [ 0.1288535 , -0.09524253,  0.14689572],\n       [-0.00207094, -0.13530163,  0.09068463],\n       [ 0.13108994, -0.03076686, -0.3101748 ],\n       [ 0.10732368, -0.07773703, -0.37363458],\n       [-0.0658231 , -0.25018856, -0.0054958 ],\n       [-0.24989268, -0.09263468,  0.27092817],\n       [-0.12664168,  0.07507341, -0.21295837],\n       [ 0.18401347, -0.2438014 , -0.10587881],\n       [-0.1373155 , -0.08686724,  0.2194143 ],\n       [ 0.07626571,  0.15872426, -0.10591383],\n       [ 0.26314452, -0.1256306 ,  0.13216889],\n       [ 0.08200631, -0.21253747, -0.33205673],\n       [ 0.0980563 , -0.10546312,  0.18305685],\n       [ 0.2549366 ,  0.10118137, -0.18264616],\n       [-0.16547236, -0.02154825,  0.20927443],\n       [ 0.221052  ,  0.10227631, -0.25906   ],\n       [ 0.18947494,  0.24222973, -0.25127968],\n       [ 0.20194496, -0.01251546, -0.22334465],\n       [-0.2088454 ,  0.00927049,  0.2516485 ],\n       [-0.06174583, -0.01972504, -0.30623263],\n       [-0.17325464,  0.12349681, -0.02721151],\n       [-0.24188899, -0.05392012, -0.20790303],\n       [-0.27224597, -0.16967517,  0.14204647],\n       [-0.2521767 ,  0.04830065,  0.09966522],\n       [-0.14188984,  0.18283224, -0.09371199],\n       [-0.26822913, -0.14340168, -0.04399415]], dtype=float32)>: ['dense_7/kernel']\n    <tf.Variable 'dense_7/bias:0' shape=(3,) dtype=float32, numpy=array([ 0.0929658 , -0.05122013, -0.03513747], dtype=float32)>: ['dense_7/bias']\n    <tf.Variable 'Adam/iter:0' shape=() dtype=int64, numpy=359>: ['Adam/iter']\n    <tf.Variable 'Adam/beta_1:0' shape=() dtype=float32, numpy=0.9>: ['Adam/beta_1']\n    <tf.Variable 'Adam/beta_2:0' shape=() dtype=float32, numpy=0.999>: ['Adam/beta_2']\n    <tf.Variable 'Adam/decay:0' shape=() dtype=float32, numpy=0.0>: ['Adam/decay']\n    <tf.Variable 'Adam/learning_rate:0' shape=() dtype=float32, numpy=0.001>: ['Adam/learning_rate']\n    <tf.Variable 'lstm_3/lstm_cell_3/kernel:0' shape=(64, 256) dtype=float32, numpy=\narray([[ 0.03455454,  0.09023861,  0.08853502, ...,  0.05803389,\n        -0.0877369 , -0.0257169 ],\n       [ 0.14056756, -0.06481143, -0.04316312, ...,  0.1430549 ,\n         0.0827604 , -0.05699986],\n       [ 0.05398097, -0.15226108, -0.12973675, ..., -0.08659384,\n         0.02266658, -0.10248367],\n       ...,\n       [ 0.10272208,  0.09157416,  0.00046924, ..., -0.06032516,\n         0.16052929, -0.07776295],\n       [ 0.00595992,  0.07624607, -0.13321877, ...,  0.06536977,\n         0.05813975,  0.03356692],\n       [ 0.09135392, -0.02096561,  0.02347217, ..., -0.04794279,\n        -0.07589278,  0.04749845]], dtype=float32)>: ['lstm_3/lstm_cell_3/kernel']\n    <tf.Variable 'lstm_3/lstm_cell_3/recurrent_kernel:0' shape=(64, 256) dtype=float32, numpy=\narray([[ 9.02410969e-02, -1.06469631e-01,  4.94052470e-03, ...,\n         1.76872350e-02, -2.12079272e-01, -1.69680584e-02],\n       [-1.13725951e-02, -1.59709319e-01, -8.54254980e-03, ...,\n        -9.92152467e-03, -1.41727820e-01, -1.83119643e-02],\n       [-2.92116217e-03, -1.46491989e-01, -1.28828526e-01, ...,\n         1.53627498e-02,  1.08293034e-01,  1.06704801e-01],\n       ...,\n       [ 3.18748690e-02, -8.12390372e-02, -5.30688763e-02, ...,\n        -5.58519959e-02,  5.89814857e-02,  2.05489360e-02],\n       [ 1.55924521e-02,  1.23458818e-01,  1.62357464e-01, ...,\n        -1.06615916e-01, -1.69671342e-01, -9.37689766e-02],\n       [ 3.82581092e-02,  5.25007807e-02,  1.28549582e-04, ...,\n        -6.89605903e-03, -3.41629833e-02,  6.24572150e-02]], dtype=float32)>: ['lstm_3/lstm_cell_3/recurrent_kernel']\n    <tf.Variable 'lstm_3/lstm_cell_3/bias:0' shape=(256,) dtype=float32, numpy=\narray([-1.63616054e-02,  8.40193126e-03,  3.33034596e-03, -4.76073677e-04,\n        3.38626141e-03,  1.90829230e-03,  3.32846656e-04,  1.01950800e-03,\n        4.93265165e-04,  1.92302670e-02,  1.21914351e-03,  8.99245590e-03,\n        7.25615863e-03, -3.36135086e-03, -7.96626043e-03,  2.69687339e-03,\n       -2.53331405e-03, -8.88392888e-03,  2.28787120e-03, -2.63521308e-03,\n        8.14326573e-04,  2.46644486e-03,  1.16018848e-02, -8.61743279e-03,\n        5.17233915e-04, -1.14830844e-02,  2.34316252e-02, -8.71243980e-03,\n       -1.17401965e-02, -1.35114575e-02, -7.67412363e-03,  1.51314703e-03,\n        3.15523939e-03,  3.85744311e-02,  8.94637033e-03, -6.05876651e-03,\n       -2.88859219e-03,  2.16563754e-02, -6.72094570e-03, -1.17810839e-03,\n        2.03084364e-03, -5.32867434e-03, -7.70508638e-03, -1.41385728e-02,\n       -2.97444261e-04,  1.88021101e-02, -2.53446575e-04, -1.89581187e-03,\n        4.48041223e-03,  6.14394061e-03, -3.07790916e-02, -1.12597561e-02,\n        1.22544140e-01,  4.74701449e-03, -1.82923097e-02, -2.36470010e-02,\n       -6.97448244e-03, -1.17771868e-02,  6.43382035e-03, -1.64472479e-02,\n        4.61669080e-03, -1.19539257e-02,  4.84650359e-02,  3.70569038e-03,\n        9.98499930e-01,  1.02859604e+00,  1.01571763e+00,  1.00844038e+00,\n        1.03347588e+00,  1.01412678e+00,  1.01842129e+00,  1.01516020e+00,\n        1.01289701e+00,  1.03459585e+00,  1.04854023e+00,  1.02057815e+00,\n        1.02265429e+00,  1.00556469e+00,  1.00348592e+00,  1.01699615e+00,\n        1.00935185e+00,  9.97621059e-01,  1.01971722e+00,  9.98543501e-01,\n        1.01828396e+00,  1.01338530e+00,  1.03037369e+00,  1.00060475e+00,\n        1.02301776e+00,  1.00014961e+00,  1.03732967e+00,  1.00279284e+00,\n        1.00265920e+00,  9.89245355e-01,  1.00471616e+00,  1.02113247e+00,\n        1.01777327e+00,  1.07887971e+00,  1.02747869e+00,  1.00632548e+00,\n        1.00428236e+00,  1.04212940e+00,  1.00433898e+00,  1.01384056e+00,\n        1.01388907e+00,  1.01396704e+00,  9.99165297e-01,  1.00033689e+00,\n        1.01319146e+00,  1.04627562e+00,  1.01076257e+00,  1.00529039e+00,\n        1.01188242e+00,  1.01766860e+00,  9.80978131e-01,  1.00016522e+00,\n        1.16778374e+00,  1.01647496e+00,  9.94109452e-01,  9.90843832e-01,\n        1.00170779e+00,  9.98272359e-01,  1.01734364e+00,  1.00507188e+00,\n        1.01818478e+00,  1.00825822e+00,  1.07531345e+00,  1.01476800e+00,\n        3.60246771e-03,  2.25095404e-03, -1.82645090e-04, -2.54845084e-03,\n       -1.50158163e-03,  2.62186653e-03, -5.52620681e-04, -3.48695577e-03,\n        2.99363025e-03,  6.55685971e-03,  1.44367171e-02,  8.03341565e-04,\n        1.08859024e-03,  7.47777103e-03,  6.13299385e-03,  1.09592360e-03,\n        1.74506975e-03,  3.91065981e-03,  9.45669424e-04,  3.05896346e-03,\n        1.97489257e-03, -1.27842110e-02,  7.46890530e-03,  1.82630564e-03,\n       -2.34014448e-03, -2.00041872e-03, -6.00685691e-03, -5.15446393e-03,\n        2.88856705e-03,  8.54777545e-03, -4.26373864e-03,  1.45581737e-03,\n        9.12381429e-03, -5.36699221e-03, -6.96114777e-03,  2.63734511e-03,\n       -9.49898455e-03,  6.88068045e-04, -5.67903649e-03, -1.53278466e-02,\n        1.82908808e-03, -2.34441541e-05, -8.34088773e-03,  6.08288567e-04,\n        4.32443991e-03,  3.44187440e-03, -4.67562908e-03,  4.56090271e-03,\n       -2.58857943e-03,  1.95360673e-03,  3.85933788e-03, -4.08502622e-03,\n       -3.05691874e-03,  6.35203253e-03,  2.01114162e-04, -6.39844360e-03,\n        8.25493364e-04,  8.93878751e-03, -5.16020809e-04, -1.44798530e-03,\n       -7.82161602e-04,  1.06768520e-03, -2.09406037e-02, -3.03887459e-03,\n       -1.63234621e-02,  1.08724879e-02,  5.97330602e-03,  1.20911875e-03,\n        8.05148482e-03,  2.56527821e-03,  1.32316389e-04,  3.16457287e-03,\n        3.34478216e-03,  1.89992636e-02,  1.83399096e-02,  1.01005975e-02,\n        1.12464540e-02, -1.42975000e-03, -8.00189096e-03,  2.96126539e-03,\n       -1.88923860e-03, -8.05431232e-03,  3.39395530e-03, -2.47260160e-03,\n        5.25426259e-03,  3.93341295e-03,  1.58455595e-02, -5.18467929e-03,\n        5.11155790e-03, -1.06873512e-02,  1.90183520e-02, -6.39991555e-03,\n       -1.00029744e-02, -1.38777234e-02, -2.75320886e-03,  3.40737752e-03,\n        9.86912660e-03,  4.83190529e-02,  9.74305812e-03, -5.12822159e-03,\n       -2.65795575e-03,  2.36277282e-02, -3.54966521e-03,  6.86244806e-03,\n        2.32261606e-03,  1.97985466e-03, -7.87298847e-03, -9.68571380e-03,\n        1.95339671e-03,  1.86976548e-02, -2.54639133e-04, -6.19256170e-04,\n        5.30731725e-03,  7.21747847e-03, -2.92704683e-02, -7.90026225e-03,\n        1.21623106e-01,  6.64133672e-03, -1.32548129e-02, -2.14500744e-02,\n       -6.22323155e-03, -9.44349542e-03,  9.48399492e-03, -1.47274630e-02,\n        6.93487283e-03, -9.72977187e-03,  4.90105860e-02,  4.61386936e-03],\n      dtype=float32)>: ['lstm_3/lstm_cell_3/bias']\n    <tf.Variable 'Adam/embedding_3/embeddings/m:0' shape=(10000, 64) dtype=float32, numpy=\narray([[ 2.6609410e-02, -1.2271772e-02, -5.5555303e-02, ...,\n        -3.5653155e-02,  1.1105385e-02,  2.9294968e-02],\n       [-4.3863170e-03,  5.7866313e-03, -9.1882804e-03, ...,\n        -8.0090831e-07, -7.8051817e-03, -1.2791952e-03],\n       [ 2.1199748e-04, -3.7147867e-05, -7.8052375e-04, ...,\n        -6.7661714e-04, -2.3252192e-05,  3.3804736e-04],\n       ...,\n       [ 1.7179937e-05, -1.9588459e-05,  2.4290697e-05, ...,\n        -7.0758961e-06,  2.8827624e-05,  5.4638508e-06],\n       [ 1.1381362e-06,  1.6119935e-05, -1.4312194e-04, ...,\n        -6.6559580e-05, -3.9823120e-05,  4.7179274e-05],\n       [ 1.2169409e-05, -3.6365382e-06, -4.6456094e-05, ...,\n        -3.1896201e-05, -3.0416929e-06,  2.1070007e-05]], dtype=float32)>: ['Adam/embedding_3/embeddings/m']\n    <tf.Variable 'Adam/dense_6/kernel/m:0' shape=(64, 64) dtype=float32, numpy=\narray([[ 1.92463747e-04,  1.13220995e-04,  1.06951731e-04, ...,\n         7.51691477e-05,  1.43070691e-04,  4.92358913e-06],\n       [-3.22241540e-05, -2.87597813e-05, -1.06865227e-04, ...,\n         5.66043636e-05,  1.71725951e-05, -2.16163389e-05],\n       [ 8.36901818e-05,  7.00980236e-05, -3.10226860e-05, ...,\n        -1.63613968e-05, -4.36332375e-05,  2.58941400e-05],\n       ...,\n       [ 3.76406038e-04,  1.79099752e-05,  7.57464586e-05, ...,\n         8.16053143e-05,  1.90739142e-04,  4.80984418e-05],\n       [ 9.13809927e-05, -2.35986619e-04, -3.64559994e-04, ...,\n        -3.70901544e-04, -5.31816739e-04,  8.02635441e-06],\n       [ 4.34880203e-05,  1.89848724e-05, -5.49574688e-05, ...,\n         1.61717671e-05, -5.23571216e-05, -1.06034953e-04]], dtype=float32)>: ['Adam/dense_6/kernel/m']\n    <tf.Variable 'Adam/dense_6/bias/m:0' shape=(64,) dtype=float32, numpy=\narray([-4.3967410e-04, -9.3921466e-04,  4.1627651e-04, -4.6359142e-04,\n        5.5572827e-04, -7.5581449e-04, -9.8414230e-04,  2.2768673e-04,\n       -7.3885859e-04, -6.4822857e-04, -1.1797121e-03, -1.9647211e-03,\n        2.6098645e-04, -1.6786475e-04,  1.1542979e-04, -8.6126121e-04,\n       -1.5187425e-03, -4.6726389e-04, -1.1431470e-03, -7.4797717e-04,\n       -1.3561707e-03,  6.9364622e-05, -2.4406218e-04, -4.9323239e-04,\n       -2.7266282e-04, -4.0608997e-04, -1.0699457e-03, -1.8717043e-04,\n       -6.0801115e-04,  4.8583077e-04, -7.0104614e-04, -1.1917356e-03,\n       -6.3498918e-04, -9.3261321e-04, -3.0795587e-04, -2.8209930e-04,\n        8.1830431e-04, -1.6512627e-03, -4.9238506e-04, -7.2384876e-04,\n       -1.4989168e-03, -1.1976651e-03, -6.4853294e-04,  1.1618749e-04,\n       -1.8038959e-04, -1.2678790e-03, -1.4106458e-04, -6.2110496e-04,\n       -1.1339014e-03, -2.9465716e-04,  5.5318687e-04,  1.2025908e-05,\n       -7.6649658e-04, -6.7143823e-04, -1.8412751e-03, -5.2089256e-04,\n        4.3759347e-04, -8.5040194e-04, -3.3384512e-04,  4.7226134e-05,\n       -4.3039967e-04, -6.1072526e-04, -4.1839547e-04, -3.9927551e-04],\n      dtype=float32)>: ['Adam/dense_6/bias/m']\n    <tf.Variable 'Adam/dense_7/kernel/m:0' shape=(64, 3) dtype=float32, numpy=\narray([[-2.08412588e-04,  3.92861082e-04, -1.84448319e-04],\n       [-2.19449546e-04, -3.48526897e-04,  5.67976327e-04],\n       [-1.96831231e-03,  2.16886564e-03, -2.00552706e-04],\n       [-5.61817316e-04, -1.39691483e-05,  5.75786573e-04],\n       [ 2.01498769e-04, -1.72025990e-03,  1.51876081e-03],\n       [ 6.34614320e-04, -4.35232359e-05, -5.91090822e-04],\n       [-1.38199667e-03,  2.09440663e-03, -7.12410023e-04],\n       [-2.09912701e-04, -1.32176431e-03,  1.53167720e-03],\n       [-6.20599545e-04, -1.86221660e-04,  8.06821161e-04],\n       [-1.45477374e-04, -1.92073188e-04,  3.37550504e-04],\n       [ 1.01273705e-04, -3.72797622e-05, -6.39933933e-05],\n       [-1.14813074e-03,  5.42633352e-04,  6.05497626e-04],\n       [ 4.01595200e-04,  2.36164749e-04, -6.37759629e-04],\n       [ 6.50800066e-04, -5.31393511e-04, -1.19406934e-04],\n       [ 1.23558624e-03, -1.89389719e-03,  6.58310950e-04],\n       [-6.72298018e-04, -7.85581724e-05,  7.50856416e-04],\n       [ 5.83315676e-04,  6.35768112e-04, -1.21908414e-03],\n       [-2.69497250e-04, -7.37383030e-04,  1.00688078e-03],\n       [-7.00726756e-04,  4.40938456e-04,  2.59788678e-04],\n       [-3.84107116e-04,  1.13385715e-04,  2.70721328e-04],\n       [-1.10245578e-03,  1.27260224e-03, -1.70146639e-04],\n       [ 1.05077750e-03, -6.23779953e-04, -4.26997751e-04],\n       [-1.86560082e-03,  1.38256152e-03,  4.83039912e-04],\n       [-1.02833821e-03,  1.21837445e-04,  9.06500791e-04],\n       [-1.25953840e-04,  7.16140727e-04, -5.90186683e-04],\n       [ 3.22386390e-04,  9.91856432e-05, -4.21572127e-04],\n       [ 7.56860827e-04,  1.29574895e-04, -8.86436028e-04],\n       [ 8.09137691e-06, -1.19988737e-03,  1.19179580e-03],\n       [ 9.64303268e-04, -6.32352079e-04, -3.31951131e-04],\n       [-3.47719208e-04, -5.32603241e-04,  8.80322012e-04],\n       [-8.89254094e-04,  5.43318980e-04,  3.45935667e-04],\n       [-1.03050889e-03,  7.36912887e-04,  2.93596211e-04],\n       [ 4.81474679e-04,  1.00623081e-04, -5.82097913e-04],\n       [-3.78964731e-04,  2.44660536e-04,  1.34304224e-04],\n       [-5.69866272e-04,  6.12938486e-04, -4.30724031e-05],\n       [ 1.01862045e-03, -1.99743360e-03,  9.78812692e-04],\n       [ 9.28342110e-04, -1.99484173e-03,  1.06649962e-03],\n       [-3.89597204e-04,  2.19564798e-04,  1.70032523e-04],\n       [-2.63354654e-04,  3.52212577e-04, -8.88578143e-05],\n       [-3.30887589e-04,  5.46064635e-04, -2.15176959e-04],\n       [ 2.02339379e-05,  5.50822704e-04, -5.71056327e-04],\n       [ 1.15229323e-05, -3.21770669e-04,  3.10247298e-04],\n       [-9.32912051e-04,  9.91367036e-04, -5.84548943e-05],\n       [ 3.22771666e-04, -9.33254312e-04,  6.10482763e-04],\n       [-1.21088955e-03,  4.89149475e-04,  7.21740304e-04],\n       [ 7.80112168e-05, -2.88120471e-04,  2.10109429e-04],\n       [ 5.79902960e-04, -1.07308780e-03,  4.93184838e-04],\n       [-1.81358354e-03,  1.08741969e-03,  7.26164668e-04],\n       [-8.12164944e-05, -2.72246525e-05,  1.08441360e-04],\n       [ 2.02136071e-04, -4.99421905e-04,  2.97285791e-04],\n       [ 3.26324574e-04, -7.78380898e-04,  4.52056527e-04],\n       [ 8.04340525e-04, -5.53527847e-04, -2.50813115e-04],\n       [ 3.32363095e-04, -5.47191943e-04,  2.14828877e-04],\n       [-8.72699777e-04,  1.34485832e-03, -4.72158281e-04],\n       [-1.95417018e-03,  1.20852503e-03,  7.45644851e-04],\n       [ 1.28149602e-03, -9.48905770e-04, -3.32589960e-04],\n       [ 4.17227653e-04, -1.81231298e-03,  1.39508548e-03],\n       [-1.65709050e-03,  7.49071070e-04,  9.08019429e-04],\n       [-3.03757028e-04,  1.06581156e-05,  2.93099001e-04],\n       [-1.72977487e-03,  1.32879743e-03,  4.00977675e-04],\n       [ 6.82243612e-04, -1.60028925e-03,  9.18045640e-04],\n       [ 1.05365424e-03, -3.53485206e-03,  2.48119771e-03],\n       [-2.66574847e-04,  3.27694870e-04, -6.11199939e-05],\n       [ 2.08394229e-03, -7.80816306e-04, -1.30312575e-03]], dtype=float32)>: ['Adam/dense_7/kernel/m']\n    <tf.Variable 'Adam/dense_7/bias/m:0' shape=(3,) dtype=float32, numpy=array([-0.00131886, -0.0018042 ,  0.00312306], dtype=float32)>: ['Adam/dense_7/bias/m']\n    <tf.Variable 'Adam/lstm_3/lstm_cell_3/kernel/m:0' shape=(64, 256) dtype=float32, numpy=\narray([[-4.9355813e-06, -2.4264325e-05,  3.4239167e-06, ...,\n        -4.7842968e-07, -4.4910603e-06, -1.3715081e-06],\n       [ 6.1139863e-06,  2.9406780e-05,  3.1840580e-06, ...,\n         2.8225170e-06,  1.8522811e-05,  8.2952629e-06],\n       [-6.3896937e-06, -6.4732319e-07,  6.5498311e-06, ...,\n         7.8939024e-08, -1.6575927e-05,  1.8708653e-05],\n       ...,\n       [-9.9180970e-06, -2.0872742e-05, -6.6959860e-06, ...,\n         6.8951562e-07,  1.3080549e-05, -1.6916585e-05],\n       [-1.5332058e-05, -5.2545314e-05, -9.8739183e-06, ...,\n        -3.1380998e-06, -1.4629634e-05, -2.5924470e-05],\n       [ 4.7323679e-06, -1.5510555e-05, -2.9339881e-06, ...,\n        -1.5400402e-06, -9.5467349e-06, -1.2157560e-05]], dtype=float32)>: ['Adam/lstm_3/lstm_cell_3/kernel/m']\n    <tf.Variable 'Adam/lstm_3/lstm_cell_3/recurrent_kernel/m:0' shape=(64, 256) dtype=float32, numpy=\narray([[ 5.8484843e-06, -2.2928190e-05,  2.2770793e-07, ...,\n        -1.7282648e-06, -7.2071202e-07, -2.8000097e-05],\n       [-1.0088415e-06, -5.5012049e-05,  1.4127682e-05, ...,\n        -1.9074003e-05, -4.0711970e-05, -6.6307417e-05],\n       [ 2.1976062e-05,  6.0432183e-05, -3.6120735e-05, ...,\n         1.6183647e-05,  1.7252336e-05,  3.8439543e-05],\n       ...,\n       [ 1.5419841e-05, -8.7017825e-06, -2.5118246e-05, ...,\n         7.6995202e-06,  1.6767706e-05, -1.3705623e-05],\n       [-4.8387710e-06, -1.4203024e-04, -3.3843316e-05, ...,\n        -2.2581791e-05,  1.6460635e-05, -1.4452050e-04],\n       [-1.5930262e-05, -8.4225503e-05,  2.0368481e-05, ...,\n        -1.9631379e-05, -1.8529623e-05, -7.5071082e-05]], dtype=float32)>: ['Adam/lstm_3/lstm_cell_3/recurrent_kernel/m']\n    <tf.Variable 'Adam/lstm_3/lstm_cell_3/bias/m:0' shape=(256,) dtype=float32, numpy=\narray([ 1.12903326e-04,  1.91333692e-03,  8.25085328e-04,  1.20536331e-03,\n       -8.31178477e-05,  6.67436339e-04,  2.34306150e-04,  6.32401439e-04,\n        1.13695487e-03,  1.95511547e-03,  8.40472640e-04,  1.38652069e-03,\n        2.13167840e-03,  1.63271173e-03,  5.50409313e-05,  5.22550778e-04,\n        8.09983409e-04,  4.39602998e-04,  4.33279522e-04, -1.76170113e-04,\n        1.29033474e-03,  1.11174118e-03,  2.49717315e-03,  6.10397474e-05,\n        5.13284758e-04,  2.98601954e-04,  2.43995208e-04,  7.26920785e-04,\n        1.61174758e-05,  1.39516575e-04,  1.51521061e-03,  2.54131126e-04,\n        2.52814061e-04,  1.37999177e-03,  1.94101746e-03,  1.57146924e-03,\n        7.96729364e-05,  7.41121417e-04,  3.51665047e-04, -3.95871029e-04,\n       -1.28857486e-04,  1.21376006e-05,  4.14235576e-04,  2.70415447e-04,\n        5.04783355e-04,  1.25895851e-04,  1.46646795e-04,  8.84921465e-04,\n        1.09818811e-03,  1.19926641e-03,  2.79310450e-04,  7.71269610e-04,\n        3.98415374e-04,  1.53393229e-03,  1.66776823e-04,  4.46640304e-04,\n        4.52876178e-04,  6.75621326e-04,  2.82595633e-04,  1.16714544e-03,\n        9.70852620e-04,  1.10787754e-04, -1.91785766e-05,  1.87562441e-03,\n        2.21573246e-05,  2.14674766e-03,  1.03342952e-03,  1.40821876e-03,\n       -1.82096177e-04,  8.37356842e-04,  2.99750409e-05,  7.77433743e-04,\n        1.40857743e-03,  2.33711256e-03,  8.62243294e-04,  1.67712686e-03,\n        2.58449372e-03,  1.92885171e-03, -1.57900267e-05,  6.32332172e-04,\n        9.95065086e-04,  5.01121511e-04,  4.50243591e-04, -2.15920183e-04,\n        1.60753471e-03,  1.24950672e-03,  3.00262216e-03,  8.20184141e-05,\n        4.81190014e-04,  2.09484162e-04,  2.31702419e-04,  8.52712314e-04,\n       -3.56800047e-06,  1.58771931e-04,  1.85810565e-03,  2.56064523e-04,\n        2.70863675e-04,  1.77274772e-03,  2.34847749e-03,  1.83803227e-03,\n       -6.03319631e-06,  9.02708620e-04,  4.41582117e-04, -5.43063041e-04,\n       -1.98569440e-04, -7.89387122e-05,  4.43254074e-04,  2.62038258e-04,\n        5.88747323e-04, -1.07741769e-04,  1.71428430e-04,  9.73903807e-04,\n        1.30357244e-03,  1.30515010e-03,  3.26188776e-04,  9.27833258e-04,\n       -6.17344573e-04,  1.74655463e-03,  1.97883084e-04,  5.34782885e-04,\n        4.61993477e-04,  7.64058845e-04,  2.93889258e-04,  1.42840215e-03,\n        1.15563930e-03,  9.47041117e-05, -3.30556868e-05,  2.28743092e-03,\n       -3.28745209e-02, -5.30047975e-02, -5.29868342e-03,  3.08302157e-02,\n        2.90557351e-02,  1.55209089e-02,  6.51684999e-02,  3.28856776e-03,\n       -7.74118537e-03, -3.43746715e-03,  4.98144254e-02,  1.16821770e-02,\n       -1.18809920e-02,  8.31579417e-03,  2.95615494e-02,  1.62138008e-02,\n        2.14515794e-02,  1.93924103e-02,  2.77694333e-02, -1.68427695e-02,\n       -1.41226826e-02,  2.82412507e-02, -1.84821393e-02,  1.44912656e-02,\n       -3.45292315e-02,  4.38968837e-02,  3.68818790e-02, -4.73154569e-03,\n       -2.88526714e-02,  5.12637245e-03,  5.28807752e-03, -2.52167005e-02,\n       -2.32652593e-02,  2.55551208e-02,  1.05384532e-02, -1.74532868e-02,\n        1.44633334e-02, -5.50668538e-02,  1.97259746e-02,  3.13523635e-02,\n       -1.44952815e-02,  3.73613238e-02, -1.78579409e-02,  1.38914790e-02,\n       -1.15496414e-02, -7.13974684e-02,  2.16113701e-02,  2.28361394e-02,\n       -1.93802975e-02,  1.85145400e-02, -5.97649487e-03, -1.49534065e-02,\n        1.37578651e-01, -3.29512134e-02, -8.43058061e-03,  5.80156501e-03,\n       -4.52732630e-02, -1.27890322e-03, -1.76090784e-02, -7.74546759e-04,\n       -4.84926393e-03, -1.15916925e-02,  2.81150881e-02, -4.98690829e-03,\n        1.02929924e-04,  1.88885536e-03,  9.08368267e-04,  1.19176728e-03,\n        4.26746446e-05,  6.81042147e-04,  1.78953123e-04,  6.69274654e-04,\n        1.18433801e-03,  2.10398925e-03,  7.18734693e-04,  1.42717524e-03,\n        2.19138153e-03,  1.68696570e-03,  8.35387327e-05,  5.73520199e-04,\n        8.33442260e-04,  4.33558656e-04,  5.17558190e-04, -1.75941837e-04,\n        1.30914617e-03,  1.16143492e-03,  2.50342698e-03,  1.05441693e-04,\n        4.40736301e-04,  2.54505168e-04,  2.46846670e-04,  7.23800564e-04,\n        2.23800853e-05,  1.50104592e-04,  1.45558501e-03,  3.58112302e-04,\n        2.07907768e-04,  1.50367559e-03,  2.28718715e-03,  1.58018386e-03,\n        8.41415604e-05,  8.80585401e-04,  3.69299873e-04, -4.00723889e-04,\n       -1.19105374e-04, -4.27707528e-06,  4.49289160e-04,  2.36700056e-04,\n        5.62187925e-04,  5.10016362e-05,  1.43644313e-04,  8.74195306e-04,\n        1.16783602e-03,  1.30085589e-03,  2.81780871e-04,  7.65673816e-04,\n        4.45707155e-05,  1.52192381e-03,  1.41288518e-04,  4.72913613e-04,\n        4.10791457e-04,  7.23167846e-04,  3.22943815e-04,  1.19291316e-03,\n        1.06487726e-03,  1.11207330e-04, -3.10121832e-05,  1.89889804e-03],\n      dtype=float32)>: ['Adam/lstm_3/lstm_cell_3/bias/m']\n    <tf.Variable 'Adam/embedding_3/embeddings/v:0' shape=(10000, 64) dtype=float32, numpy=\narray([[1.9912012e-02, 1.6246198e-02, 4.1669521e-02, ..., 2.4153769e-02,\n        3.8557500e-02, 1.9333845e-02],\n       [1.3956484e-04, 1.4360667e-04, 3.4803135e-04, ..., 1.8619695e-04,\n        3.1677392e-04, 1.3104352e-04],\n       [3.2184386e-07, 3.4615456e-07, 1.0668094e-06, ..., 4.1283167e-07,\n        8.4980019e-07, 2.8443614e-07],\n       ...,\n       [2.3100231e-09, 2.6258304e-09, 5.9084121e-10, ..., 2.0263400e-09,\n        5.1565641e-09, 1.4891142e-09],\n       [2.7918109e-10, 3.8016298e-10, 7.0017716e-09, ..., 1.6351177e-09,\n        1.1800895e-09, 1.0278455e-09],\n       [1.0714812e-09, 7.2052914e-10, 4.9339626e-09, ..., 3.8551766e-09,\n        9.7710562e-10, 2.0935946e-09]], dtype=float32)>: ['Adam/embedding_3/embeddings/v']\n    <tf.Variable 'Adam/dense_6/kernel/v:0' shape=(64, 64) dtype=float32, numpy=\narray([[7.32885823e-08, 1.82751094e-08, 4.02028171e-08, ...,\n        2.11315960e-08, 5.44280958e-08, 3.42935413e-09],\n       [6.09884694e-07, 5.36946665e-08, 3.70728571e-07, ...,\n        8.54791224e-08, 4.61742729e-07, 9.30889854e-09],\n       [2.42927030e-07, 1.25391097e-07, 1.76121731e-07, ...,\n        9.17791354e-08, 2.18972218e-07, 2.69613736e-08],\n       ...,\n       [7.45829283e-08, 3.20756719e-08, 6.75417198e-08, ...,\n        3.56387666e-08, 6.65511877e-08, 5.54427748e-09],\n       [8.04755416e-07, 4.98628161e-08, 5.19236892e-07, ...,\n        2.56650537e-07, 7.28025952e-07, 2.47742338e-09],\n       [5.13418627e-07, 1.00755585e-07, 3.13212126e-07, ...,\n        1.00220703e-07, 3.85043279e-07, 1.99570511e-08]], dtype=float32)>: ['Adam/dense_6/kernel/v']\n    <tf.Variable 'Adam/dense_6/bias/v:0' shape=(64,) dtype=float32, numpy=\narray([1.2701523e-05, 5.5301512e-06, 1.3409236e-05, 1.1128382e-05,\n       2.1100808e-05, 9.5855639e-06, 1.3945216e-05, 1.0503699e-05,\n       7.7172617e-06, 6.1344622e-06, 1.0018129e-05, 1.5421716e-05,\n       1.3309011e-05, 6.5030872e-06, 7.6599672e-06, 8.6368509e-06,\n       8.7474955e-06, 4.4657413e-06, 1.3716677e-05, 1.7482485e-05,\n       5.0402241e-06, 3.7713937e-06, 4.6525515e-06, 1.1588106e-06,\n       7.8805642e-06, 9.3840654e-06, 2.1225073e-06, 2.3339759e-05,\n       1.8815108e-05, 5.7185766e-06, 7.5792750e-06, 1.6014525e-06,\n       3.8806729e-06, 6.5063828e-06, 1.3647766e-05, 7.5875323e-06,\n       6.6555094e-06, 2.1377167e-05, 3.4255384e-06, 3.5081262e-06,\n       1.1817183e-05, 6.5836157e-06, 6.1367800e-06, 1.9199239e-05,\n       7.4123382e-06, 7.5999815e-06, 1.3323072e-05, 4.0831287e-06,\n       1.7360084e-05, 1.6570542e-05, 2.7907759e-06, 1.4512643e-05,\n       1.4208057e-05, 9.1692555e-06, 1.8262181e-05, 8.2751340e-06,\n       1.7752704e-05, 5.4233824e-06, 5.0020458e-06, 4.0974373e-06,\n       1.8288520e-05, 4.7320518e-06, 1.2003589e-05, 1.2748563e-06],\n      dtype=float32)>: ['Adam/dense_6/bias/v']\n    <tf.Variable 'Adam/dense_7/kernel/v:0' shape=(64, 3) dtype=float32, numpy=\narray([[3.83916358e-06, 5.62569221e-06, 9.48053071e-07],\n       [1.69982070e-06, 3.96387895e-06, 6.87549891e-06],\n       [1.14711547e-05, 1.59679093e-05, 2.64545565e-06],\n       [6.33157242e-06, 8.51029199e-06, 1.09373741e-06],\n       [2.11436077e-06, 2.94417441e-06, 6.18590229e-06],\n       [2.68699273e-06, 5.22085929e-06, 9.85362931e-06],\n       [3.55269804e-05, 4.75335837e-05, 9.54862844e-06],\n       [3.18372213e-06, 6.13075736e-06, 1.21429421e-05],\n       [2.49304912e-06, 1.72049874e-06, 1.81216899e-06],\n       [6.97735970e-07, 1.21525068e-06, 2.23949564e-06],\n       [4.72251713e-06, 6.91581363e-06, 1.46374987e-06],\n       [1.45492268e-05, 1.94446075e-05, 2.84308089e-06],\n       [7.20820481e-06, 1.02260256e-05, 1.63372397e-06],\n       [4.32307661e-06, 6.87435886e-06, 1.32724927e-05],\n       [6.18556896e-06, 8.24500512e-06, 1.65634610e-05],\n       [4.50460630e-06, 6.31183502e-06, 9.55757855e-07],\n       [1.63193499e-06, 4.58287059e-06, 7.94886182e-06],\n       [5.15982219e-06, 7.99324243e-06, 1.81909115e-06],\n       [1.01842334e-05, 1.46101765e-05, 1.80781876e-06],\n       [6.61090462e-06, 8.35043738e-06, 1.33040180e-06],\n       [5.26678650e-06, 5.54158714e-06, 1.79132962e-06],\n       [2.05451647e-06, 1.82649649e-06, 2.44641285e-07],\n       [9.11640018e-06, 1.24304670e-05, 1.59591411e-06],\n       [4.02536862e-05, 5.15913889e-05, 6.45613363e-06],\n       [1.16622787e-05, 1.33870308e-05, 2.94220240e-06],\n       [7.31832279e-06, 5.94967923e-06, 1.56960232e-05],\n       [1.62320521e-06, 4.48700348e-06, 6.96406460e-06],\n       [1.51733343e-06, 3.20982690e-06, 5.75832155e-06],\n       [4.96121402e-06, 4.37534709e-06, 5.12094221e-06],\n       [1.74776710e-06, 3.41703503e-06, 2.94077449e-06],\n       [2.63366437e-05, 3.41234954e-05, 4.40098665e-06],\n       [6.05053742e-07, 5.99797147e-07, 2.75814955e-07],\n       [1.27072803e-06, 2.58232376e-06, 4.69447696e-06],\n       [3.34610559e-05, 4.34166141e-05, 5.04603122e-06],\n       [8.38674259e-06, 9.47087301e-06, 1.65238851e-06],\n       [4.81454663e-06, 7.24377151e-06, 1.49103098e-05],\n       [2.67752762e-06, 3.08202220e-06, 6.58065619e-06],\n       [7.25659629e-06, 7.50593517e-06, 2.10880148e-06],\n       [1.37467828e-06, 1.32591572e-06, 2.04723051e-06],\n       [1.69078692e-06, 1.61751780e-06, 4.00725730e-06],\n       [1.34824550e-05, 1.53176352e-05, 2.65141466e-06],\n       [7.86373130e-06, 9.38626090e-06, 1.56173849e-06],\n       [3.25157453e-06, 3.06246784e-06, 6.74162857e-06],\n       [1.55998544e-06, 2.57975034e-06, 5.01531849e-06],\n       [9.42260613e-06, 1.20057930e-05, 1.67407291e-06],\n       [2.17255433e-06, 1.95753182e-06, 5.29881106e-07],\n       [2.34282675e-06, 3.06442212e-06, 6.48258674e-06],\n       [3.28569549e-05, 4.33478381e-05, 6.03400076e-06],\n       [5.40869905e-06, 4.21500863e-06, 5.60365561e-06],\n       [6.44191186e-06, 7.20707976e-06, 2.27308260e-06],\n       [4.09163931e-07, 5.05416267e-07, 9.40537802e-07],\n       [8.52853100e-06, 1.13690985e-05, 2.42729493e-06],\n       [2.86445447e-06, 3.55168754e-06, 7.74577256e-06],\n       [1.36325161e-05, 1.63229415e-05, 2.46827358e-06],\n       [2.05201286e-05, 2.63769271e-05, 3.25796918e-06],\n       [7.69320468e-06, 9.63756793e-06, 1.90621790e-06],\n       [2.17829734e-06, 3.93652226e-06, 7.74788259e-06],\n       [2.00147206e-05, 2.60015404e-05, 3.50811251e-06],\n       [5.31171600e-06, 8.51226469e-06, 2.02465071e-06],\n       [1.17533327e-05, 1.62388678e-05, 2.29420812e-06],\n       [2.87538955e-06, 4.24880545e-06, 8.07623474e-06],\n       [2.97833503e-06, 7.90737431e-06, 1.03400516e-05],\n       [4.84640441e-06, 6.38211486e-06, 1.21906658e-06],\n       [5.57161820e-06, 1.33953317e-05, 2.31659415e-05]], dtype=float32)>: ['Adam/dense_7/kernel/v']\n    <tf.Variable 'Adam/dense_7/bias/v:0' shape=(3,) dtype=float32, numpy=array([0.00018025, 0.00021512, 0.00019757], dtype=float32)>: ['Adam/dense_7/bias/v']\n    <tf.Variable 'Adam/lstm_3/lstm_cell_3/kernel/v:0' shape=(64, 256) dtype=float32, numpy=\narray([[1.67161562e-10, 2.97538660e-09, 1.05140230e-10, ...,\n        2.72478519e-13, 4.14592249e-11, 5.09423059e-10],\n       [5.30284150e-10, 1.91048048e-08, 1.69893355e-09, ...,\n        4.34953740e-11, 3.40941331e-10, 9.13428444e-09],\n       [1.68832462e-10, 3.74068598e-09, 4.76331141e-10, ...,\n        2.73373967e-12, 4.34563746e-10, 1.87180027e-09],\n       ...,\n       [1.69403144e-10, 7.43397899e-10, 1.03675665e-10, ...,\n        2.29449576e-12, 6.81601789e-11, 4.71536254e-10],\n       [1.21843624e-09, 2.80514421e-08, 2.24637353e-09, ...,\n        5.31205323e-11, 6.72551681e-10, 1.42190038e-08],\n       [2.29042146e-10, 1.07080540e-08, 9.74893166e-10, ...,\n        2.42571397e-11, 2.45620524e-10, 6.16941209e-09]], dtype=float32)>: ['Adam/lstm_3/lstm_cell_3/kernel/v']\n    <tf.Variable 'Adam/lstm_3/lstm_cell_3/recurrent_kernel/v:0' shape=(64, 256) dtype=float32, numpy=\narray([[3.3738392e-09, 6.4883928e-08, 5.1522937e-09, ..., 2.8500999e-10,\n        5.2197309e-09, 3.7508737e-08],\n       [1.3033319e-08, 4.1806598e-07, 2.3063251e-08, ..., 9.6570729e-10,\n        2.6811692e-08, 2.5920906e-07],\n       [4.3480104e-09, 1.9651547e-07, 3.2480912e-08, ..., 1.4663105e-09,\n        1.1539442e-08, 1.6936022e-07],\n       ...,\n       [1.2591008e-09, 3.7494910e-08, 3.7049739e-09, ..., 1.0571399e-09,\n        2.6061553e-09, 3.1451261e-08],\n       [1.7968476e-08, 3.5700759e-07, 1.5671105e-08, ..., 1.5673187e-09,\n        8.6469313e-08, 1.6300486e-07],\n       [9.3838546e-09, 3.7769885e-07, 3.2439150e-08, ..., 1.3998267e-09,\n        2.2568884e-08, 2.8283145e-07]], dtype=float32)>: ['Adam/lstm_3/lstm_cell_3/recurrent_kernel/v']\n    <tf.Variable 'Adam/lstm_3/lstm_cell_3/bias/v:0' shape=(256,) dtype=float32, numpy=\narray([1.59838623e-06, 5.44947034e-05, 6.58790668e-06, 2.21184582e-05,\n       5.01251770e-06, 8.49636854e-06, 5.78818981e-06, 5.02082321e-06,\n       1.62135766e-05, 5.49453944e-05, 6.28942735e-06, 2.30560127e-05,\n       6.72675742e-05, 3.75992386e-05, 3.72319437e-06, 3.22501160e-06,\n       8.97937844e-06, 4.78430866e-06, 1.18360222e-05, 8.49842081e-07,\n       1.57744525e-05, 2.24577616e-05, 7.93425424e-05, 1.68908628e-06,\n       4.47781849e-06, 3.23506652e-06, 1.71207751e-06, 7.24224583e-06,\n       1.47849357e-06, 2.41782118e-06, 2.06053519e-05, 5.14859676e-06,\n       1.77787888e-06, 1.43340112e-05, 5.81401873e-05, 2.89511809e-05,\n       5.30677880e-06, 3.47735440e-05, 4.47446746e-06, 1.89242576e-06,\n       9.99509098e-07, 1.08519089e-06, 6.75194224e-06, 4.57190055e-07,\n       3.96901532e-06, 3.46695515e-06, 7.43666817e-07, 1.63607438e-05,\n       4.35349757e-05, 4.41924858e-05, 1.44349633e-06, 9.97621100e-06,\n       3.29657414e-05, 3.57624558e-05, 4.13009388e-07, 7.15592819e-07,\n       5.30454690e-06, 7.28178884e-06, 3.51272661e-07, 1.01989071e-05,\n       1.73545504e-05, 1.15657443e-07, 1.98900125e-06, 3.50987102e-05,\n       2.57310148e-06, 9.21007013e-05, 1.11412328e-05, 3.58785437e-05,\n       8.24615472e-06, 1.43494754e-05, 9.72478301e-06, 8.24394374e-06,\n       2.63723996e-05, 9.00216619e-05, 1.24540375e-05, 3.82858852e-05,\n       1.08845270e-04, 6.00025160e-05, 5.71086275e-06, 5.14581006e-06,\n       1.44621636e-05, 7.33727120e-06, 1.89650909e-05, 1.20530331e-06,\n       2.57772881e-05, 3.62831197e-05, 1.31631241e-04, 2.72290617e-06,\n       8.35978972e-06, 5.03938963e-06, 2.53482312e-06, 1.16615374e-05,\n       2.25755002e-06, 3.98604834e-06, 3.38504797e-05, 8.75192654e-06,\n       3.00310603e-06, 3.09598545e-05, 9.35291609e-05, 4.56379348e-05,\n       8.13948009e-06, 6.04705674e-05, 7.76447268e-06, 2.99352087e-06,\n       1.69126815e-06, 1.80601842e-06, 1.04875517e-05, 7.63272510e-07,\n       6.07110360e-06, 6.47725528e-06, 1.24468340e-06, 2.54854949e-05,\n       7.50763429e-05, 6.96362404e-05, 2.25577719e-06, 1.69093291e-05,\n       6.55965923e-05, 6.14187811e-05, 7.13217446e-07, 1.17605350e-06,\n       9.00980558e-06, 1.11028503e-05, 5.77386061e-07, 1.61126009e-05,\n       2.74831364e-05, 1.93407672e-07, 4.07839480e-06, 5.72382633e-05,\n       1.57624912e-02, 1.54774591e-01, 3.52771990e-02, 8.10504779e-02,\n       1.25418324e-02, 5.31897545e-02, 3.08238044e-02, 3.68129387e-02,\n       3.80211733e-02, 2.00413391e-01, 2.35536173e-02, 9.37848017e-02,\n       1.36296049e-01, 9.17401090e-02, 2.51579974e-02, 3.04098912e-02,\n       6.61339536e-02, 2.60744598e-02, 7.28134587e-02, 2.64133960e-02,\n       3.31528857e-02, 6.79453909e-02, 1.44119382e-01, 6.89371070e-03,\n       1.41747110e-02, 4.74281870e-02, 1.42993303e-02, 4.56927791e-02,\n       1.06833810e-02, 8.89603794e-03, 5.93218692e-02, 3.11370343e-02,\n       6.07873779e-03, 2.16685254e-02, 1.60531282e-01, 9.83061269e-02,\n       6.96646497e-02, 1.10388018e-01, 1.46666579e-02, 6.69834856e-03,\n       6.26324909e-03, 8.87206290e-03, 4.34862040e-02, 1.29004684e-03,\n       2.31258888e-02, 3.53677720e-02, 4.88275615e-03, 5.27092889e-02,\n       1.17802046e-01, 9.12055671e-02, 1.14549845e-02, 5.21189459e-02,\n       1.36333272e-01, 7.51280785e-02, 1.24538422e-03, 3.63600417e-03,\n       2.10734457e-02, 2.67178714e-02, 1.83029717e-03, 4.36487123e-02,\n       8.30732509e-02, 7.88651349e-04, 9.06765275e-03, 1.14205800e-01,\n       1.60801881e-06, 5.47270247e-05, 7.30470583e-06, 2.25897165e-05,\n       5.36694142e-06, 8.60470118e-06, 6.32955425e-06, 5.28398687e-06,\n       1.67607850e-05, 5.89564370e-05, 6.99374687e-06, 2.45627889e-05,\n       7.09759333e-05, 4.00304743e-05, 3.71811893e-06, 3.34363540e-06,\n       9.20644925e-06, 4.81317147e-06, 1.24697681e-05, 8.36699087e-07,\n       1.70868716e-05, 2.34973777e-05, 8.42308655e-05, 1.84458634e-06,\n       4.70241321e-06, 3.11711574e-06, 1.73099045e-06, 7.79899983e-06,\n       1.52903442e-06, 2.59826243e-06, 2.19378780e-05, 5.69795020e-06,\n       1.89262880e-06, 1.77362872e-05, 6.52146700e-05, 2.92398490e-05,\n       5.41653844e-06, 3.77899050e-05, 4.81981897e-06, 1.98867588e-06,\n       1.06829532e-06, 1.09159203e-06, 6.75878437e-06, 4.80885319e-07,\n       4.38352890e-06, 3.78394907e-06, 7.27035228e-07, 1.68959796e-05,\n       4.75089291e-05, 4.99851303e-05, 1.51881682e-06, 1.08848099e-05,\n       3.76117605e-05, 3.81498467e-05, 4.54654099e-07, 7.75684498e-07,\n       5.45218836e-06, 8.06237949e-06, 4.04464686e-07, 1.06264906e-05,\n       1.84790151e-05, 1.15363626e-07, 2.27915234e-06, 3.58108809e-05],\n      dtype=float32)>: ['Adam/lstm_3/lstm_cell_3/bias/v']"
          ]
        }
      ]
    },
    {
      "cell_type": "code",
      "metadata": {
        "id": "KQ2zMk5Xxzz9",
        "colab_type": "code",
        "colab": {
          "base_uri": "https://localhost:8080/",
          "height": 591
        },
        "outputId": "d9d93881-44fc-4d36-b810-a01b7c11b401"
      },
      "source": [
        "print(history.history.keys())\n",
        "# summarize history for accuracy\n",
        "plt.plot(history.history['accuracy'])\n",
        "plt.plot(history.history['val_accuracy'])\n",
        "plt.title('model accuracy')\n",
        "plt.ylabel('accuracy')\n",
        "plt.xlabel('epoch')\n",
        "plt.legend(['train', 'test'], loc='upper left') \n",
        "plt.show()\n",
        "# summarize history for loss \n",
        "plt.plot(history.history['loss']) \n",
        "plt.plot(history.history['val_loss']) \n",
        "plt.title('model loss')\n",
        "plt.ylabel('loss')\n",
        "plt.xlabel('epoch')\n",
        "plt.legend(['train', 'test'], loc='upper left') \n",
        "plt.show()"
      ],
      "execution_count": 105,
      "outputs": [
        {
          "output_type": "stream",
          "text": [
            "dict_keys(['loss', 'accuracy', 'val_loss', 'val_accuracy'])\n"
          ],
          "name": "stdout"
        },
        {
          "output_type": "display_data",
          "data": {
            "image/png": "[encoded data removed]",
            "text/plain": [
              "<Figure size 432x288 with 1 Axes>"
            ]
          },
          "metadata": {
            "tags": [],
            "needs_background": "light"
          }
        },
        {
          "output_type": "display_data",
          "data": {
            "image/png": "[encoded data removed]",
            "text/plain": [
              "<Figure size 432x288 with 1 Axes>"
            ]
          },
          "metadata": {
            "tags": [],
            "needs_background": "light"
          }
        }
      ]
    },
    {
      "cell_type": "code",
      "metadata": {
        "id": "92mPaOgrgyDZ",
        "colab_type": "code",
        "colab": {}
      },
      "source": [
        "from  sklearn.metrics import classification_report \n"
      ],
      "execution_count": null,
      "outputs": []
    },
    {
      "cell_type": "code",
      "metadata": {
        "id": "tPabJSfEC6q_",
        "colab_type": "code",
        "colab": {}
      },
      "source": [
        "X_train, X_test = X[:len(train_df)], X[len(train_df):]\n",
        "y_train, y_test = Y[:len(train_df)], Y[len(train_df):]"
      ],
      "execution_count": null,
      "outputs": []
    },
    {
      "cell_type": "code",
      "metadata": {
        "id": "xJYHFh-hutVF",
        "colab_type": "code",
        "colab": {
          "base_uri": "https://localhost:8080/",
          "height": 172
        },
        "outputId": "0abc2aaa-3d69-4f73-f69c-2ba79a927c3b"
      },
      "source": [
        "temp1"
      ],
      "execution_count": null,
      "outputs": [
        {
          "output_type": "error",
          "ename": "NameError",
          "evalue": "ignored",
          "traceback": [
            "\u001b[0;31m---------------------------------------------------------------------------\u001b[0m",
            "\u001b[0;31mNameError\u001b[0m                                 Traceback (most recent call last)",
            "\u001b[0;32m<ipython-input-2-41650822ff04>\u001b[0m in \u001b[0;36m<module>\u001b[0;34m()\u001b[0m\n\u001b[0;32m----> 1\u001b[0;31m \u001b[0mtemp1\u001b[0m\u001b[0;34m\u001b[0m\u001b[0;34m\u001b[0m\u001b[0m\n\u001b[0m",
            "\u001b[0;31mNameError\u001b[0m: name 'temp1' is not defined"
          ]
        }
      ]
    },
    {
      "cell_type": "code",
      "metadata": {
        "id": "y8pNc8weOg35",
        "colab_type": "code",
        "colab": {
          "base_uri": "https://localhost:8080/",
          "height": 35
        },
        "outputId": "1539d8d3-063a-4a05-e619-a3aacc046dd0"
      },
      "source": [
        "X_train.shape"
      ],
      "execution_count": null,
      "outputs": [
        {
          "output_type": "execute_result",
          "data": {
            "text/plain": [
              "(44919, 800)"
            ]
          },
          "metadata": {
            "tags": []
          },
          "execution_count": 46
        }
      ]
    },
    {
      "cell_type": "code",
      "metadata": {
        "id": "rOeHbb0qOsPS",
        "colab_type": "code",
        "colab": {
          "base_uri": "https://localhost:8080/",
          "height": 35
        },
        "outputId": "94dfe44d-d33e-4373-b949-f2695a84c7f3"
      },
      "source": [
        "!pwd"
      ],
      "execution_count": null,
      "outputs": [
        {
          "output_type": "stream",
          "text": [
            "/content\n"
          ],
          "name": "stdout"
        }
      ]
    },
    {
      "cell_type": "code",
      "metadata": {
        "id": "TtVntDb6CSOw",
        "colab_type": "code",
        "colab": {
          "base_uri": "https://localhost:8080/",
          "height": 35
        },
        "outputId": "2886874f-eba3-495b-b958-0eebc606d955"
      },
      "source": [
        "np.concatenate([X_train_padded, X_validation_padded]).shape"
      ],
      "execution_count": null,
      "outputs": [
        {
          "output_type": "execute_result",
          "data": {
            "text/plain": [
              "(49410, 60)"
            ]
          },
          "metadata": {
            "tags": []
          },
          "execution_count": 37
        }
      ]
    },
    {
      "cell_type": "code",
      "metadata": {
        "id": "JqYmgWKkTRue",
        "colab_type": "code",
        "colab": {
          "base_uri": "https://localhost:8080/",
          "height": 35
        },
        "outputId": "592ca88b-f48f-409c-a37c-299a76526e8d"
      },
      "source": [
        "X_train_padded.shap"
      ],
      "execution_count": null,
      "outputs": [
        {
          "output_type": "execute_result",
          "data": {
            "text/plain": [
              "(44919, 60)"
            ]
          },
          "metadata": {
            "tags": []
          },
          "execution_count": 36
        }
      ]
    },
    {
      "cell_type": "code",
      "metadata": {
        "id": "g_LXk2JhCPjD",
        "colab_type": "code",
        "colab": {}
      },
      "source": [
        ""
      ],
      "execution_count": null,
      "outputs": []
    },
    {
      "cell_type": "markdown",
      "metadata": {
        "id": "Mrjq8AXBLNib",
        "colab_type": "text"
      },
      "source": [
        "### 乱写"
      ]
    },
    {
      "cell_type": "code",
      "metadata": {
        "id": "_IMKo2DoLPrX",
        "colab_type": "code",
        "colab": {
          "base_uri": "https://localhost:8080/",
          "height": 172
        },
        "outputId": "5ef5f2c3-b114-4d16-fd24-d65994759f4e"
      },
      "source": [
        "x_train"
      ],
      "execution_count": null,
      "outputs": [
        {
          "output_type": "error",
          "ename": "NameError",
          "evalue": "ignored",
          "traceback": [
            "\u001b[0;31m---------------------------------------------------------------------------\u001b[0m",
            "\u001b[0;31mNameError\u001b[0m                                 Traceback (most recent call last)",
            "\u001b[0;32m<ipython-input-32-80784060c951>\u001b[0m in \u001b[0;36m<module>\u001b[0;34m()\u001b[0m\n\u001b[0;32m----> 1\u001b[0;31m \u001b[0mx_train\u001b[0m\u001b[0;34m\u001b[0m\u001b[0;34m\u001b[0m\u001b[0m\n\u001b[0m",
            "\u001b[0;31mNameError\u001b[0m: name 'x_train' is not defined"
          ]
        }
      ]
    },
    {
      "cell_type": "code",
      "metadata": {
        "id": "X_N3RSBcTfp-",
        "colab_type": "code",
        "colab": {}
      },
      "source": [
        "model = tf.keras.Sequential([\n",
        "    tf.keras.layers.Dense(800, activation='relu'),\n",
        "    # tf.keras.layers.Dropout(0.4),\n",
        "    tf.keras.layers.Dense(3, activation='softmax')\n",
        "])"
      ],
      "execution_count": null,
      "outputs": []
    },
    {
      "cell_type": "code",
      "metadata": {
        "id": "LU8vj7bzXuyh",
        "colab_type": "code",
        "colab": {
          "base_uri": "https://localhost:8080/",
          "height": 737
        },
        "outputId": "bfec8416-01f2-42ef-fec6-b0a3560ed573"
      },
      "source": [
        "num_epochs = 20\n",
        "model.compile(loss='sparse_categorical_crossentropy', optimizer='adam', metrics=['accuracy'])\n",
        "history = model.fit(X_train,\n",
        "                    y_train+1,\n",
        "                    epochs=num_epochs,\n",
        "                    validation_data=(X_test, y_test+1), \n",
        "                    verbose=2)"
      ],
      "execution_count": null,
      "outputs": [
        {
          "output_type": "stream",
          "text": [
            "Epoch 1/20\n",
            "1404/1404 - 3s - loss: 0.4550 - accuracy: 0.8152 - val_loss: 1.4578 - val_accuracy: 0.5498\n",
            "Epoch 2/20\n",
            "1404/1404 - 3s - loss: 0.4396 - accuracy: 0.8231 - val_loss: 1.4759 - val_accuracy: 0.5237\n",
            "Epoch 3/20\n",
            "1404/1404 - 3s - loss: 0.4259 - accuracy: 0.8301 - val_loss: 1.4638 - val_accuracy: 0.5507\n",
            "Epoch 4/20\n",
            "1404/1404 - 3s - loss: 0.4111 - accuracy: 0.8382 - val_loss: 1.5366 - val_accuracy: 0.5279\n",
            "Epoch 5/20\n",
            "1404/1404 - 3s - loss: 0.3983 - accuracy: 0.8429 - val_loss: 1.6854 - val_accuracy: 0.5268\n",
            "Epoch 6/20\n",
            "1404/1404 - 3s - loss: 0.3861 - accuracy: 0.8498 - val_loss: 1.5105 - val_accuracy: 0.5275\n",
            "Epoch 7/20\n",
            "1404/1404 - 3s - loss: 0.3756 - accuracy: 0.8546 - val_loss: 1.6463 - val_accuracy: 0.5144\n",
            "Epoch 8/20\n",
            "1404/1404 - 3s - loss: 0.3618 - accuracy: 0.8624 - val_loss: 1.7341 - val_accuracy: 0.5237\n",
            "Epoch 9/20\n",
            "1404/1404 - 3s - loss: 0.3510 - accuracy: 0.8662 - val_loss: 1.6698 - val_accuracy: 0.5369\n",
            "Epoch 10/20\n",
            "1404/1404 - 3s - loss: 0.3392 - accuracy: 0.8719 - val_loss: 1.8170 - val_accuracy: 0.5222\n",
            "Epoch 11/20\n",
            "1404/1404 - 3s - loss: 0.3324 - accuracy: 0.8756 - val_loss: 2.0330 - val_accuracy: 0.5155\n",
            "Epoch 12/20\n",
            "1404/1404 - 3s - loss: 0.3201 - accuracy: 0.8835 - val_loss: 2.0578 - val_accuracy: 0.5166\n",
            "Epoch 13/20\n",
            "1404/1404 - 3s - loss: 0.3107 - accuracy: 0.8868 - val_loss: 1.8395 - val_accuracy: 0.5202\n",
            "Epoch 14/20\n",
            "1404/1404 - 3s - loss: 0.3039 - accuracy: 0.8899 - val_loss: 1.9496 - val_accuracy: 0.5215\n",
            "Epoch 15/20\n",
            "1404/1404 - 3s - loss: 0.2951 - accuracy: 0.8937 - val_loss: 1.9895 - val_accuracy: 0.5139\n",
            "Epoch 16/20\n",
            "1404/1404 - 3s - loss: 0.2819 - accuracy: 0.8983 - val_loss: 1.9595 - val_accuracy: 0.5104\n",
            "Epoch 17/20\n",
            "1404/1404 - 3s - loss: 0.2772 - accuracy: 0.9016 - val_loss: 2.1784 - val_accuracy: 0.5101\n",
            "Epoch 18/20\n",
            "1404/1404 - 3s - loss: 0.2725 - accuracy: 0.9044 - val_loss: 2.0496 - val_accuracy: 0.5259\n",
            "Epoch 19/20\n",
            "1404/1404 - 3s - loss: 0.2603 - accuracy: 0.9116 - val_loss: 2.1525 - val_accuracy: 0.5304\n",
            "Epoch 20/20\n",
            "1404/1404 - 3s - loss: 0.2517 - accuracy: 0.9122 - val_loss: 2.2987 - val_accuracy: 0.5092\n"
          ],
          "name": "stdout"
        }
      ]
    },
    {
      "cell_type": "code",
      "metadata": {
        "id": "mJdQiiLQYDZz",
        "colab_type": "code",
        "colab": {
          "base_uri": "https://localhost:8080/",
          "height": 35
        },
        "outputId": "381cd9a2-416d-4fdf-cf5a-594a709599bb"
      },
      "source": [
        "%cd ../.."
      ],
      "execution_count": null,
      "outputs": [
        {
          "output_type": "stream",
          "text": [
            "/content\n"
          ],
          "name": "stdout"
        }
      ]
    },
    {
      "cell_type": "code",
      "metadata": {
        "id": "z622SFYRs1bW",
        "colab_type": "code",
        "colab": {
          "base_uri": "https://localhost:8080/",
          "height": 35
        },
        "outputId": "7c4b215e-d697-4802-bf3c-ac5ce222612c"
      },
      "source": [
        "%cd drive/My\\ Drive/疫情期间网民情绪识别"
      ],
      "execution_count": null,
      "outputs": [
        {
          "output_type": "stream",
          "text": [
            "/content/drive/My Drive/疫情期间网民情绪识别\n"
          ],
          "name": "stdout"
        }
      ]
    },
    {
      "cell_type": "code",
      "metadata": {
        "id": "QEPD_y8roBAp",
        "colab_type": "code",
        "colab": {
          "base_uri": "https://localhost:8080/",
          "height": 35
        },
        "outputId": "a6db4ce9-b5e6-425c-a68e-0fa1583204cf"
      },
      "source": [
        "cd ../mechine_learning_cjw/"
      ],
      "execution_count": null,
      "outputs": [
        {
          "output_type": "stream",
          "text": [
            "/content/drive/My Drive/mechine_learning_cjw\n"
          ],
          "name": "stdout"
        }
      ]
    },
    {
      "cell_type": "code",
      "metadata": {
        "id": "xcRCiiAqoD0M",
        "colab_type": "code",
        "colab": {
          "base_uri": "https://localhost:8080/",
          "height": 125
        },
        "outputId": "880b54a8-dd30-4008-e260-93d507eb29c1"
      },
      "source": [
        "!ls"
      ],
      "execution_count": null,
      "outputs": [
        {
          "output_type": "stream",
          "text": [
            " DataFountain.ipynb\n",
            "'D:\\Third2\\mechine learning\\疫情期间网民情绪识别\\sentiment.marshal.3'\n",
            " myrnn.ipynb\n",
            " RNN.ipynb\n",
            " snownlp.ipynb\n",
            " 疫情期间网民情绪识别\n"
          ],
          "name": "stdout"
        }
      ]
    },
    {
      "cell_type": "code",
      "metadata": {
        "id": "WvG6R5IxoEuj",
        "colab_type": "code",
        "colab": {
          "base_uri": "https://localhost:8080/",
          "height": 35
        },
        "outputId": "0d94d45a-5395-479d-aad2-f6feac1a5b3e"
      },
      "source": [
        "cd 疫情期间网民情绪识别"
      ],
      "execution_count": null,
      "outputs": [
        {
          "output_type": "stream",
          "text": [
            "/content/drive/My Drive/mechine_learning_cjw/疫情期间网民情绪识别\n"
          ],
          "name": "stdout"
        }
      ]
    },
    {
      "cell_type": "code",
      "metadata": {
        "id": "knQt0yWZoIJC",
        "colab_type": "code",
        "colab": {
          "base_uri": "https://localhost:8080/",
          "height": 163
        },
        "outputId": "4faad482-501e-42c7-c960-3333c71bb965"
      },
      "source": [
        "!ls"
      ],
      "execution_count": null,
      "outputs": [
        {
          "output_type": "stream",
          "text": [
            "all_res_dep.txt  res_dep_1.txt\t       snownlp_train_pre.txt  train.csv\n",
            "checkpoints\t res_dep1.txt\t       stopWord.txt\t      trainlable.txt\n",
            "neg.txt\t\t res_dep2.txt\t       test.csv\t\t      vectors512.txt\n",
            "pos.txt\t\t res_dep.txt\t       testdata.csv\t      vectors.txt\n",
            "__pycache__\t sentiment.marshal.3   test_labled.csv\t      题目描述.docx\n",
            "resdata.csv\t snownlp.py\t       testlable.txt\n",
            "res_dep0.txt\t snownlp_test_pre.txt  testoutput.txt\n"
          ],
          "name": "stdout"
        }
      ]
    },
    {
      "cell_type": "code",
      "metadata": {
        "id": "hVw7AaiFoJHX",
        "colab_type": "code",
        "colab": {}
      },
      "source": [
        "X_train = pd.read_csv(\"resdata.csv\")"
      ],
      "execution_count": null,
      "outputs": []
    },
    {
      "cell_type": "code",
      "metadata": {
        "id": "rkYFC5jI_7fW",
        "colab_type": "code",
        "colab": {}
      },
      "source": [
        ""
      ],
      "execution_count": null,
      "outputs": []
    },
    {
      "cell_type": "code",
      "metadata": {
        "id": "dbMr9AgwoVmR",
        "colab_type": "code",
        "colab": {}
      },
      "source": [
        "X_test = pd.read_csv(\"testdata.csv\")\n",
        "X_test = X_test.dropna(axis=0,how='any')"
      ],
      "execution_count": null,
      "outputs": []
    },
    {
      "cell_type": "code",
      "metadata": {
        "id": "tIbBXQ2R6jQJ",
        "colab_type": "code",
        "colab": {}
      },
      "source": [
        "X_test = X_test.dropna(axis=0,how='any')"
      ],
      "execution_count": null,
      "outputs": []
    },
    {
      "cell_type": "code",
      "metadata": {
        "id": "C7vfImsboaic",
        "colab_type": "code",
        "colab": {
          "base_uri": "https://localhost:8080/",
          "height": 289
        },
        "outputId": "931a8eb0-5a9c-434d-e0e5-f5bf1ba2b0e3"
      },
      "source": [
        "X_train.info"
      ],
      "execution_count": null,
      "outputs": [
        {
          "output_type": "execute_result",
          "data": {
            "text/plain": [
              "<bound method DataFrame.info of        Unnamed: 0    0       0.1  ...       509       510       511\n",
              "0               0  1.0 -0.043692  ... -0.246957 -0.132966  0.141173\n",
              "1               1  1.0  0.017410  ... -0.085604 -0.008279  0.119278\n",
              "2               2  1.0 -0.188406  ... -0.236241 -0.096469  0.046397\n",
              "3               3  1.0  0.135459  ... -0.035111  0.025478  0.075015\n",
              "4               4  1.0 -0.040328  ... -0.131889 -0.046035 -0.049342\n",
              "...           ...  ...       ...  ...       ...       ...       ...\n",
              "44815       44815 -1.0 -0.009673  ... -0.189309 -0.070207 -0.025246\n",
              "44816       44816 -1.0  0.777917  ... -0.343000 -0.190634  0.260587\n",
              "44817       44817 -1.0  0.126759  ... -0.074321  0.147734  0.201043\n",
              "44818       44818 -1.0  0.030822  ... -0.189055  0.090857 -0.129999\n",
              "44819       44819 -1.0  0.000136  ...  0.021596 -0.307880 -0.109679\n",
              "\n",
              "[44820 rows x 514 columns]>"
            ]
          },
          "metadata": {
            "tags": []
          },
          "execution_count": 11
        }
      ]
    },
    {
      "cell_type": "code",
      "metadata": {
        "id": "l3sA-pFwoeo8",
        "colab_type": "code",
        "colab": {}
      },
      "source": [
        "y = X_test.iloc[:,1]\n",
        "x = X_test.iloc[:,2:]"
      ],
      "execution_count": null,
      "outputs": []
    },
    {
      "cell_type": "code",
      "metadata": {
        "id": "o-bCho52pUJ3",
        "colab_type": "code",
        "colab": {}
      },
      "source": [
        "import sys\n",
        "import numpy as np\n",
        "import pandas as pd\n",
        "import matplotlib.pyplot as plt\n",
        "from sklearn.decomposition import PCA\n",
        "from sklearn import svm\n",
        "from sklearn import metrics"
      ],
      "execution_count": null,
      "outputs": []
    },
    {
      "cell_type": "code",
      "metadata": {
        "id": "JL68mWgWpQ2y",
        "colab_type": "code",
        "colab": {
          "base_uri": "https://localhost:8080/",
          "height": 214
        },
        "outputId": "d10cdec3-5a4c-4e28-f4ad-66fe38df4e2b"
      },
      "source": [
        "n_components = 512\n",
        "pca = PCA(n_components=n_components)\n",
        "pca.fit(x)\n",
        "#print pca.explained_variance_ratio_\n",
        "\n",
        "##PCA作图\n",
        "plt.figure(1, figsize=(4, 3))\n",
        "plt.clf()\n",
        "plt.axes([.2, .2, .7, .7])\n",
        "plt.plot(pca.explained_variance_, linewidth=2)\n",
        "plt.axis('tight')\n",
        "plt.xlabel('n_components')\n",
        "plt.ylabel('explained_variance_')\n",
        "plt.show()\n"
      ],
      "execution_count": null,
      "outputs": [
        {
          "output_type": "display_data",
          "data": {
            "image/png": "[encoded data removed]",
            "text/plain": [
              "<Figure size 288x216 with 1 Axes>"
            ]
          },
          "metadata": {
            "tags": [],
            "needs_background": "light"
          }
        }
      ]
    },
    {
      "cell_type": "code",
      "metadata": {
        "id": "w8rkFsw_pRdU",
        "colab_type": "code",
        "colab": {
          "base_uri": "https://localhost:8080/",
          "height": 35
        },
        "outputId": "4b59111a-21fc-4971-84f7-f9d537595d06"
      },
      "source": [
        "x_pca = PCA(n_components = 100).fit_transform(x)\n",
        "\n",
        "\n",
        "# SVM (RBF)\n",
        "# using training data with 100 dimensions\n",
        "\n",
        "clf = svm.SVC(C = 2, probability = True)\n",
        "clf.fit(x_pca,y)\n",
        "print ('Train Accuracy: %.2f'% clf.score(x_pca,y))\n",
        "train_predict_res=clf.predict(x_pca)\n",
        "train_predict_proba=clf.res=clf.predict_proba(x_pca)"
      ],
      "execution_count": null,
      "outputs": [
        {
          "output_type": "stream",
          "text": [
            "Train Accuracy: 0.81\n"
          ],
          "name": "stdout"
        }
      ]
    },
    {
      "cell_type": "code",
      "metadata": {
        "id": "fhQp4e6z7CZ3",
        "colab_type": "code",
        "colab": {}
      },
      "source": [
        "x_pca = PCA(n_components = 100).fit_transform(x)"
      ],
      "execution_count": null,
      "outputs": []
    },
    {
      "cell_type": "code",
      "metadata": {
        "id": "s0hkNM9gpqjG",
        "colab_type": "code",
        "colab": {
          "base_uri": "https://localhost:8080/",
          "height": 35
        },
        "outputId": "4e90a7ff-3cf7-4a48-8fd7-d70dd2f363c7"
      },
      "source": [
        "clf.score(x_pca, y)"
      ],
      "execution_count": null,
      "outputs": [
        {
          "output_type": "execute_result",
          "data": {
            "text/plain": [
              "0.33146821844225605"
            ]
          },
          "metadata": {
            "tags": []
          },
          "execution_count": 24
        }
      ]
    },
    {
      "cell_type": "code",
      "metadata": {
        "id": "pPVwoT3-6tET",
        "colab_type": "code",
        "colab": {}
      },
      "source": [
        "test_result = clf.predict(x_pca)"
      ],
      "execution_count": null,
      "outputs": []
    },
    {
      "cell_type": "code",
      "metadata": {
        "id": "F3QoED_28qe7",
        "colab_type": "code",
        "colab": {}
      },
      "source": [
        "np.save(\"svm测试集结果.npy\", test_result)"
      ],
      "execution_count": null,
      "outputs": []
    },
    {
      "cell_type": "code",
      "metadata": {
        "id": "ZnGUmWaz-FiB",
        "colab_type": "code",
        "colab": {
          "base_uri": "https://localhost:8080/",
          "height": 35
        },
        "outputId": "1c3b2016-298c-47b2-bc3c-d0e71c36f14a"
      },
      "source": [
        "!pwd"
      ],
      "execution_count": null,
      "outputs": [
        {
          "output_type": "stream",
          "text": [
            "/content/drive/My Drive/mechine_learning_cjw/疫情期间网民情绪识别\n"
          ],
          "name": "stdout"
        }
      ]
    },
    {
      "cell_type": "code",
      "metadata": {
        "id": "uAi-IzZi-V6V",
        "colab_type": "code",
        "colab": {}
      },
      "source": [
        ""
      ],
      "execution_count": null,
      "outputs": []
    }
  ]
}